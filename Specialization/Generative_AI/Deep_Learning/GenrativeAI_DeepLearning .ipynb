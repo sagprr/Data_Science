{
  "nbformat": 4,
  "nbformat_minor": 0,
  "metadata": {
    "colab": {
      "provenance": [],
      "gpuType": "T4"
    },
    "kernelspec": {
      "name": "python3",
      "display_name": "Python 3"
    },
    "language_info": {
      "name": "python"
    },
    "accelerator": "GPU"
  },
  "cells": [
    {
      "cell_type": "code",
      "execution_count": 84,
      "metadata": {
        "colab": {
          "base_uri": "https://localhost:8080/"
        },
        "id": "-XPOjOzKiK9F",
        "outputId": "fd89af7f-4f48-4423-e976-4eaf3530951f"
      },
      "outputs": [
        {
          "output_type": "stream",
          "name": "stdout",
          "text": [
            "Requirement already satisfied: tensorflow in /usr/local/lib/python3.10/dist-packages (2.17.0)\n",
            "Requirement already satisfied: absl-py>=1.0.0 in /usr/local/lib/python3.10/dist-packages (from tensorflow) (1.4.0)\n",
            "Requirement already satisfied: astunparse>=1.6.0 in /usr/local/lib/python3.10/dist-packages (from tensorflow) (1.6.3)\n",
            "Requirement already satisfied: flatbuffers>=24.3.25 in /usr/local/lib/python3.10/dist-packages (from tensorflow) (24.3.25)\n",
            "Requirement already satisfied: gast!=0.5.0,!=0.5.1,!=0.5.2,>=0.2.1 in /usr/local/lib/python3.10/dist-packages (from tensorflow) (0.6.0)\n",
            "Requirement already satisfied: google-pasta>=0.1.1 in /usr/local/lib/python3.10/dist-packages (from tensorflow) (0.2.0)\n",
            "Requirement already satisfied: h5py>=3.10.0 in /usr/local/lib/python3.10/dist-packages (from tensorflow) (3.11.0)\n",
            "Requirement already satisfied: libclang>=13.0.0 in /usr/local/lib/python3.10/dist-packages (from tensorflow) (18.1.1)\n",
            "Requirement already satisfied: ml-dtypes<0.5.0,>=0.3.1 in /usr/local/lib/python3.10/dist-packages (from tensorflow) (0.4.1)\n",
            "Requirement already satisfied: opt-einsum>=2.3.2 in /usr/local/lib/python3.10/dist-packages (from tensorflow) (3.4.0)\n",
            "Requirement already satisfied: packaging in /usr/local/lib/python3.10/dist-packages (from tensorflow) (24.1)\n",
            "Requirement already satisfied: protobuf!=4.21.0,!=4.21.1,!=4.21.2,!=4.21.3,!=4.21.4,!=4.21.5,<5.0.0dev,>=3.20.3 in /usr/local/lib/python3.10/dist-packages (from tensorflow) (3.20.3)\n",
            "Requirement already satisfied: requests<3,>=2.21.0 in /usr/local/lib/python3.10/dist-packages (from tensorflow) (2.32.3)\n",
            "Requirement already satisfied: setuptools in /usr/local/lib/python3.10/dist-packages (from tensorflow) (71.0.4)\n",
            "Requirement already satisfied: six>=1.12.0 in /usr/local/lib/python3.10/dist-packages (from tensorflow) (1.16.0)\n",
            "Requirement already satisfied: termcolor>=1.1.0 in /usr/local/lib/python3.10/dist-packages (from tensorflow) (2.5.0)\n",
            "Requirement already satisfied: typing-extensions>=3.6.6 in /usr/local/lib/python3.10/dist-packages (from tensorflow) (4.12.2)\n",
            "Requirement already satisfied: wrapt>=1.11.0 in /usr/local/lib/python3.10/dist-packages (from tensorflow) (1.16.0)\n",
            "Requirement already satisfied: grpcio<2.0,>=1.24.3 in /usr/local/lib/python3.10/dist-packages (from tensorflow) (1.64.1)\n",
            "Requirement already satisfied: tensorboard<2.18,>=2.17 in /usr/local/lib/python3.10/dist-packages (from tensorflow) (2.17.0)\n",
            "Requirement already satisfied: keras>=3.2.0 in /usr/local/lib/python3.10/dist-packages (from tensorflow) (3.4.1)\n",
            "Requirement already satisfied: tensorflow-io-gcs-filesystem>=0.23.1 in /usr/local/lib/python3.10/dist-packages (from tensorflow) (0.37.1)\n",
            "Requirement already satisfied: numpy<2.0.0,>=1.23.5 in /usr/local/lib/python3.10/dist-packages (from tensorflow) (1.26.4)\n",
            "Requirement already satisfied: wheel<1.0,>=0.23.0 in /usr/local/lib/python3.10/dist-packages (from astunparse>=1.6.0->tensorflow) (0.44.0)\n",
            "Requirement already satisfied: rich in /usr/local/lib/python3.10/dist-packages (from keras>=3.2.0->tensorflow) (13.9.2)\n",
            "Requirement already satisfied: namex in /usr/local/lib/python3.10/dist-packages (from keras>=3.2.0->tensorflow) (0.0.8)\n",
            "Requirement already satisfied: optree in /usr/local/lib/python3.10/dist-packages (from keras>=3.2.0->tensorflow) (0.13.0)\n",
            "Requirement already satisfied: charset-normalizer<4,>=2 in /usr/local/lib/python3.10/dist-packages (from requests<3,>=2.21.0->tensorflow) (3.4.0)\n",
            "Requirement already satisfied: idna<4,>=2.5 in /usr/local/lib/python3.10/dist-packages (from requests<3,>=2.21.0->tensorflow) (3.10)\n",
            "Requirement already satisfied: urllib3<3,>=1.21.1 in /usr/local/lib/python3.10/dist-packages (from requests<3,>=2.21.0->tensorflow) (2.2.3)\n",
            "Requirement already satisfied: certifi>=2017.4.17 in /usr/local/lib/python3.10/dist-packages (from requests<3,>=2.21.0->tensorflow) (2024.8.30)\n",
            "Requirement already satisfied: markdown>=2.6.8 in /usr/local/lib/python3.10/dist-packages (from tensorboard<2.18,>=2.17->tensorflow) (3.7)\n",
            "Requirement already satisfied: tensorboard-data-server<0.8.0,>=0.7.0 in /usr/local/lib/python3.10/dist-packages (from tensorboard<2.18,>=2.17->tensorflow) (0.7.2)\n",
            "Requirement already satisfied: werkzeug>=1.0.1 in /usr/local/lib/python3.10/dist-packages (from tensorboard<2.18,>=2.17->tensorflow) (3.0.4)\n",
            "Requirement already satisfied: MarkupSafe>=2.1.1 in /usr/local/lib/python3.10/dist-packages (from werkzeug>=1.0.1->tensorboard<2.18,>=2.17->tensorflow) (3.0.1)\n",
            "Requirement already satisfied: markdown-it-py>=2.2.0 in /usr/local/lib/python3.10/dist-packages (from rich->keras>=3.2.0->tensorflow) (3.0.0)\n",
            "Requirement already satisfied: pygments<3.0.0,>=2.13.0 in /usr/local/lib/python3.10/dist-packages (from rich->keras>=3.2.0->tensorflow) (2.18.0)\n",
            "Requirement already satisfied: mdurl~=0.1 in /usr/local/lib/python3.10/dist-packages (from markdown-it-py>=2.2.0->rich->keras>=3.2.0->tensorflow) (0.1.2)\n"
          ]
        }
      ],
      "source": [
        "pip install tensorflow"
      ]
    },
    {
      "cell_type": "code",
      "source": [
        "from tensorflow.keras.datasets import mnist"
      ],
      "metadata": {
        "id": "KOg1XUUXiNPz"
      },
      "execution_count": 85,
      "outputs": []
    },
    {
      "cell_type": "code",
      "source": [
        "(x_train, y_train), (x_test, y_test) = mnist.load_data()"
      ],
      "metadata": {
        "id": "BqqBBs5KiaGZ"
      },
      "execution_count": 86,
      "outputs": []
    },
    {
      "cell_type": "code",
      "source": [
        "#normalization\n",
        "x_train = x_train / 255\n",
        "x_test = x_test / 255\n",
        "y_train = to_categorical(y_train, num_classes = 10)\n",
        "x_train = to_categorical(x_train, num_classes = 10)"
      ],
      "metadata": {
        "id": "7h-Ac4JCnuIl"
      },
      "execution_count": 87,
      "outputs": []
    },
    {
      "cell_type": "code",
      "source": [
        "import matplotlib.pyplot as plt\n",
        "import matplotlib.pyplot as plt\n",
        "\n",
        "plt.imshow(x_train[5])\n",
        "plt.title(f\"image Label = {y_train[5]}\")\n",
        "\n",
        "plt.show()"
      ],
      "metadata": {
        "colab": {
          "base_uri": "https://localhost:8080/",
          "height": 452
        },
        "id": "JNBk690Rjged",
        "outputId": "689432d0-97a2-424b-d6a8-d712a08a4703"
      },
      "execution_count": 88,
      "outputs": [
        {
          "output_type": "display_data",
          "data": {
            "text/plain": [
              "<Figure size 640x480 with 1 Axes>"
            ],
            "image/png": "[encoded data removed]"
          },
          "metadata": {}
        }
      ]
    },
    {
      "cell_type": "code",
      "source": [
        "from tensorflow.keras.layers import Dense, Flatten\n",
        "from tensorflow.keras.models import Sequential\n",
        "from tensorflow.keras.utils import to_categorical"
      ],
      "metadata": {
        "id": "b2BCU-sFnFZQ"
      },
      "execution_count": 89,
      "outputs": []
    },
    {
      "cell_type": "code",
      "source": [
        "model = Sequential(\n",
        "    [\n",
        "        Flatten(input_shape = (28,28)), #2d to 1d\n",
        "        Dense(256, activation = \"relu\"),\n",
        "        Dense(5, activation = \"relu\"),\n",
        "        Dense(10, activation = \"softmax\")\n",
        "    ]\n",
        ")"
      ],
      "metadata": {
        "id": "P-mB-M5rpRvY"
      },
      "execution_count": 90,
      "outputs": []
    },
    {
      "cell_type": "code",
      "source": [
        "model.summary()"
      ],
      "metadata": {
        "colab": {
          "base_uri": "https://localhost:8080/",
          "height": 265
        },
        "id": "McunW76WpmQ9",
        "outputId": "c8f9e2f2-b0fc-43bd-ef7d-49414271a170"
      },
      "execution_count": 91,
      "outputs": [
        {
          "output_type": "display_data",
          "data": {
            "text/plain": [
              "\u001b[1mModel: \"sequential_13\"\u001b[0m\n"
            ],
            "text/html": [
              "<pre style=\"white-space:pre;overflow-x:auto;line-height:normal;font-family:Menlo,'DejaVu Sans Mono',consolas,'Courier New',monospace\"><span style=\"font-weight: bold\">Model: \"sequential_13\"</span>\n",
              "</pre>\n"
            ]
          },
          "metadata": {}
        },
        {
          "output_type": "display_data",
          "data": {
            "text/plain": [
              "┏━━━━━━━━━━━━━━━━━━━━━━━━━━━━━━━━━━━━━━┳━━━━━━━━━━━━━━━━━━━━━━━━━━━━━┳━━━━━━━━━━━━━━━━━┓\n",
              "┃\u001b[1m \u001b[0m\u001b[1mLayer (type)                        \u001b[0m\u001b[1m \u001b[0m┃\u001b[1m \u001b[0m\u001b[1mOutput Shape               \u001b[0m\u001b[1m \u001b[0m┃\u001b[1m \u001b[0m\u001b[1m        Param #\u001b[0m\u001b[1m \u001b[0m┃\n",
              "┡━━━━━━━━━━━━━━━━━━━━━━━━━━━━━━━━━━━━━━╇━━━━━━━━━━━━━━━━━━━━━━━━━━━━━╇━━━━━━━━━━━━━━━━━┩\n",
              "│ flatten_13 (\u001b[38;5;33mFlatten\u001b[0m)                 │ (\u001b[38;5;45mNone\u001b[0m, \u001b[38;5;34m784\u001b[0m)                 │               \u001b[38;5;34m0\u001b[0m │\n",
              "├──────────────────────────────────────┼─────────────────────────────┼─────────────────┤\n",
              "│ dense_39 (\u001b[38;5;33mDense\u001b[0m)                     │ (\u001b[38;5;45mNone\u001b[0m, \u001b[38;5;34m256\u001b[0m)                 │         \u001b[38;5;34m200,960\u001b[0m │\n",
              "├──────────────────────────────────────┼─────────────────────────────┼─────────────────┤\n",
              "│ dense_40 (\u001b[38;5;33mDense\u001b[0m)                     │ (\u001b[38;5;45mNone\u001b[0m, \u001b[38;5;34m5\u001b[0m)                   │           \u001b[38;5;34m1,285\u001b[0m │\n",
              "├──────────────────────────────────────┼─────────────────────────────┼─────────────────┤\n",
              "│ dense_41 (\u001b[38;5;33mDense\u001b[0m)                     │ (\u001b[38;5;45mNone\u001b[0m, \u001b[38;5;34m10\u001b[0m)                  │              \u001b[38;5;34m60\u001b[0m │\n",
              "└──────────────────────────────────────┴─────────────────────────────┴─────────────────┘\n"
            ],
            "text/html": [
              "<pre style=\"white-space:pre;overflow-x:auto;line-height:normal;font-family:Menlo,'DejaVu Sans Mono',consolas,'Courier New',monospace\">┏━━━━━━━━━━━━━━━━━━━━━━━━━━━━━━━━━━━━━━┳━━━━━━━━━━━━━━━━━━━━━━━━━━━━━┳━━━━━━━━━━━━━━━━━┓\n",
              "┃<span style=\"font-weight: bold\"> Layer (type)                         </span>┃<span style=\"font-weight: bold\"> Output Shape                </span>┃<span style=\"font-weight: bold\">         Param # </span>┃\n",
              "┡━━━━━━━━━━━━━━━━━━━━━━━━━━━━━━━━━━━━━━╇━━━━━━━━━━━━━━━━━━━━━━━━━━━━━╇━━━━━━━━━━━━━━━━━┩\n",
              "│ flatten_13 (<span style=\"color: #0087ff; text-decoration-color: #0087ff\">Flatten</span>)                 │ (<span style=\"color: #00d7ff; text-decoration-color: #00d7ff\">None</span>, <span style=\"color: #00af00; text-decoration-color: #00af00\">784</span>)                 │               <span style=\"color: #00af00; text-decoration-color: #00af00\">0</span> │\n",
              "├──────────────────────────────────────┼─────────────────────────────┼─────────────────┤\n",
              "│ dense_39 (<span style=\"color: #0087ff; text-decoration-color: #0087ff\">Dense</span>)                     │ (<span style=\"color: #00d7ff; text-decoration-color: #00d7ff\">None</span>, <span style=\"color: #00af00; text-decoration-color: #00af00\">256</span>)                 │         <span style=\"color: #00af00; text-decoration-color: #00af00\">200,960</span> │\n",
              "├──────────────────────────────────────┼─────────────────────────────┼─────────────────┤\n",
              "│ dense_40 (<span style=\"color: #0087ff; text-decoration-color: #0087ff\">Dense</span>)                     │ (<span style=\"color: #00d7ff; text-decoration-color: #00d7ff\">None</span>, <span style=\"color: #00af00; text-decoration-color: #00af00\">5</span>)                   │           <span style=\"color: #00af00; text-decoration-color: #00af00\">1,285</span> │\n",
              "├──────────────────────────────────────┼─────────────────────────────┼─────────────────┤\n",
              "│ dense_41 (<span style=\"color: #0087ff; text-decoration-color: #0087ff\">Dense</span>)                     │ (<span style=\"color: #00d7ff; text-decoration-color: #00d7ff\">None</span>, <span style=\"color: #00af00; text-decoration-color: #00af00\">10</span>)                  │              <span style=\"color: #00af00; text-decoration-color: #00af00\">60</span> │\n",
              "└──────────────────────────────────────┴─────────────────────────────┴─────────────────┘\n",
              "</pre>\n"
            ]
          },
          "metadata": {}
        },
        {
          "output_type": "display_data",
          "data": {
            "text/plain": [
              "\u001b[1m Total params: \u001b[0m\u001b[38;5;34m202,305\u001b[0m (790.25 KB)\n"
            ],
            "text/html": [
              "<pre style=\"white-space:pre;overflow-x:auto;line-height:normal;font-family:Menlo,'DejaVu Sans Mono',consolas,'Courier New',monospace\"><span style=\"font-weight: bold\"> Total params: </span><span style=\"color: #00af00; text-decoration-color: #00af00\">202,305</span> (790.25 KB)\n",
              "</pre>\n"
            ]
          },
          "metadata": {}
        },
        {
          "output_type": "display_data",
          "data": {
            "text/plain": [
              "\u001b[1m Trainable params: \u001b[0m\u001b[38;5;34m202,305\u001b[0m (790.25 KB)\n"
            ],
            "text/html": [
              "<pre style=\"white-space:pre;overflow-x:auto;line-height:normal;font-family:Menlo,'DejaVu Sans Mono',consolas,'Courier New',monospace\"><span style=\"font-weight: bold\"> Trainable params: </span><span style=\"color: #00af00; text-decoration-color: #00af00\">202,305</span> (790.25 KB)\n",
              "</pre>\n"
            ]
          },
          "metadata": {}
        },
        {
          "output_type": "display_data",
          "data": {
            "text/plain": [
              "\u001b[1m Non-trainable params: \u001b[0m\u001b[38;5;34m0\u001b[0m (0.00 B)\n"
            ],
            "text/html": [
              "<pre style=\"white-space:pre;overflow-x:auto;line-height:normal;font-family:Menlo,'DejaVu Sans Mono',consolas,'Courier New',monospace\"><span style=\"font-weight: bold\"> Non-trainable params: </span><span style=\"color: #00af00; text-decoration-color: #00af00\">0</span> (0.00 B)\n",
              "</pre>\n"
            ]
          },
          "metadata": {}
        }
      ]
    },
    {
      "cell_type": "code",
      "source": [
        "model.compile(optimizer='adam',loss='categorical_crossentropy',metrics=['accuracy'])"
      ],
      "metadata": {
        "id": "slWBOlpb8CJt"
      },
      "execution_count": 92,
      "outputs": []
    },
    {
      "cell_type": "code",
      "source": [
        "model.fit(x_train,y_train,epochs=5,batch_size=32,verbose=2)"
      ],
      "metadata": {
        "colab": {
          "base_uri": "https://localhost:8080/"
        },
        "id": "pdi4CNky9DLk",
        "outputId": "72149152-c322-44b0-8e0a-54ca4ce9b7aa"
      },
      "execution_count": 93,
      "outputs": [
        {
          "output_type": "stream",
          "name": "stdout",
          "text": [
            "Epoch 1/5\n",
            "1875/1875 - 10s - 5ms/step - accuracy: 0.8479 - loss: 0.5563\n",
            "Epoch 2/5\n",
            "1875/1875 - 4s - 2ms/step - accuracy: 0.9584 - loss: 0.1515\n",
            "Epoch 3/5\n",
            "1875/1875 - 4s - 2ms/step - accuracy: 0.9718 - loss: 0.1027\n",
            "Epoch 4/5\n",
            "1875/1875 - 3s - 2ms/step - accuracy: 0.9778 - loss: 0.0747\n",
            "Epoch 5/5\n",
            "1875/1875 - 3s - 1ms/step - accuracy: 0.9824 - loss: 0.0585\n"
          ]
        },
        {
          "output_type": "execute_result",
          "data": {
            "text/plain": [
              "<keras.src.callbacks.history.History at 0x7f87a8536260>"
            ]
          },
          "metadata": {},
          "execution_count": 93
        }
      ]
    },
    {
      "cell_type": "code",
      "source": [],
      "metadata": {
        "id": "xkaLJ7Kc-CXU"
      },
      "execution_count": 94,
      "outputs": []
    },
    {
      "cell_type": "code",
      "source": [
        "model.save(\"model.h5\")"
      ],
      "metadata": {
        "colab": {
          "base_uri": "https://localhost:8080/"
        },
        "id": "X5XWp4vc-4d7",
        "outputId": "add504b6-4a45-417d-9200-6d83d66be41a"
      },
      "execution_count": 95,
      "outputs": [
        {
          "output_type": "stream",
          "name": "stderr",
          "text": [
            "WARNING:absl:You are saving your model as an HDF5 file via `model.save()` or `keras.saving.save_model(model)`. This file format is considered legacy. We recommend using instead the native Keras format, e.g. `model.save('my_model.keras')` or `keras.saving.save_model(model, 'my_model.keras')`. \n"
          ]
        }
      ]
    },
    {
      "cell_type": "code",
      "source": [
        "model.get_weights()"
      ],
      "metadata": {
        "colab": {
          "base_uri": "https://localhost:8080/"
        },
        "id": "SWwq4GT6--Dx",
        "outputId": "891e8195-37aa-4ac3-955f-e0b8d4dfbde5"
      },
      "execution_count": 96,
      "outputs": [
        {
          "output_type": "execute_result",
          "data": {
            "text/plain": [
              "[array([[ 0.03690027, -0.03461919, -0.0292046 , ..., -0.06597694,\n",
              "          0.00997066,  0.03490706],\n",
              "        [-0.03913094,  0.01556447,  0.03340146, ..., -0.05758879,\n",
              "          0.02618978,  0.03299786],\n",
              "        [-0.05258054, -0.04323595,  0.04560088, ..., -0.01215594,\n",
              "          0.00026425, -0.02422327],\n",
              "        ...,\n",
              "        [ 0.06949238, -0.00120275, -0.06504336, ..., -0.04725287,\n",
              "         -0.02379144,  0.02555391],\n",
              "        [-0.00722549,  0.00961418, -0.06151775, ...,  0.01072723,\n",
              "         -0.03093861, -0.03934959],\n",
              "        [-0.0117073 ,  0.03762476,  0.01232729, ...,  0.07516646,\n",
              "         -0.03646526, -0.0431603 ]], dtype=float32),\n",
              " array([ 2.46956386e-02, -1.03620313e-01, -5.72865084e-02,  3.81607227e-02,\n",
              "         1.38073787e-02, -7.55703673e-02,  3.73220406e-02,  2.46318467e-02,\n",
              "         2.60497462e-02, -6.04943112e-02, -3.20025235e-02, -6.27533123e-02,\n",
              "        -1.64508328e-01, -8.36120099e-02,  7.29553550e-02, -6.12650439e-02,\n",
              "         1.22144289e-01, -6.94937035e-02, -7.65539259e-02,  8.02764222e-02,\n",
              "        -1.64208844e-01,  1.03724234e-01, -1.95992682e-02, -1.40704643e-02,\n",
              "         4.50989336e-01, -1.02240285e-02,  2.70483583e-01, -1.58237383e-01,\n",
              "         1.79562122e-01,  3.01227421e-02,  4.89899248e-01,  8.34650993e-02,\n",
              "         3.05118095e-02, -1.06943615e-01, -1.39217693e-02,  1.92833856e-01,\n",
              "         8.25735405e-02,  2.89736390e-01, -2.55082790e-02,  3.90824638e-02,\n",
              "        -3.93148791e-03,  1.53316520e-02,  1.01414591e-01, -9.89696234e-02,\n",
              "         6.91104233e-02,  1.30915612e-01,  1.78749282e-02,  1.19870648e-01,\n",
              "         1.50745556e-01,  3.19773071e-02, -1.02295717e-02, -4.51293550e-02,\n",
              "         1.01320207e-01,  8.84568915e-02, -9.44389477e-02, -2.86580101e-02,\n",
              "        -2.26965267e-02,  1.28730275e-02,  2.93997731e-02,  6.18508309e-02,\n",
              "         9.17802006e-02, -1.26537383e-01, -3.39272842e-02,  7.61517808e-02,\n",
              "        -1.34225547e-01,  1.01424851e-01,  1.24446832e-01, -4.09135781e-02,\n",
              "        -4.56996746e-02, -2.90207565e-02, -7.78901726e-02, -8.31014756e-03,\n",
              "         7.97736198e-02,  2.06141889e-01, -1.19724445e-01,  1.19788088e-02,\n",
              "         7.14822486e-02,  6.64815754e-02,  4.74584056e-04, -9.07774866e-02,\n",
              "        -1.83163166e-01,  2.20889434e-01,  1.57902509e-01,  8.69869739e-02,\n",
              "         2.31147900e-01,  2.43157908e-01,  6.83829412e-02, -8.18748772e-02,\n",
              "         1.51383847e-01, -9.65665653e-02,  1.48481904e-02, -4.20519663e-03,\n",
              "        -8.54579061e-02, -6.58400282e-02,  4.73984182e-02,  7.91664794e-02,\n",
              "        -1.11021765e-01,  6.57724664e-02, -7.69299269e-02,  3.10602877e-02,\n",
              "         9.41349473e-03,  1.52733415e-01, -9.80210006e-02,  4.23240550e-02,\n",
              "         1.59796868e-02,  2.50376035e-02,  4.80213054e-02,  5.31348109e-01,\n",
              "        -4.11819741e-02,  8.82276446e-02,  1.12580068e-01,  9.27504599e-02,\n",
              "         1.75666884e-01, -1.01220943e-01,  2.83657052e-02,  2.20428914e-01,\n",
              "         1.09616317e-01, -9.43061784e-02, -1.36515005e-02,  2.22156867e-02,\n",
              "        -6.87789991e-02,  1.35540828e-01,  8.60815961e-03,  4.29034978e-02,\n",
              "        -6.58197924e-02,  4.20542695e-02, -1.01026613e-02,  2.53150221e-02,\n",
              "        -1.94399385e-03,  4.67964746e-02, -2.01692566e-01, -9.05399211e-03,\n",
              "        -2.06027012e-02,  1.08990580e-01, -7.44488388e-02, -1.79911777e-02,\n",
              "         1.30060874e-02,  5.13449404e-03,  2.98725367e-02,  7.90175200e-02,\n",
              "         4.53162789e-02,  8.76950379e-03,  4.75603640e-02,  3.44781876e-02,\n",
              "        -6.98272884e-02, -2.03406829e-02, -1.56703703e-02,  4.38657477e-02,\n",
              "         9.42965671e-02,  3.04897595e-02,  4.31742705e-02,  2.52350848e-02,\n",
              "        -7.57160857e-02, -1.19919528e-03,  3.44106525e-01,  7.65062571e-02,\n",
              "        -3.96745317e-02, -1.27422526e-01,  6.15271069e-02, -1.41504228e-01,\n",
              "         1.94299325e-01,  3.40035674e-03, -4.53438796e-02, -5.49779758e-02,\n",
              "         1.23422556e-01,  7.44802281e-02, -5.57213873e-02, -2.27903128e-02,\n",
              "        -2.46586755e-01,  1.64875276e-02,  1.60381615e-01, -3.36717330e-02,\n",
              "        -1.43853500e-01, -1.50831090e-02, -5.48091009e-02, -1.82975009e-02,\n",
              "         2.82558310e-03, -1.06015138e-01,  3.07291020e-02,  1.78718492e-02,\n",
              "        -8.22256133e-02,  1.37739837e-01, -4.53573801e-02,  1.89896211e-01,\n",
              "         9.19924900e-02, -8.03962424e-02, -1.88880903e-03,  1.39283329e-01,\n",
              "        -4.30540703e-02, -1.63996462e-02,  3.17179747e-02,  4.40848134e-02,\n",
              "         1.44941136e-01, -6.95235133e-02,  4.85125631e-02,  5.17721549e-02,\n",
              "         5.90955950e-02,  2.80574318e-02,  4.89851907e-02,  3.24327610e-02,\n",
              "         3.25419717e-02, -1.85674325e-01,  1.31596774e-01,  9.47964862e-02,\n",
              "         4.33739200e-02,  2.80625105e-01,  1.42782882e-01, -1.15279563e-01,\n",
              "        -9.77414027e-02,  1.82502065e-02, -1.16305575e-01, -1.18275121e-01,\n",
              "        -1.22414744e-02, -1.87518999e-01,  2.33224183e-02, -8.85634497e-02,\n",
              "         8.27442631e-02,  5.59324287e-02,  5.75023238e-03,  4.49928977e-02,\n",
              "         9.64839384e-02, -1.66550875e-01,  1.24411620e-02, -1.42613679e-01,\n",
              "        -7.48121142e-02, -5.60950711e-02,  5.54171801e-02,  1.03250623e-01,\n",
              "        -7.34578520e-02, -3.95644940e-02,  2.43911833e-01, -6.19605742e-02,\n",
              "        -8.74397606e-02, -7.80482143e-02, -1.66649721e-03,  3.35003525e-01,\n",
              "        -5.75273782e-02,  2.22638726e-01, -5.22749871e-02, -3.96571234e-02,\n",
              "        -1.37789352e-02,  4.36141849e-01,  6.39488921e-02, -2.75168754e-02,\n",
              "         2.99946647e-02, -1.03482706e-02,  2.16153320e-02,  4.68798280e-02,\n",
              "        -7.52613023e-02, -4.02745493e-02,  3.77175249e-02, -3.81332524e-02,\n",
              "        -9.39878672e-02,  3.94358225e-02,  1.84160784e-01,  3.69739416e-03],\n",
              "       dtype=float32),\n",
              " array([[ 0.05027629,  0.20315821,  0.00922736,  0.13473016, -0.13269915],\n",
              "        [ 0.07476906, -0.21779697,  0.2987658 ,  0.3720623 , -0.49293348],\n",
              "        [ 0.17248367, -0.00838014, -0.39936426, -0.37115508, -0.05371887],\n",
              "        ...,\n",
              "        [ 0.18172559,  0.26341906,  0.46732557, -0.08565966, -0.16860144],\n",
              "        [ 0.48745313,  0.07122823,  0.37680945, -0.04938649, -0.02710207],\n",
              "        [-0.12153509,  0.31234038,  0.13404992,  0.21755634,  0.34842563]],\n",
              "       dtype=float32),\n",
              " array([0.23494531, 0.01651663, 0.04049437, 0.06961141, 0.16667949],\n",
              "       dtype=float32),\n",
              " array([[-0.81367475,  0.35121283, -0.6430823 ,  0.2534432 , -0.5629722 ,\n",
              "         -0.39979228, -0.9161709 ,  0.25773603,  0.7808471 , -0.14045793],\n",
              "        [-0.5935031 ,  0.12322079,  0.77125555,  0.68524253, -0.23454505,\n",
              "         -0.31705615, -0.55427366, -0.34237298, -0.6570618 ,  0.41323832],\n",
              "        [-0.46825662,  0.39941585, -0.7087839 , -0.6247157 ,  0.5989834 ,\n",
              "         -0.5945537 ,  0.4293976 , -0.25126937, -0.43264753, -0.01797512],\n",
              "        [ 0.7353678 , -0.7687914 ,  0.23251645, -0.5439528 , -0.09749933,\n",
              "         -0.32989848, -0.6733763 ,  0.45918098, -0.3123934 , -0.0553926 ],\n",
              "        [-0.20700262, -0.6506224 ,  0.33043242,  0.43284515, -0.1885454 ,\n",
              "          1.0420758 ,  0.6752062 , -0.58666265,  0.31393602,  0.1645047 ]],\n",
              "       dtype=float32),\n",
              " array([ 0.9764331 ,  1.033115  , -0.15870915, -0.401959  , -0.79845995,\n",
              "         0.19919525,  0.00838378, -0.8433359 , -0.17275259, -0.9167637 ],\n",
              "       dtype=float32)]"
            ]
          },
          "metadata": {},
          "execution_count": 96
        }
      ]
    },
    {
      "cell_type": "code",
      "source": [],
      "metadata": {
        "id": "hTeP3sXe-_s5"
      },
      "execution_count": 96,
      "outputs": []
    }
  ]
}