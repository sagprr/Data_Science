{
  "nbformat": 4,
  "nbformat_minor": 0,
  "metadata": {
    "colab": {
      "provenance": []
    },
    "kernelspec": {
      "name": "python3",
      "display_name": "Python 3"
    },
    "language_info": {
      "name": "python"
    }
  },
  "cells": [
    {
      "cell_type": "code",
      "execution_count": 1,
      "metadata": {
        "id": "gtqRhyDraFjF"
      },
      "outputs": [],
      "source": [
        "import cv2 as cv\n",
        "import numpy as np\n",
        "import matplotlib.pyplot as plt"
      ]
    },
    {
      "cell_type": "code",
      "source": [
        "#lesser value more darker color"
      ],
      "metadata": {
        "id": "OonlhGBPaYXT"
      },
      "execution_count": 2,
      "outputs": []
    },
    {
      "cell_type": "code",
      "source": [
        "arr = np.array([\n",
        "    [1,0,1,0]\n",
        "    ,[0,1,0,1],\n",
        "     [1,0,1,0],\n",
        "      [0,1,0,1]])\n",
        "\n",
        "plt.imshow(arr)"
      ],
      "metadata": {
        "colab": {
          "base_uri": "https://localhost:8080/",
          "height": 453
        },
        "id": "cxI0hYlEaajd",
        "outputId": "02fff88a-c7a7-4c91-b510-263681d41ac4"
      },
      "execution_count": 3,
      "outputs": [
        {
          "output_type": "execute_result",
          "data": {
            "text/plain": [
              "<matplotlib.image.AxesImage at 0x7b82a351d9c0>"
            ]
          },
          "metadata": {},
          "execution_count": 3
        },
        {
          "output_type": "display_data",
          "data": {
            "text/plain": [
              "<Figure size 640x480 with 1 Axes>"
            ],
            "image/png": "[encoded data removed]"
          },
          "metadata": {}
        }
      ]
    },
    {
      "cell_type": "code",
      "source": [
        "#Lets Create high pixel density images\n",
        "#1280*720\n",
        "\n",
        "img = []\n",
        "for i in range(720):\n",
        "    temp = []\n",
        "    for j in range(1280):\n",
        "        temp.append(255) ##changing colors\n",
        "    img.append(temp)\n",
        "\n",
        "img = np.array(img)"
      ],
      "metadata": {
        "id": "UWRalBlubGPy"
      },
      "execution_count": 10,
      "outputs": []
    },
    {
      "cell_type": "code",
      "source": [
        "cv.imwrite('Gray_3.png',img)"
      ],
      "metadata": {
        "colab": {
          "base_uri": "https://localhost:8080/"
        },
        "id": "LHpttYqdbMyX",
        "outputId": "7720ba58-dd39-4bd2-add0-4bc365544050"
      },
      "execution_count": 11,
      "outputs": [
        {
          "output_type": "execute_result",
          "data": {
            "text/plain": [
              "True"
            ]
          },
          "metadata": {},
          "execution_count": 11
        }
      ]
    },
    {
      "cell_type": "code",
      "source": [
        "arr = np.array(\n",
        "    [\n",
        "    [0,0,0,0],\n",
        "    [20,20,20,20],\n",
        "    [50,50,50,50],\n",
        "    [100,100,100,100] ])\n",
        "\n",
        "plt.imshow(arr)"
      ],
      "metadata": {
        "colab": {
          "base_uri": "https://localhost:8080/",
          "height": 453
        },
        "id": "hPUEg6thbUBd",
        "outputId": "91d4b735-89aa-49c1-c4d3-5c2081b3a96d"
      },
      "execution_count": 18,
      "outputs": [
        {
          "output_type": "execute_result",
          "data": {
            "text/plain": [
              "<matplotlib.image.AxesImage at 0x7b82a366aec0>"
            ]
          },
          "metadata": {},
          "execution_count": 18
        },
        {
          "output_type": "display_data",
          "data": {
            "text/plain": [
              "<Figure size 640x480 with 1 Axes>"
            ],
            "image/png": "[encoded data removed]"
          },
          "metadata": {}
        }
      ]
    },
    {
      "cell_type": "code",
      "source": [
        "cv.imwrite('Gray_5.png',arr)"
      ],
      "metadata": {
        "colab": {
          "base_uri": "https://localhost:8080/"
        },
        "id": "O56ug-lpb-Dj",
        "outputId": "182de1bd-4f33-4650-dfe4-084191d6c408"
      },
      "execution_count": 19,
      "outputs": [
        {
          "output_type": "execute_result",
          "data": {
            "text/plain": [
              "True"
            ]
          },
          "metadata": {},
          "execution_count": 19
        }
      ]
    },
    {
      "cell_type": "code",
      "source": [
        "#Lets Create high pixel density images\n",
        "#1280*720\n",
        "\n",
        "lst = []\n",
        "for i in range(256):\n",
        "    temp = []\n",
        "    for j in range(256):\n",
        "        temp.append(i) ##changing colors\n",
        "    lst.append(temp)\n",
        "\n",
        "img = np.array(lst)"
      ],
      "metadata": {
        "id": "RYJh0WdXcA4E"
      },
      "execution_count": 21,
      "outputs": []
    },
    {
      "cell_type": "code",
      "source": [
        "cv.imwrite('Gray_6.png',img)"
      ],
      "metadata": {
        "colab": {
          "base_uri": "https://localhost:8080/"
        },
        "id": "uo8oSfzAdIDm",
        "outputId": "bc474c9c-9cc3-46d8-a610-d31e5e3574be"
      },
      "execution_count": 23,
      "outputs": [
        {
          "output_type": "execute_result",
          "data": {
            "text/plain": [
              "True"
            ]
          },
          "metadata": {},
          "execution_count": 23
        }
      ]
    },
    {
      "cell_type": "code",
      "source": [],
      "metadata": {
        "id": "ksTFa3afdPu1"
      },
      "execution_count": null,
      "outputs": []
    }
  ]
}