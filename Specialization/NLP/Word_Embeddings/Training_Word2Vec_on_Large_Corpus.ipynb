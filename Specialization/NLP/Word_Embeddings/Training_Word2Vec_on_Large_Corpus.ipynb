{
  "nbformat": 4,
  "nbformat_minor": 0,
  "metadata": {
    "colab": {
      "provenance": [],
      "gpuType": "T4"
    },
    "kernelspec": {
      "name": "python3",
      "display_name": "Python 3"
    },
    "language_info": {
      "name": "python"
    },
    "accelerator": "GPU"
  },
  "cells": [
    {
      "cell_type": "code",
      "execution_count": 1,
      "metadata": {
        "id": "3MsdKDS4Eigp"
      },
      "outputs": [],
      "source": [
        "import gensim.downloader as api\n",
        "from gensim.models import Word2Vec"
      ]
    },
    {
      "cell_type": "code",
      "source": [
        "# print(api.info()['corpora'])"
      ],
      "metadata": {
        "id": "9MNUY3e2qMix"
      },
      "execution_count": 2,
      "outputs": []
    },
    {
      "cell_type": "code",
      "source": [
        "corpus = api.load('text8')\n",
        "corpus = [word  for word in corpus]\n",
        "\n",
        "corpora = ''\n",
        "for corp in corpus:\n",
        "  corpora += ' '.join(corp)\n",
        "\n",
        "print('Corpus Size : ' , len(corpora.split(' ')))\n",
        "print('Vocab Size  : ' , len(set(corpora.split(' '))))\n",
        "\n",
        "del corpora\n",
        "\n",
        "model = Word2Vec( corpus, min_count = 5, vector_size = 300, window = 3, sg = 0, epochs = 5)"
      ],
      "metadata": {
        "colab": {
          "base_uri": "https://localhost:8080/"
        },
        "id": "iJIsNND-qPq-",
        "outputId": "e37be1e4-a439-4ea8-f158-6ba66f271ad2"
      },
      "execution_count": 3,
      "outputs": [
        {
          "output_type": "stream",
          "name": "stdout",
          "text": [
            "[==================================================] 100.0% 31.6/31.6MB downloaded\n",
            "Corpus Size :  17003507\n",
            "Vocab Size  :  255310\n"
          ]
        }
      ]
    },
    {
      "cell_type": "code",
      "source": [
        "model.wv.most_similar('first', topn = 10)"
      ],
      "metadata": {
        "colab": {
          "base_uri": "https://localhost:8080/"
        },
        "id": "61LWlQLaqWYO",
        "outputId": "b2a480de-c9b1-4b06-a6da-ad0ba22c8307"
      },
      "execution_count": 4,
      "outputs": [
        {
          "output_type": "execute_result",
          "data": {
            "text/plain": [
              "[('last', 0.5952563881874084),\n",
              " ('second', 0.5909400582313538),\n",
              " ('fourth', 0.544870913028717),\n",
              " ('third', 0.5311499834060669),\n",
              " ('fifth', 0.49003541469573975),\n",
              " ('sixth', 0.485076367855072),\n",
              " ('next', 0.47781848907470703),\n",
              " ('earliest', 0.46787217259407043),\n",
              " ('final', 0.45848554372787476),\n",
              " ('youngest', 0.4158151149749756)]"
            ]
          },
          "metadata": {},
          "execution_count": 4
        }
      ]
    },
    {
      "cell_type": "code",
      "source": [
        "len(model.wv.index_to_key)"
      ],
      "metadata": {
        "colab": {
          "base_uri": "https://localhost:8080/"
        },
        "id": "r8ndiCl1qies",
        "outputId": "5b1c82f0-6c8d-4f46-e010-d29f7d906a1f"
      },
      "execution_count": 5,
      "outputs": [
        {
          "output_type": "execute_result",
          "data": {
            "text/plain": [
              "71290"
            ]
          },
          "metadata": {},
          "execution_count": 5
        }
      ]
    },
    {
      "cell_type": "code",
      "source": [],
      "metadata": {
        "id": "Wdy-sYV5qkJj"
      },
      "execution_count": null,
      "outputs": []
    }
  ]
}