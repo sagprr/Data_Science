{
  "nbformat": 4,
  "nbformat_minor": 0,
  "metadata": {
    "colab": {
      "provenance": [],
      "gpuType": "T4"
    },
    "kernelspec": {
      "name": "python3",
      "display_name": "Python 3"
    },
    "language_info": {
      "name": "python"
    },
    "accelerator": "GPU"
  },
  "cells": [
    {
      "cell_type": "code",
      "execution_count": 1,
      "metadata": {
        "id": "nEIVr9p9fgzt"
      },
      "outputs": [],
      "source": [
        "from gensim.models import Word2Vec"
      ]
    },
    {
      "cell_type": "code",
      "source": [
        "sentences = [['human', 'interface', 'computer'],\n",
        "            ['survey', 'user', 'computer', 'system', 'response', 'time'],\n",
        "            ['eps', 'user', 'interface', 'system'],\n",
        "            ['system', 'human', 'system', 'eps'],\n",
        "            ['user', 'response', 'time'],\n",
        "            ['trees'],\n",
        "            ['graph', 'trees'],\n",
        "            ['graph', 'minors', 'trees'],\n",
        "            ['graph', 'minors', 'survey']]"
      ],
      "metadata": {
        "id": "K1DpQURKhOZK"
      },
      "execution_count": 2,
      "outputs": []
    },
    {
      "cell_type": "code",
      "source": [
        "model = Word2Vec(sentences = sentences, min_count = 1, vector_size = 10)"
      ],
      "metadata": {
        "id": "YSlPOn-GhRRM"
      },
      "execution_count": 3,
      "outputs": []
    },
    {
      "cell_type": "code",
      "source": [
        "print(model.wv['graph'])"
      ],
      "metadata": {
        "colab": {
          "base_uri": "https://localhost:8080/"
        },
        "id": "cdlnJqrVhVcO",
        "outputId": "365cc01e-f961-4224-8968-c785b7f594ed"
      },
      "execution_count": 4,
      "outputs": [
        {
          "output_type": "stream",
          "name": "stdout",
          "text": [
            "[ 0.07380505 -0.01533471 -0.04536613  0.06554051 -0.0486016  -0.01816018\n",
            "  0.0287658   0.00991874 -0.08285215 -0.09448818]\n"
          ]
        }
      ]
    },
    {
      "cell_type": "code",
      "source": [
        "model.wv.similarity('trees','trees')"
      ],
      "metadata": {
        "colab": {
          "base_uri": "https://localhost:8080/"
        },
        "id": "KZl-JvObhZa5",
        "outputId": "486957d5-2b72-414e-96c3-e3c1f9c26c40"
      },
      "execution_count": 5,
      "outputs": [
        {
          "output_type": "execute_result",
          "data": {
            "text/plain": [
              "0.99999994"
            ]
          },
          "metadata": {},
          "execution_count": 5
        }
      ]
    },
    {
      "cell_type": "code",
      "source": [
        "model.wv.most_similar('trees', topn = 10)"
      ],
      "metadata": {
        "colab": {
          "base_uri": "https://localhost:8080/"
        },
        "id": "dKQ9h5tghdOR",
        "outputId": "8df8c094-6828-4357-af6c-59470544fafa"
      },
      "execution_count": 7,
      "outputs": [
        {
          "output_type": "execute_result",
          "data": {
            "text/plain": [
              "[('time', 0.2941223680973053),\n",
              " ('survey', 0.20713211596012115),\n",
              " ('interface', 0.19897902011871338),\n",
              " ('system', 0.10494355112314224),\n",
              " ('minors', 0.09267307072877884),\n",
              " ('user', -0.1055692806839943),\n",
              " ('response', -0.11390184611082077),\n",
              " ('graph', -0.21133744716644287),\n",
              " ('computer', -0.2315719723701477),\n",
              " ('human', -0.3105906844139099)]"
            ]
          },
          "metadata": {},
          "execution_count": 7
        }
      ]
    },
    {
      "cell_type": "code",
      "source": [],
      "metadata": {
        "id": "-n-TvhGyhhx9"
      },
      "execution_count": null,
      "outputs": []
    }
  ]
}