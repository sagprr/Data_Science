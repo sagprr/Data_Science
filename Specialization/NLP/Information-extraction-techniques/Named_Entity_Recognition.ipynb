{
  "nbformat": 4,
  "nbformat_minor": 0,
  "metadata": {
    "colab": {
      "provenance": []
    },
    "kernelspec": {
      "name": "python3",
      "display_name": "Python 3"
    },
    "language_info": {
      "name": "python"
    }
  },
  "cells": [
    {
      "cell_type": "code",
      "execution_count": 1,
      "metadata": {
        "id": "cIoyj1Ib97yr"
      },
      "outputs": [],
      "source": [
        "import spacy\n",
        "nlp=spacy.load('en_core_web_sm')\n",
        "import warnings\n",
        "warnings.filterwarnings('ignore')"
      ]
    },
    {
      "cell_type": "code",
      "source": [
        "doc = nlp(\"Capturedbyengineer is a good guy and it captures the life around it , resolving around.\")\n",
        "\n",
        "def show_entities(doc):\n",
        "    if doc.ents:\n",
        "        for ent in doc.ents:\n",
        "            print(ent.text+' | '+ent.label_+' | '+str(spacy.explain(ent.label_)))\n",
        "    else:\n",
        "        print('No named entities found.')\n",
        "\n",
        "show_entities(doc)\n"
      ],
      "metadata": {
        "colab": {
          "base_uri": "https://localhost:8080/"
        },
        "id": "-C5tPz1BLjwj",
        "outputId": "6d74ced8-68ba-4fcd-c7b6-f182c015f5eb"
      },
      "execution_count": 2,
      "outputs": [
        {
          "output_type": "stream",
          "name": "stdout",
          "text": [
            "Capturedbyengineer | PERSON | People, including fictional\n"
          ]
        }
      ]
    },
    {
      "cell_type": "code",
      "source": [
        "show_entities(nlp(\"Earth is round!\"))"
      ],
      "metadata": {
        "colab": {
          "base_uri": "https://localhost:8080/"
        },
        "id": "S732rHzjL5of",
        "outputId": "87b5115a-9e62-4b20-b1df-9cacdbaad6aa"
      },
      "execution_count": 3,
      "outputs": [
        {
          "output_type": "stream",
          "name": "stdout",
          "text": [
            "Earth | LOC | Non-GPE locations, mountain ranges, bodies of water\n"
          ]
        }
      ]
    },
    {
      "cell_type": "code",
      "source": [
        "show_entities(nlp(\"Mountain is Huge!\"))"
      ],
      "metadata": {
        "colab": {
          "base_uri": "https://localhost:8080/"
        },
        "id": "qwjPjV43-McD",
        "outputId": "f4d8e60c-295a-40ac-a0d3-d55562c0e1de"
      },
      "execution_count": 4,
      "outputs": [
        {
          "output_type": "stream",
          "name": "stdout",
          "text": [
            "No named entities found.\n"
          ]
        }
      ]
    },
    {
      "cell_type": "code",
      "source": [
        "#Adding new entity\n",
        "show_entities(nlp(\"Capturedby provides us best processors\"))"
      ],
      "metadata": {
        "colab": {
          "base_uri": "https://localhost:8080/"
        },
        "id": "ChZSI7DlLQYT",
        "outputId": "043b2abe-c471-4d90-f399-08bc3579e932"
      },
      "execution_count": 5,
      "outputs": [
        {
          "output_type": "stream",
          "name": "stdout",
          "text": [
            "Capturedby | ORG | Companies, agencies, institutions, etc.\n"
          ]
        }
      ]
    },
    {
      "cell_type": "code",
      "source": [
        "from spacy.tokens import Span as sp\n",
        "\n",
        "doc = nlp(\"Iphones provides us best processors\")\n",
        "ORG = doc.vocab.strings[u'ORG']\n",
        "\n",
        "new_ent = sp(doc,0,1,label= doc.vocab.strings['ORG'])\n",
        "\n",
        "\n",
        "#doc.ents = list(doc.ents) + [new_ent]\n",
        "show_entities(doc)\n"
      ],
      "metadata": {
        "colab": {
          "base_uri": "https://localhost:8080/"
        },
        "id": "r_i10GbtNatA",
        "outputId": "df3e5afc-3826-4a59-ff68-8dcc82dae7a0"
      },
      "execution_count": 6,
      "outputs": [
        {
          "output_type": "stream",
          "name": "stdout",
          "text": [
            "Iphones | ORG | Companies, agencies, institutions, etc.\n"
          ]
        }
      ]
    },
    {
      "cell_type": "code",
      "source": [
        "#add multiple words as an entity"
      ],
      "metadata": {
        "id": "xdta0eDgNiIo"
      },
      "execution_count": 7,
      "outputs": []
    },
    {
      "cell_type": "code",
      "source": [],
      "metadata": {
        "id": "V6VJKgOdPmJI"
      },
      "execution_count": 7,
      "outputs": []
    },
    {
      "cell_type": "code",
      "source": [],
      "metadata": {
        "id": "z_CEVj8QPojn"
      },
      "execution_count": 7,
      "outputs": []
    }
  ]
}