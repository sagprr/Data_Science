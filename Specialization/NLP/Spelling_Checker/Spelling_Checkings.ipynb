{
  "nbformat": 4,
  "nbformat_minor": 0,
  "metadata": {
    "colab": {
      "provenance": []
    },
    "kernelspec": {
      "name": "python3",
      "display_name": "Python 3"
    },
    "language_info": {
      "name": "python"
    }
  },
  "cells": [
    {
      "cell_type": "code",
      "execution_count": 10,
      "metadata": {
        "colab": {
          "base_uri": "https://localhost:8080/"
        },
        "id": "wpQpZGPn7vj9",
        "outputId": "2ad19cd6-c69d-4968-e83f-e3546e64256f"
      },
      "outputs": [
        {
          "output_type": "stream",
          "name": "stdout",
          "text": [
            "1115585\n",
            "Vocabluray of the dataset: 32198\n"
          ]
        }
      ],
      "source": [
        "import re\n",
        "import pandas as pd\n",
        "from tqdm import tqdm\n",
        "with open('big.txt','r') as fd:\n",
        "    lines = fd.readlines()\n",
        "    words = []\n",
        "    for line in lines:\n",
        "        words += re.findall('\\w+',line.lower())\n",
        "\n",
        "print(len(words))\n",
        "vocab = list(set(words))\n",
        "print( \"Vocabluray of the dataset:\",len(vocab))"
      ]
    },
    {
      "cell_type": "code",
      "source": [
        "# Finding the Probability Distribution\n",
        "word_probability = {}\n",
        "\n",
        "for word in tqdm(vocab):\n",
        "    word_probability[word] = float(words.count(word)/len(words))"
      ],
      "metadata": {
        "colab": {
          "base_uri": "https://localhost:8080/"
        },
        "id": "fKIicTtP8ehQ",
        "outputId": "b5d49fa8-43fa-4d30-9ca9-8da7a2a3012a"
      },
      "execution_count": 6,
      "outputs": [
        {
          "output_type": "stream",
          "name": "stderr",
          "text": [
            "100%|██████████| 32198/32198 [13:21<00:00, 40.19it/s]\n"
          ]
        }
      ]
    },
    {
      "cell_type": "code",
      "source": [
        "#Text Preprocessing\n",
        "#splitting\n",
        "\n",
        "def split(word):\n",
        "    parts = []\n",
        "    for i in range(len(word) + 1):\n",
        "        parts += [(word[ : i], word[i : ])]\n",
        "    return parts"
      ],
      "metadata": {
        "id": "TQMUOb8b9OwW"
      },
      "execution_count": 11,
      "outputs": []
    },
    {
      "cell_type": "code",
      "source": [
        "def delete(word):\n",
        "\n",
        "    output = []\n",
        "    for l,r in split(word):\n",
        "        output.append(l + r[1:])\n",
        "    return output\n",
        "\n",
        "delete('loave')"
      ],
      "metadata": {
        "colab": {
          "base_uri": "https://localhost:8080/"
        },
        "id": "lJ7nfhig9Yve",
        "outputId": "5efc6585-9b98-415c-856a-0996cfcd0c19"
      },
      "execution_count": 12,
      "outputs": [
        {
          "output_type": "execute_result",
          "data": {
            "text/plain": [
              "['oave', 'lave', 'love', 'loae', 'loav', 'loave']"
            ]
          },
          "metadata": {},
          "execution_count": 12
        }
      ]
    },
    {
      "cell_type": "code",
      "source": [
        "#swapping\n",
        "\n",
        "def swap(word):\n",
        "\n",
        "    output = []\n",
        "    for l,r in split(word):\n",
        "        if (len(r) > 1):\n",
        "            output.append(l + r[1] + r[0] + r[2:])\n",
        "    return output\n",
        "\n",
        "swap('lvoe')\n"
      ],
      "metadata": {
        "colab": {
          "base_uri": "https://localhost:8080/"
        },
        "id": "8CmWh6zm9twL",
        "outputId": "7d66c1ac-b85d-4017-a26d-f41a8fa651c9"
      },
      "execution_count": 13,
      "outputs": [
        {
          "output_type": "execute_result",
          "data": {
            "text/plain": [
              "['vloe', 'love', 'lveo']"
            ]
          },
          "metadata": {},
          "execution_count": 13
        }
      ]
    },
    {
      "cell_type": "code",
      "source": [
        "#replace\n",
        "def replace(word):\n",
        "\n",
        "    characters = 'abcdefghijklmnopqrstuvwxyz'\n",
        "    output = []\n",
        "\n",
        "    for l,r in split(word):\n",
        "        for char in characters:\n",
        "            output.append(l + char +  r[1:])\n",
        "    return output\n",
        "\n",
        "len(replace('lave'))"
      ],
      "metadata": {
        "colab": {
          "base_uri": "https://localhost:8080/"
        },
        "id": "A72ONS9DX8S3",
        "outputId": "5740b116-a701-4a8e-8a87-781b7bb06bdc"
      },
      "execution_count": 14,
      "outputs": [
        {
          "output_type": "execute_result",
          "data": {
            "text/plain": [
              "130"
            ]
          },
          "metadata": {},
          "execution_count": 14
        }
      ]
    },
    {
      "cell_type": "code",
      "source": [
        "#insert\n",
        "def insert(word):\n",
        "\n",
        "    characters = 'abcdefghijklmnopqrstuvwxyz'\n",
        "    output = []\n",
        "\n",
        "    for l,r in split(word):\n",
        "        for char in characters:\n",
        "            output.append(l + char + r)\n",
        "\n",
        "    return output\n",
        "\n",
        "len(insert('lve'))"
      ],
      "metadata": {
        "colab": {
          "base_uri": "https://localhost:8080/"
        },
        "id": "7rzds1xAYBfa",
        "outputId": "0786fb1e-9f5e-43cf-c891-2468beb119d6"
      },
      "execution_count": 15,
      "outputs": [
        {
          "output_type": "execute_result",
          "data": {
            "text/plain": [
              "104"
            ]
          },
          "metadata": {},
          "execution_count": 15
        }
      ]
    },
    {
      "cell_type": "code",
      "source": [
        "#Finding the Prediction (Level - 1)\n",
        "#.1) Combining Possible Words\n",
        "\n",
        "\n",
        "def edit(word):\n",
        "    return list(set(insert(word) + delete(word) + swap(word) + replace(word)))\n"
      ],
      "metadata": {
        "colab": {
          "base_uri": "https://localhost:8080/",
          "height": 180
        },
        "id": "9VIkYfPRYIRT",
        "outputId": "dce77197-f8b1-4ffe-bf8c-8920813793bf"
      },
      "execution_count": 16,
      "outputs": [
        {
          "output_type": "error",
          "ename": "NameError",
          "evalue": "name 'spell_check_edit_1' is not defined",
          "traceback": [
            "\u001b[0;31m---------------------------------------------------------------------------\u001b[0m",
            "\u001b[0;31mNameError\u001b[0m                                 Traceback (most recent call last)",
            "\u001b[0;32m<ipython-input-16-14d1fcfb6cf4>\u001b[0m in \u001b[0;36m<cell line: 10>\u001b[0;34m()\u001b[0m\n\u001b[1;32m      8\u001b[0m \u001b[0;34m\u001b[0m\u001b[0m\n\u001b[1;32m      9\u001b[0m \u001b[0;34m\u001b[0m\u001b[0m\n\u001b[0;32m---> 10\u001b[0;31m \u001b[0mspell_check_edit_1\u001b[0m\u001b[0;34m(\u001b[0m\u001b[0;34m'famili'\u001b[0m\u001b[0;34m)\u001b[0m\u001b[0;34m\u001b[0m\u001b[0;34m\u001b[0m\u001b[0m\n\u001b[0m",
            "\u001b[0;31mNameError\u001b[0m: name 'spell_check_edit_1' is not defined"
          ]
        }
      ]
    },
    {
      "cell_type": "code",
      "source": [
        "#Predicting the Word\n",
        "def spell_check_edit_1(word, count = 5):\n",
        "\n",
        "    output = []\n",
        "    suggested_words = edit(word)\n",
        "\n",
        "    for wrd in suggested_words:\n",
        "        if wrd in word_probability.keys():\n",
        "            output.append([wrd, word_probability[wrd]])\n",
        "\n",
        "    return list(pd.DataFrame(output, columns = ['word','prob']).sort_values(by = 'prob', ascending = False).head(count)['word'].values)"
      ],
      "metadata": {
        "id": "D-WxUgH8YZuG"
      },
      "execution_count": 17,
      "outputs": []
    },
    {
      "cell_type": "code",
      "source": [
        "spell_check_edit_1('famili')"
      ],
      "metadata": {
        "colab": {
          "base_uri": "https://localhost:8080/"
        },
        "id": "pPhTPJBDYZ3x",
        "outputId": "b9d67634-0fea-41d2-f7c8-b8ee69e0e8b6"
      },
      "execution_count": 18,
      "outputs": [
        {
          "output_type": "execute_result",
          "data": {
            "text/plain": [
              "['family']"
            ]
          },
          "metadata": {},
          "execution_count": 18
        }
      ]
    },
    {
      "cell_type": "code",
      "source": [
        "def spell_check_edit_2(word, count = 5):\n",
        "\n",
        "    output = []\n",
        "    suggested_words = edit(word)       # Level one Edit\n",
        "\n",
        "    for e1 in edit(word):\n",
        "        suggested_words += edit(e1)    # Second Level Edit\n",
        "\n",
        "    suggested_words = list(set(suggested_words))\n",
        "\n",
        "    for wrd in suggested_words:\n",
        "        if wrd in word_probability.keys():\n",
        "            output.append([wrd, word_probability[wrd]])\n",
        "    return list(pd.DataFrame(output, columns = ['word','prob']).sort_values(by = 'prob', ascending = False).head(count)['word'].values)\n",
        "\n",
        "spell_check_edit_2('fameli')"
      ],
      "metadata": {
        "colab": {
          "base_uri": "https://localhost:8080/"
        },
        "id": "g6Ean9OjYcaW",
        "outputId": "9bfa360d-c0c0-41a0-8e50-9fc8f29ca707"
      },
      "execution_count": 19,
      "outputs": [
        {
          "output_type": "execute_result",
          "data": {
            "text/plain": [
              "['family', 'namely', 'fame', 'camelia', 'camel']"
            ]
          },
          "metadata": {},
          "execution_count": 19
        }
      ]
    },
    {
      "cell_type": "code",
      "source": [],
      "metadata": {
        "id": "gcmANMaMYpFo"
      },
      "execution_count": null,
      "outputs": []
    }
  ]
}