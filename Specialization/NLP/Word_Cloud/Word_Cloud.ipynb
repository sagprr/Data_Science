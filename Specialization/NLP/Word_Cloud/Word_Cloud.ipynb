{
  "nbformat": 4,
  "nbformat_minor": 0,
  "metadata": {
    "colab": {
      "provenance": []
    },
    "kernelspec": {
      "name": "python3",
      "display_name": "Python 3"
    },
    "language_info": {
      "name": "python"
    }
  },
  "cells": [
    {
      "cell_type": "code",
      "execution_count": 37,
      "metadata": {
        "colab": {
          "base_uri": "https://localhost:8080/"
        },
        "id": "SRodaD2QxM4U",
        "outputId": "0c1888c3-25d6-4e8f-f357-7d7e401b1a7b"
      },
      "outputs": [
        {
          "output_type": "stream",
          "name": "stderr",
          "text": [
            "[nltk_data] Downloading package punkt to /root/nltk_data...\n",
            "[nltk_data]   Package punkt is already up-to-date!\n",
            "[nltk_data] Downloading package stopwords to /root/nltk_data...\n",
            "[nltk_data]   Package stopwords is already up-to-date!\n"
          ]
        },
        {
          "output_type": "execute_result",
          "data": {
            "text/plain": [
              "True"
            ]
          },
          "metadata": {},
          "execution_count": 37
        }
      ],
      "source": [
        "from nltk.tokenize import word_tokenize,sent_tokenize\n",
        "from nltk.corpus import stopwords\n",
        "import nltk\n",
        "nltk.download('punkt')\n",
        "nltk.download('stopwords')"
      ]
    },
    {
      "cell_type": "code",
      "source": [
        "corpus='''Alive & Kicking !\n",
        "Staying in PreSent !\n",
        "What if the depths within me remain unspoken ?'''"
      ],
      "metadata": {
        "id": "8g0N9cz_xv8w"
      },
      "execution_count": 38,
      "outputs": []
    },
    {
      "cell_type": "code",
      "source": [
        "corpus = corpus.replace(\"[25]\" , \"\")\n",
        "corpus = corpus.replace(\"[f]\" , \"\")"
      ],
      "metadata": {
        "id": "Rf01MBUvx1yM"
      },
      "execution_count": 39,
      "outputs": []
    },
    {
      "cell_type": "code",
      "source": [
        "print(corpus)"
      ],
      "metadata": {
        "colab": {
          "base_uri": "https://localhost:8080/"
        },
        "id": "srd3WfiN6XAn",
        "outputId": "eb551968-c4d7-4306-d98e-ec90c4f84946"
      },
      "execution_count": 40,
      "outputs": [
        {
          "output_type": "stream",
          "name": "stdout",
          "text": [
            "Alive & Kicking !\n",
            "Staying in PreSent !\n",
            "What if the depths within me remain unspoken ?\n"
          ]
        }
      ]
    },
    {
      "cell_type": "code",
      "source": [
        "words=[]\n",
        "for word in word_tokenize(corpus):\n",
        "    if (word.lower() not in stopwords.words('english')) and (len(word)>=2):\n",
        "        words.append(word.lower())"
      ],
      "metadata": {
        "id": "6UFHLF_C6Ywt"
      },
      "execution_count": 41,
      "outputs": []
    },
    {
      "cell_type": "code",
      "source": [
        "vocab=list(set(words))\n",
        "len(vocab)"
      ],
      "metadata": {
        "colab": {
          "base_uri": "https://localhost:8080/"
        },
        "id": "uRNKsU4r6i4p",
        "outputId": "29587d74-3e7d-40ad-c07c-1572db5a1ff9"
      },
      "execution_count": 42,
      "outputs": [
        {
          "output_type": "execute_result",
          "data": {
            "text/plain": [
              "8"
            ]
          },
          "metadata": {},
          "execution_count": 42
        }
      ]
    },
    {
      "cell_type": "code",
      "source": [
        "##this -> 1\n",
        "#is-> 2\n",
        "#a-> 3\n",
        "#car-> 4\n",
        "\n",
        "#1234 this is a car\n",
        "#2134 is this a car"
      ],
      "metadata": {
        "id": "LaPJSG4j7IDM"
      },
      "execution_count": 43,
      "outputs": []
    },
    {
      "cell_type": "code",
      "source": [
        "#encoder and decoder"
      ],
      "metadata": {
        "id": "YtZszkDu7LEz"
      },
      "execution_count": 44,
      "outputs": []
    },
    {
      "cell_type": "code",
      "source": [
        "num=1\n",
        "word_to_num={}\n",
        "num_to_word={}\n",
        "for word in vocab:\n",
        "    word_to_num[word]=num\n",
        "    num_to_word[num]=word\n",
        "    num+=1"
      ],
      "metadata": {
        "id": "wc1WBElU7NT5"
      },
      "execution_count": 45,
      "outputs": []
    },
    {
      "cell_type": "code",
      "source": [
        "word_to_num"
      ],
      "metadata": {
        "colab": {
          "base_uri": "https://localhost:8080/"
        },
        "id": "8Ae-SaBO7Q01",
        "outputId": "aae3a607-115b-4843-fa1e-a6c447b06e58"
      },
      "execution_count": 46,
      "outputs": [
        {
          "output_type": "execute_result",
          "data": {
            "text/plain": [
              "{'staying': 1,\n",
              " 'depths': 2,\n",
              " 'kicking': 3,\n",
              " 'within': 4,\n",
              " 'alive': 5,\n",
              " 'unspoken': 6,\n",
              " 'remain': 7,\n",
              " 'present': 8}"
            ]
          },
          "metadata": {},
          "execution_count": 46
        }
      ]
    },
    {
      "cell_type": "code",
      "source": [
        "num_to_word"
      ],
      "metadata": {
        "colab": {
          "base_uri": "https://localhost:8080/"
        },
        "id": "jYGCH5y37VQ4",
        "outputId": "982e1241-148c-4b85-9a82-59c8351694a6"
      },
      "execution_count": 47,
      "outputs": [
        {
          "output_type": "execute_result",
          "data": {
            "text/plain": [
              "{1: 'staying',\n",
              " 2: 'depths',\n",
              " 3: 'kicking',\n",
              " 4: 'within',\n",
              " 5: 'alive',\n",
              " 6: 'unspoken',\n",
              " 7: 'remain',\n",
              " 8: 'present'}"
            ]
          },
          "metadata": {},
          "execution_count": 47
        }
      ]
    },
    {
      "cell_type": "code",
      "source": [
        "word_to_num['alive']"
      ],
      "metadata": {
        "colab": {
          "base_uri": "https://localhost:8080/"
        },
        "id": "cGApNwVs7ht9",
        "outputId": "2378ecf2-6af3-4089-bcb0-d60de3acd7c2"
      },
      "execution_count": 50,
      "outputs": [
        {
          "output_type": "execute_result",
          "data": {
            "text/plain": [
              "5"
            ]
          },
          "metadata": {},
          "execution_count": 50
        }
      ]
    },
    {
      "cell_type": "code",
      "source": [
        "num_to_word[2]"
      ],
      "metadata": {
        "colab": {
          "base_uri": "https://localhost:8080/",
          "height": 35
        },
        "id": "tusBRHS_7mfd",
        "outputId": "d8f95573-a8ec-4398-a4ed-5a2d81c2ef17"
      },
      "execution_count": 51,
      "outputs": [
        {
          "output_type": "execute_result",
          "data": {
            "text/plain": [
              "'depths'"
            ],
            "application/vnd.google.colaboratory.intrinsic+json": {
              "type": "string"
            }
          },
          "metadata": {},
          "execution_count": 51
        }
      ]
    },
    {
      "cell_type": "code",
      "source": [
        "word_tokenize(sent_tokenize(corpus)[0])"
      ],
      "metadata": {
        "colab": {
          "base_uri": "https://localhost:8080/"
        },
        "id": "A7QcwwOz7ofr",
        "outputId": "2e26f2eb-8d46-4a90-fe17-fc138503b200"
      },
      "execution_count": 52,
      "outputs": [
        {
          "output_type": "execute_result",
          "data": {
            "text/plain": [
              "['Alive', '&', 'Kicking', '!']"
            ]
          },
          "metadata": {},
          "execution_count": 52
        }
      ]
    },
    {
      "cell_type": "code",
      "source": [
        "s=' '.join(word_tokenize(sent_tokenize(corpus)[0]))\n",
        "s"
      ],
      "metadata": {
        "colab": {
          "base_uri": "https://localhost:8080/",
          "height": 35
        },
        "id": "iJy3IsTv7zaa",
        "outputId": "e7e19b43-aa3d-4546-fe21-2638ab08f511"
      },
      "execution_count": 53,
      "outputs": [
        {
          "output_type": "execute_result",
          "data": {
            "text/plain": [
              "'Alive & Kicking !'"
            ],
            "application/vnd.google.colaboratory.intrinsic+json": {
              "type": "string"
            }
          },
          "metadata": {},
          "execution_count": 53
        }
      ]
    },
    {
      "cell_type": "code",
      "source": [
        "num_to_word"
      ],
      "metadata": {
        "colab": {
          "base_uri": "https://localhost:8080/"
        },
        "id": "rKr_qehV8DRa",
        "outputId": "8b9c3045-0b9b-4b26-a17f-69a8d0c7073e"
      },
      "execution_count": 54,
      "outputs": [
        {
          "output_type": "execute_result",
          "data": {
            "text/plain": [
              "{1: 'staying',\n",
              " 2: 'depths',\n",
              " 3: 'kicking',\n",
              " 4: 'within',\n",
              " 5: 'alive',\n",
              " 6: 'unspoken',\n",
              " 7: 'remain',\n",
              " 8: 'present'}"
            ]
          },
          "metadata": {},
          "execution_count": 54
        }
      ]
    },
    {
      "cell_type": "code",
      "source": [],
      "metadata": {
        "id": "qEkh8szN8GRC"
      },
      "execution_count": 54,
      "outputs": []
    }
  ]
}