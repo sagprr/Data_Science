{
  "nbformat": 4,
  "nbformat_minor": 0,
  "metadata": {
    "colab": {
      "provenance": []
    },
    "kernelspec": {
      "name": "python3",
      "display_name": "Python 3"
    },
    "language_info": {
      "name": "python"
    }
  },
  "cells": [
    {
      "cell_type": "code",
      "execution_count": 3,
      "metadata": {
        "colab": {
          "base_uri": "https://localhost:8080/"
        },
        "id": "-AmQTIgKL08I",
        "outputId": "915e7e9d-43fe-4153-ba71-46cb181d41a9"
      },
      "outputs": [
        {
          "output_type": "stream",
          "name": "stderr",
          "text": [
            "[nltk_data] Downloading package punkt to /root/nltk_data...\n",
            "[nltk_data]   Unzipping tokenizers/punkt.zip.\n",
            "[nltk_data] Downloading package stopwords to /root/nltk_data...\n",
            "[nltk_data]   Unzipping corpora/stopwords.zip.\n"
          ]
        }
      ],
      "source": [
        "from nltk.tokenize import word_tokenize,sent_tokenize\n",
        "from nltk.corpus import stopwords\n",
        "\n",
        "import nltk\n",
        "nltk.download('punkt')\n",
        "nltk.download('stopwords')\n",
        "\n",
        "corpus='''India, officially the Republic of India (Hindi: Bhārat Gaṇarājya),[25] is a country in South Asia. It is the seventh-largest country by area, the second-most populous country, and the most populous democracy in the world. Bounded by the Indian Ocean on the south, the Arabian Sea on the southwest, and the Bay of Bengal on the southeast, it shares land borders with Pakistan to the west;[f] China, Nepal, and Bhutan to the north; and Bangladesh and Myanmar to the east. In the Indian Ocean, India is in the vicinity of Sri Lanka and the Maldives; its Andaman and Nicobar Islands share a maritime border with Thailand, Myanmar, and Indonesia.'''\n",
        "corpus = corpus.replace(\"[25]\" , \"\")\n",
        "corpus = corpus.replace(\"[f]\" , \"\")\n",
        "corpus = corpus.replace(\")\" , \"\")"
      ]
    },
    {
      "cell_type": "code",
      "source": [
        "words=[]\n",
        "for word in word_tokenize(corpus):\n",
        "    if(len(word)==1):\n",
        "        if((ord(word)>=97 and ord(word)<=122) or (ord(word)>=65 and ord(word)<=90)):\n",
        "            words.append(word.lower())\n",
        "    else:\n",
        "        words.append(word.lower())"
      ],
      "metadata": {
        "id": "dfFk_RZFL6FY"
      },
      "execution_count": 4,
      "outputs": []
    },
    {
      "cell_type": "code",
      "source": [
        "# creating vocab\n",
        "vocab=list(set(words))\n",
        "len(vocab)"
      ],
      "metadata": {
        "colab": {
          "base_uri": "https://localhost:8080/"
        },
        "id": "K3VB__E8L__k",
        "outputId": "afd05e6c-a114-48ba-9cbf-88cb09e8cc4e"
      },
      "execution_count": 5,
      "outputs": [
        {
          "output_type": "execute_result",
          "data": {
            "text/plain": [
              "61"
            ]
          },
          "metadata": {},
          "execution_count": 5
        }
      ]
    },
    {
      "cell_type": "code",
      "source": [
        "num=1\n",
        "word_to_num={}\n",
        "num_to_word={}\n",
        "for word in vocab:\n",
        "    word_to_num[word]=num\n",
        "    num_to_word[num]=word\n",
        "    num+=1"
      ],
      "metadata": {
        "id": "9K2gFD2uPjdt"
      },
      "execution_count": 6,
      "outputs": []
    },
    {
      "cell_type": "code",
      "source": [
        "#Encoding\n",
        "data=[]\n",
        "for sent in sent_tokenize(corpus):\n",
        "    temp=[]\n",
        "    for word in word_tokenize(sent):\n",
        "        if(len(word)==1):\n",
        "            if((ord(word)>=97 and ord(word)<=122) or (ord(word)>=65 and ord(word)<=90)):\n",
        "                temp.append(word_to_num[word.lower()])\n",
        "        else:\n",
        "            temp.append(word_to_num[word.lower()])\n",
        "    data.append(temp)\n",
        "print(data)"
      ],
      "metadata": {
        "colab": {
          "base_uri": "https://localhost:8080/"
        },
        "id": "5uXLaClAP5GX",
        "outputId": "0c573f53-a2f7-4e62-e1c5-95456f3a8321"
      },
      "execution_count": 7,
      "outputs": [
        {
          "output_type": "stream",
          "name": "stdout",
          "text": [
            "[[27, 15, 7, 39, 1, 27, 44, 14, 17, 11, 46, 12, 23, 61, 53], [55, 11, 7, 32, 12, 31, 13, 7, 4, 20, 12, 30, 7, 40, 20, 9, 23, 7, 21], [10, 31, 7, 24, 41, 3, 7, 61, 7, 26, 6, 3, 7, 33, 30, 7, 42, 1, 43, 3, 7, 54, 55, 48, 60, 45, 28, 47, 5, 7, 56, 57, 22, 30, 38, 5, 7, 50, 30, 52, 30, 58, 5, 7, 51], [23, 7, 24, 41, 27, 11, 23, 7, 49, 1, 16, 34, 30, 7, 8, 35, 25, 30, 29, 18, 36, 46, 19, 2, 28, 37, 58, 30, 59]]\n"
          ]
        }
      ]
    },
    {
      "cell_type": "code",
      "source": [
        "for sent in data:\n",
        "    for word in sent:\n",
        "        print(num_to_word[word],end=' ')\n",
        "    print()"
      ],
      "metadata": {
        "colab": {
          "base_uri": "https://localhost:8080/"
        },
        "id": "d2wXw8xUQOCd",
        "outputId": "bd865505-1931-49ce-9842-a33e28438271"
      },
      "execution_count": 8,
      "outputs": [
        {
          "output_type": "stream",
          "name": "stdout",
          "text": [
            "india officially the republic of india hindi bhārat gaṇarājya is a country in south asia \n",
            "it is the seventh-largest country by area the second-most populous country and the most populous democracy in the world \n",
            "bounded by the indian ocean on the south the arabian sea on the southwest and the bay of bengal on the southeast it shares land borders with pakistan to the west china nepal and bhutan to the north and bangladesh and myanmar to the east \n",
            "in the indian ocean india is in the vicinity of sri lanka and the maldives its andaman and nicobar islands share a maritime border with thailand myanmar and indonesia \n"
          ]
        }
      ]
    },
    {
      "cell_type": "code",
      "source": [],
      "metadata": {
        "id": "O44T8sxHQfmM"
      },
      "execution_count": null,
      "outputs": []
    }
  ]
}