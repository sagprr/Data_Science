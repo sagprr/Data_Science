{
  "nbformat": 4,
  "nbformat_minor": 0,
  "metadata": {
    "colab": {
      "provenance": []
    },
    "kernelspec": {
      "name": "python3",
      "display_name": "Python 3"
    },
    "language_info": {
      "name": "python"
    }
  },
  "cells": [
    {
      "cell_type": "code",
      "execution_count": 1,
      "metadata": {
        "colab": {
          "base_uri": "https://localhost:8080/"
        },
        "id": "O3F52pTe8oxm",
        "outputId": "291d661d-1ecd-49e8-dd60-94d0b49f275a"
      },
      "outputs": [
        {
          "output_type": "stream",
          "name": "stderr",
          "text": [
            "[nltk_data] Downloading package punkt to /root/nltk_data...\n",
            "[nltk_data]   Unzipping tokenizers/punkt.zip.\n",
            "[nltk_data] Downloading package stopwords to /root/nltk_data...\n",
            "[nltk_data]   Unzipping corpora/stopwords.zip.\n"
          ]
        },
        {
          "output_type": "execute_result",
          "data": {
            "text/plain": [
              "True"
            ]
          },
          "metadata": {},
          "execution_count": 1
        }
      ],
      "source": [
        "from nltk.tokenize import word_tokenize,sent_tokenize\n",
        "from nltk.corpus import stopwords\n",
        "import nltk\n",
        "nltk.download('punkt')\n",
        "nltk.download('stopwords')"
      ]
    },
    {
      "cell_type": "code",
      "source": [
        "corpus = ''' Alive & Kicking !\n",
        "Staying in PreSent !\n",
        "What if the depths within me remain unspoken ?'''"
      ],
      "metadata": {
        "id": "WyY8xWzd_jIM"
      },
      "execution_count": 2,
      "outputs": []
    },
    {
      "cell_type": "code",
      "source": [
        "for sent in sent_tokenize(corpus):\n",
        "    print(word_tokenize(sent))"
      ],
      "metadata": {
        "colab": {
          "base_uri": "https://localhost:8080/"
        },
        "id": "JiK-PqLd_pHq",
        "outputId": "8c2cb58f-842c-4314-dc29-e1906935a074"
      },
      "execution_count": 3,
      "outputs": [
        {
          "output_type": "stream",
          "name": "stdout",
          "text": [
            "['Alive', '&', 'Kicking', '!']\n",
            "['Staying', 'in', 'PreSent', '!']\n",
            "['What', 'if', 'the', 'depths', 'within', 'me', 'remain', 'unspoken', '?']\n"
          ]
        }
      ]
    },
    {
      "cell_type": "code",
      "source": [
        "for sent in sent_tokenize(corpus):\n",
        "    for word in word_tokenize(sent):\n",
        "        if (word.lower() not in stopwords.words('english')) and (len(word)>=2):\n",
        "            print(word,end=' ')\n",
        "    print()"
      ],
      "metadata": {
        "colab": {
          "base_uri": "https://localhost:8080/"
        },
        "id": "qK03FfUUDfXf",
        "outputId": "089c2215-2b10-409c-88fc-a56c4af31a97"
      },
      "execution_count": 4,
      "outputs": [
        {
          "output_type": "stream",
          "name": "stdout",
          "text": [
            "Alive Kicking \n",
            "Staying PreSent \n",
            "depths within remain unspoken \n"
          ]
        }
      ]
    },
    {
      "cell_type": "code",
      "source": [
        "words=[]\n",
        "for word in word_tokenize(corpus):\n",
        "    if (word.lower() not in stopwords.words('english')) and (len(word)>=2):\n",
        "        words.append(word.lower())\n",
        "\n",
        "vocab=list(set(words))\n",
        "print(len(vocab))"
      ],
      "metadata": {
        "id": "U6WVZAW5DxmE",
        "colab": {
          "base_uri": "https://localhost:8080/"
        },
        "outputId": "2c1006c5-e3ee-42fd-be9f-c8bad5cde672"
      },
      "execution_count": 5,
      "outputs": [
        {
          "output_type": "stream",
          "name": "stdout",
          "text": [
            "8\n"
          ]
        }
      ]
    },
    {
      "cell_type": "code",
      "source": [
        "num=1\n",
        "word_to_num={}\n",
        "num_to_word={}\n",
        "for word in vocab:\n",
        "    word_to_num[word]=num\n",
        "    num_to_word[num]=word\n",
        "    num+=1"
      ],
      "metadata": {
        "id": "fbqyWyJNITAP"
      },
      "execution_count": 6,
      "outputs": []
    },
    {
      "cell_type": "code",
      "source": [
        "for sent in sent_tokenize(corpus):\n",
        "    for word in word_tokenize(sent):\n",
        "        if (word.lower() not in stopwords.words('english')) and (len(word)>=2):\n",
        "            print(word,end=' ')\n",
        "            print(word_to_num[word.lower()],end=' ')\n",
        "    print()"
      ],
      "metadata": {
        "colab": {
          "base_uri": "https://localhost:8080/"
        },
        "id": "EX8_7jJRIb9T",
        "outputId": "a2074f70-c701-48ea-ec35-1024321a367f"
      },
      "execution_count": 7,
      "outputs": [
        {
          "output_type": "stream",
          "name": "stdout",
          "text": [
            "Alive 1 Kicking 6 \n",
            "Staying 8 PreSent 3 \n",
            "depths 2 within 4 remain 7 unspoken 5 \n"
          ]
        }
      ]
    },
    {
      "cell_type": "code",
      "source": [
        "#encoding"
      ],
      "metadata": {
        "id": "9dvzF_4WImEF"
      },
      "execution_count": 8,
      "outputs": []
    },
    {
      "cell_type": "code",
      "source": [
        "data=[]\n",
        "for sent in sent_tokenize(corpus):\n",
        "    temp=[]\n",
        "    for word in word_tokenize(sent):\n",
        "        if (word.lower() not in stopwords.words('english')) and (len(word)>=2):\n",
        "            #print(word,end=' ')\n",
        "            temp.append(word_to_num[word.lower()])\n",
        "    print(temp)\n",
        "    data.append(temp)\n",
        "    print()"
      ],
      "metadata": {
        "colab": {
          "base_uri": "https://localhost:8080/"
        },
        "id": "_EEQelmJIrXZ",
        "outputId": "27d2ce56-deb5-4128-faa8-a6c397a832ab"
      },
      "execution_count": 9,
      "outputs": [
        {
          "output_type": "stream",
          "name": "stdout",
          "text": [
            "[1, 6]\n",
            "\n",
            "[8, 3]\n",
            "\n",
            "[2, 4, 7, 5]\n",
            "\n"
          ]
        }
      ]
    },
    {
      "cell_type": "code",
      "source": [
        "#Decoding\n",
        "for sent in data:\n",
        "    print(sent)"
      ],
      "metadata": {
        "colab": {
          "base_uri": "https://localhost:8080/"
        },
        "id": "PpZSlt-OIrd9",
        "outputId": "60b4b86e-fbe1-4463-e379-ebd998e85de7"
      },
      "execution_count": 10,
      "outputs": [
        {
          "output_type": "stream",
          "name": "stdout",
          "text": [
            "[1, 6]\n",
            "[8, 3]\n",
            "[2, 4, 7, 5]\n"
          ]
        }
      ]
    },
    {
      "cell_type": "code",
      "source": [
        "for sent in data:\n",
        "    for word in sent:\n",
        "        print(num_to_word[word],end=' ')\n",
        "    print()"
      ],
      "metadata": {
        "colab": {
          "base_uri": "https://localhost:8080/"
        },
        "id": "S81ipZbvMes7",
        "outputId": "9f70f9f9-33bf-430f-fe82-8b530003f409"
      },
      "execution_count": 11,
      "outputs": [
        {
          "output_type": "stream",
          "name": "stdout",
          "text": [
            "alive kicking \n",
            "staying present \n",
            "depths within remain unspoken \n"
          ]
        }
      ]
    },
    {
      "cell_type": "code",
      "source": [],
      "metadata": {
        "id": "MTZG4oLbMhEP"
      },
      "execution_count": null,
      "outputs": []
    }
  ]
}