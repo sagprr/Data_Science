{
  "nbformat": 4,
  "nbformat_minor": 0,
  "metadata": {
    "colab": {
      "provenance": []
    },
    "kernelspec": {
      "name": "python3",
      "display_name": "Python 3"
    },
    "language_info": {
      "name": "python"
    }
  },
  "cells": [
    {
      "cell_type": "code",
      "execution_count": 7,
      "metadata": {
        "colab": {
          "base_uri": "https://localhost:8080/"
        },
        "id": "qNxhsREPo7UZ",
        "outputId": "87e85c57-ad94-4a28-bc67-4cecb6b2e471"
      },
      "outputs": [
        {
          "output_type": "stream",
          "name": "stderr",
          "text": [
            "[nltk_data] Downloading package punkt to /root/nltk_data...\n",
            "[nltk_data]   Unzipping tokenizers/punkt.zip.\n",
            "[nltk_data] Downloading package stopwords to /root/nltk_data...\n",
            "[nltk_data]   Package stopwords is already up-to-date!\n"
          ]
        }
      ],
      "source": [
        "import nltk\n",
        "nltk.download('punkt')\n",
        "nltk.download('stopwords')\n",
        "\n",
        "from nltk.corpus import stopwords # importing corpus\n",
        "from nltk.tokenize import word_tokenize #tokenizing"
      ]
    },
    {
      "cell_type": "code",
      "source": [
        "stopword = stopwords.words"
      ],
      "metadata": {
        "id": "cLGoBgL6pIx2"
      },
      "execution_count": 8,
      "outputs": []
    },
    {
      "cell_type": "code",
      "source": [
        "stopword = stopwords.words('english')"
      ],
      "metadata": {
        "id": "MXHbtICKpW2D"
      },
      "execution_count": 9,
      "outputs": []
    },
    {
      "cell_type": "code",
      "source": [
        "txt = ' These parts feel nostalgic on another level I can’t even explain it, it feels like nostalgic memories flashing musically.'\n",
        "txt = word_tokenize(txt)"
      ],
      "metadata": {
        "id": "FwQVAzl_pYC7"
      },
      "execution_count": 11,
      "outputs": []
    },
    {
      "cell_type": "code",
      "source": [
        "#removing stopwords\n",
        "for word in txt:\n",
        "    if ((word.lower() not in stopword) and (len(word) != 1) or (len(word)>2)):\n",
        "        print(word)"
      ],
      "metadata": {
        "colab": {
          "base_uri": "https://localhost:8080/"
        },
        "id": "m26cXfE_plxk",
        "outputId": "3be57cc3-8080-4674-8f17-29eaee65b620"
      },
      "execution_count": 14,
      "outputs": [
        {
          "output_type": "stream",
          "name": "stdout",
          "text": [
            "These\n",
            "parts\n",
            "feel\n",
            "nostalgic\n",
            "another\n",
            "level\n",
            "can\n",
            "even\n",
            "explain\n",
            "feels\n",
            "like\n",
            "nostalgic\n",
            "memories\n",
            "flashing\n",
            "musically\n"
          ]
        }
      ]
    },
    {
      "cell_type": "code",
      "source": [],
      "metadata": {
        "id": "S8KtCEX_qfaq"
      },
      "execution_count": null,
      "outputs": []
    }
  ]
}