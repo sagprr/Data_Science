{
  "nbformat": 4,
  "nbformat_minor": 0,
  "metadata": {
    "colab": {
      "provenance": []
    },
    "kernelspec": {
      "name": "python3",
      "display_name": "Python 3"
    },
    "language_info": {
      "name": "python"
    }
  },
  "cells": [
    {
      "cell_type": "code",
      "execution_count": null,
      "metadata": {
        "id": "ooU4E5ddrfy2",
        "outputId": "94f975ab-e66f-4b5e-8564-61ec4a43c873",
        "colab": {
          "base_uri": "https://localhost:8080/"
        }
      },
      "outputs": [
        {
          "output_type": "stream",
          "name": "stderr",
          "text": [
            "[nltk_data] Downloading package punkt to /root/nltk_data...\n",
            "[nltk_data]   Unzipping tokenizers/punkt.zip.\n",
            "[nltk_data] Downloading package stopwords to /root/nltk_data...\n",
            "[nltk_data]   Unzipping corpora/stopwords.zip.\n"
          ]
        }
      ],
      "source": [
        "import nltk\n",
        "nltk.download('punkt')\n",
        "nltk.download('stopwords')\n",
        "\n",
        "from nltk.corpus import stopwords # importing corpus\n",
        "from nltk.tokenize import word_tokenize #tokenizing"
      ]
    },
    {
      "cell_type": "code",
      "source": [
        "from nltk.tokenize import word_tokenize, sent_tokenize\n",
        "from nltk.corpus import stopwords\n",
        "\n",
        "corpus = \"The name Germany has long described not a particular place but the loose, fluid polity of Germanic-speaking peoples that held sway over much of western Europe north of the Alps for millennia. Although Germany in that sense is an ancient entity, the German nation in more or less its present form came into being only in the 19th century, when Prussian Prime Minister Otto von Bismarck brought together dozens of German-speaking kingdoms, principalities, free cities, bishoprics, and duchies to form the German Empire in 1871. This so-called Second Reich quickly became Europe’s leading power and acquired colonies in Africa, Asia, and the Pacific. That overseas empire was dismantled following Germany’s defeat in World War I and the abdication of Emperor William II. Economic depression, widespread unemployment, and political strife that verged on civil war followed, leading to the collapse of the progressive Weimar Republic and the rise of the Nazi Party under Adolf Hitler. After gaining power in 1933, Hitler established the Third Reich and soon thereafter embarked on a ruinous crusade to conquer Europe and exterminate Jews, Roma (Gypsies), homosexuals, and others. The Third Reich disintegrated in 1945, brought down by the Allied armies of the United States, the United Kingdom, the Soviet Union, France, and other countries. The victorious powers divided Germany into four zones of occupation and later into two countries: the Federal Republic of Germany (West Germany) and the German Democratic Republic (East Germany), separated for more than 40 years by a long boundary. In East Germany this boundary was, until the fall of its communist government in 1989, marked by defenses designed to prevent escape. The 185 square miles (480 square km) of the “island” of West Berlin were similarly ringed from 1961 to 1989 by the Berlin Wall running through the city and by a heavily guarded wire-mesh fence in the areas abutting the East German countryside. Although Berlin was a flashpoint between the United States and the Soviet Union during the Cold War, the city declined in national and international significance until 1989–90, when a popular and peaceful uprising toppled the East German government and soon after restored a united Berlin as the capital of a reunified Germany.\"\n",
        "corpus"
      ],
      "metadata": {
        "id": "_8HjFabersTq",
        "colab": {
          "base_uri": "https://localhost:8080/",
          "height": 126
        },
        "outputId": "1a7e8708-9819-49ce-b269-c39102183511"
      },
      "execution_count": 5,
      "outputs": [
        {
          "output_type": "execute_result",
          "data": {
            "text/plain": [
              "'The name Germany has long described not a particular place but the loose, fluid polity of Germanic-speaking peoples that held sway over much of western Europe north of the Alps for millennia. Although Germany in that sense is an ancient entity, the German nation in more or less its present form came into being only in the 19th century, when Prussian Prime Minister Otto von Bismarck brought together dozens of German-speaking kingdoms, principalities, free cities, bishoprics, and duchies to form the German Empire in 1871. This so-called Second Reich quickly became Europe’s leading power and acquired colonies in Africa, Asia, and the Pacific. That overseas empire was dismantled following Germany’s defeat in World War I and the abdication of Emperor William II. Economic depression, widespread unemployment, and political strife that verged on civil war followed, leading to the collapse of the progressive Weimar Republic and the rise of the Nazi Party under Adolf Hitler. After gaining power in 1933, Hitler established the Third Reich and soon thereafter embarked on a ruinous crusade to conquer Europe and exterminate Jews, Roma (Gypsies), homosexuals, and others. The Third Reich disintegrated in 1945, brought down by the Allied armies of the United States, the United Kingdom, the Soviet Union, France, and other countries. The victorious powers divided Germany into four zones of occupation and later into two countries: the Federal Republic of Germany (West Germany) and the German Democratic Republic (East Germany), separated for more than 40 years by a long boundary. In East Germany this boundary was, until the fall of its communist government in 1989, marked by defenses designed to prevent escape. The 185 square miles (480 square km) of the “island” of West Berlin were similarly ringed from 1961 to 1989 by the Berlin Wall running through the city and by a heavily guarded wire-mesh fence in the areas abutting the East German countryside. Although Berlin was a flashpoint between the United States and the Soviet Union during the Cold War, the city declined in national and international significance until 1989–90, when a popular and peaceful uprising toppled the East German government and soon after restored a united Berlin as the capital of a reunified Germany.'"
            ],
            "application/vnd.google.colaboratory.intrinsic+json": {
              "type": "string"
            }
          },
          "metadata": {},
          "execution_count": 5
        }
      ]
    },
    {
      "cell_type": "code",
      "source": [
        "#Stop Word Removal"
      ],
      "metadata": {
        "id": "jhKo_NSBD5lC"
      },
      "execution_count": 6,
      "outputs": []
    },
    {
      "cell_type": "code",
      "source": [
        "words = []\n",
        "\n",
        "for word in word_tokenize(corpus):\n",
        "    if (word.lower() not in stopwords.words('english')) and (len(word) >= 2):\n",
        "        words.append(word.lower())"
      ],
      "metadata": {
        "id": "0c_g9EFAEUI4"
      },
      "execution_count": 7,
      "outputs": []
    },
    {
      "cell_type": "code",
      "source": [
        "vocab = list(set(words))"
      ],
      "metadata": {
        "id": "9r5pi9FWEVxp"
      },
      "execution_count": 8,
      "outputs": []
    },
    {
      "cell_type": "code",
      "source": [
        "vocab"
      ],
      "metadata": {
        "colab": {
          "base_uri": "https://localhost:8080/"
        },
        "id": "Jp9z9yhrEZPS",
        "outputId": "03ec4d62-646b-4a85-94eb-3b46d5ddbbe8"
      },
      "execution_count": 9,
      "outputs": [
        {
          "output_type": "execute_result",
          "data": {
            "text/plain": [
              "['480',\n",
              " 'cold',\n",
              " 'civil',\n",
              " 'kingdom',\n",
              " 'union',\n",
              " 'uprising',\n",
              " 'similarly',\n",
              " 'overseas',\n",
              " 'emperor',\n",
              " 'international',\n",
              " 'restored',\n",
              " 'polity',\n",
              " 'gypsies',\n",
              " 'verged',\n",
              " 'strife',\n",
              " 'germany',\n",
              " 'jews',\n",
              " 'progressive',\n",
              " 'wire-mesh',\n",
              " 'unemployment',\n",
              " 'km',\n",
              " 'heavily',\n",
              " 'powers',\n",
              " 'much',\n",
              " 'quickly',\n",
              " 'square',\n",
              " 'government',\n",
              " '1933',\n",
              " 'reunified',\n",
              " 'power',\n",
              " 'millennia',\n",
              " 'place',\n",
              " 'collapse',\n",
              " 'marked',\n",
              " 'declined',\n",
              " 'africa',\n",
              " 'world',\n",
              " '185',\n",
              " 'communist',\n",
              " 'peoples',\n",
              " 'century',\n",
              " 'republic',\n",
              " 'toppled',\n",
              " '19th',\n",
              " 'established',\n",
              " 'miles',\n",
              " 'thereafter',\n",
              " 'rise',\n",
              " 'flashpoint',\n",
              " 'embarked',\n",
              " '40',\n",
              " 'west',\n",
              " 'allied',\n",
              " 'areas',\n",
              " 'leading',\n",
              " 'colonies',\n",
              " 'countryside',\n",
              " 'party',\n",
              " 'sense',\n",
              " 'roma',\n",
              " 'later',\n",
              " 'guarded',\n",
              " 'crusade',\n",
              " 'cities',\n",
              " 'federal',\n",
              " 'years',\n",
              " 'wall',\n",
              " 'brought',\n",
              " 'running',\n",
              " 'dismantled',\n",
              " 'free',\n",
              " 'defeat',\n",
              " 'weimar',\n",
              " 'exterminate',\n",
              " 'designed',\n",
              " 'so-called',\n",
              " 'acquired',\n",
              " 'followed',\n",
              " 'four',\n",
              " 'armies',\n",
              " 'empire',\n",
              " 'political',\n",
              " 'occupation',\n",
              " 'ii',\n",
              " 'east',\n",
              " 'became',\n",
              " 'popular',\n",
              " 'prime',\n",
              " 'ancient',\n",
              " '1989–90',\n",
              " 'less',\n",
              " 'asia',\n",
              " 'significance',\n",
              " 'prevent',\n",
              " 'william',\n",
              " 'von',\n",
              " 'prussian',\n",
              " 'democratic',\n",
              " 'peaceful',\n",
              " 'north',\n",
              " 'fall',\n",
              " 'europe',\n",
              " 'long',\n",
              " 'reich',\n",
              " 'minister',\n",
              " 'others',\n",
              " 'adolf',\n",
              " 'fence',\n",
              " 'island',\n",
              " 'fluid',\n",
              " 'alps',\n",
              " 'bishoprics',\n",
              " 'sway',\n",
              " 'name',\n",
              " 'conquer',\n",
              " 'ringed',\n",
              " 'depression',\n",
              " 'second',\n",
              " 'france',\n",
              " 'nation',\n",
              " 'gaining',\n",
              " 'otto',\n",
              " 'countries',\n",
              " 'united',\n",
              " 'germanic-speaking',\n",
              " 'hitler',\n",
              " 'city',\n",
              " 'german-speaking',\n",
              " 'escape',\n",
              " 'third',\n",
              " 'particular',\n",
              " 'form',\n",
              " 'pacific',\n",
              " 'boundary',\n",
              " 'abutting',\n",
              " 'national',\n",
              " 'dozens',\n",
              " 'loose',\n",
              " 'berlin',\n",
              " 'kingdoms',\n",
              " 'ruinous',\n",
              " 'divided',\n",
              " 'although',\n",
              " 'soon',\n",
              " 'homosexuals',\n",
              " 'abdication',\n",
              " 'bismarck',\n",
              " '1961',\n",
              " 'following',\n",
              " 'disintegrated',\n",
              " 'capital',\n",
              " 'present',\n",
              " 'german',\n",
              " 'entity',\n",
              " 'duchies',\n",
              " 'separated',\n",
              " 'principalities',\n",
              " '1871',\n",
              " 'defenses',\n",
              " 'described',\n",
              " 'war',\n",
              " 'came',\n",
              " 'together',\n",
              " 'two',\n",
              " 'economic',\n",
              " '1989',\n",
              " '1945',\n",
              " 'victorious',\n",
              " 'widespread',\n",
              " 'states',\n",
              " 'nazi',\n",
              " 'zones',\n",
              " 'soviet',\n",
              " 'western',\n",
              " 'held']"
            ]
          },
          "metadata": {},
          "execution_count": 9
        }
      ]
    },
    {
      "cell_type": "code",
      "source": [
        "len(vocab)"
      ],
      "metadata": {
        "colab": {
          "base_uri": "https://localhost:8080/"
        },
        "id": "7m-DIM8WEabN",
        "outputId": "47df7ac3-c771-4765-faf7-9e49cdf47f06"
      },
      "execution_count": 10,
      "outputs": [
        {
          "output_type": "execute_result",
          "data": {
            "text/plain": [
              "175"
            ]
          },
          "metadata": {},
          "execution_count": 10
        }
      ]
    },
    {
      "cell_type": "code",
      "source": [
        "for sent in sent_tokenize(corpus):\n",
        "    print(sent)"
      ],
      "metadata": {
        "colab": {
          "base_uri": "https://localhost:8080/"
        },
        "id": "dxbRbZkEEbd2",
        "outputId": "c9c5a255-8a22-4753-9647-abef1c9020a0"
      },
      "execution_count": 11,
      "outputs": [
        {
          "output_type": "stream",
          "name": "stdout",
          "text": [
            "The name Germany has long described not a particular place but the loose, fluid polity of Germanic-speaking peoples that held sway over much of western Europe north of the Alps for millennia.\n",
            "Although Germany in that sense is an ancient entity, the German nation in more or less its present form came into being only in the 19th century, when Prussian Prime Minister Otto von Bismarck brought together dozens of German-speaking kingdoms, principalities, free cities, bishoprics, and duchies to form the German Empire in 1871.\n",
            "This so-called Second Reich quickly became Europe’s leading power and acquired colonies in Africa, Asia, and the Pacific.\n",
            "That overseas empire was dismantled following Germany’s defeat in World War I and the abdication of Emperor William II.\n",
            "Economic depression, widespread unemployment, and political strife that verged on civil war followed, leading to the collapse of the progressive Weimar Republic and the rise of the Nazi Party under Adolf Hitler.\n",
            "After gaining power in 1933, Hitler established the Third Reich and soon thereafter embarked on a ruinous crusade to conquer Europe and exterminate Jews, Roma (Gypsies), homosexuals, and others.\n",
            "The Third Reich disintegrated in 1945, brought down by the Allied armies of the United States, the United Kingdom, the Soviet Union, France, and other countries.\n",
            "The victorious powers divided Germany into four zones of occupation and later into two countries: the Federal Republic of Germany (West Germany) and the German Democratic Republic (East Germany), separated for more than 40 years by a long boundary.\n",
            "In East Germany this boundary was, until the fall of its communist government in 1989, marked by defenses designed to prevent escape.\n",
            "The 185 square miles (480 square km) of the “island” of West Berlin were similarly ringed from 1961 to 1989 by the Berlin Wall running through the city and by a heavily guarded wire-mesh fence in the areas abutting the East German countryside.\n",
            "Although Berlin was a flashpoint between the United States and the Soviet Union during the Cold War, the city declined in national and international significance until 1989–90, when a popular and peaceful uprising toppled the East German government and soon after restored a united Berlin as the capital of a reunified Germany.\n"
          ]
        }
      ]
    },
    {
      "cell_type": "code",
      "source": [],
      "metadata": {
        "id": "BUmJlamcEfIM"
      },
      "execution_count": null,
      "outputs": []
    }
  ]
}