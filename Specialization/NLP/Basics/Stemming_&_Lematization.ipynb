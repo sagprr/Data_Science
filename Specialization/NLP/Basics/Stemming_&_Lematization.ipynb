{
  "nbformat": 4,
  "nbformat_minor": 0,
  "metadata": {
    "colab": {
      "provenance": []
    },
    "kernelspec": {
      "name": "python3",
      "display_name": "Python 3"
    },
    "language_info": {
      "name": "python"
    }
  },
  "cells": [
    {
      "cell_type": "code",
      "execution_count": 1,
      "metadata": {
        "colab": {
          "base_uri": "https://localhost:8080/"
        },
        "id": "Bi81BMHoiclt",
        "outputId": "3f9a16f9-6fa9-4434-fae8-df2fbb1176e3"
      },
      "outputs": [
        {
          "output_type": "stream",
          "name": "stderr",
          "text": [
            "[nltk_data] Downloading package wordnet to /root/nltk_data...\n",
            "[nltk_data] Downloading package omw-1.4 to /root/nltk_data...\n"
          ]
        }
      ],
      "source": [
        "import nltk\n",
        "\n",
        "nltk.download('wordnet')\n",
        "nltk.download('omw-1.4')\n",
        "\n",
        "from nltk.stem import WordNetLemmatizer, PorterStemmer\n"
      ]
    },
    {
      "cell_type": "code",
      "source": [
        "stem = PorterStemmer()\n",
        "lam  = WordNetLemmatizer()"
      ],
      "metadata": {
        "id": "UbBh0TsAikn3"
      },
      "execution_count": 2,
      "outputs": []
    },
    {
      "cell_type": "code",
      "source": [
        "print(lam.lemmatize('change'))\n",
        "print(lam.lemmatize('changes'))\n",
        "print(lam.lemmatize('changer'))\n",
        "print(lam.lemmatize('changed'))"
      ],
      "metadata": {
        "colab": {
          "base_uri": "https://localhost:8080/"
        },
        "id": "-aEbEKSBim2m",
        "outputId": "87ddc0c1-aa25-459e-c03c-e0aa670e29ff"
      },
      "execution_count": 3,
      "outputs": [
        {
          "output_type": "stream",
          "name": "stdout",
          "text": [
            "change\n",
            "change\n",
            "changer\n",
            "changed\n"
          ]
        }
      ]
    },
    {
      "cell_type": "code",
      "source": [
        "print(stem.stem('change'))\n",
        "print(stem.stem('changes'))\n",
        "print(stem.stem('changed'))"
      ],
      "metadata": {
        "colab": {
          "base_uri": "https://localhost:8080/"
        },
        "id": "I3LJAGhdioiw",
        "outputId": "aab11485-bc0e-4e57-e90c-2ef8771aada1"
      },
      "execution_count": 4,
      "outputs": [
        {
          "output_type": "stream",
          "name": "stdout",
          "text": [
            "chang\n",
            "chang\n",
            "chang\n"
          ]
        }
      ]
    },
    {
      "cell_type": "code",
      "source": [],
      "metadata": {
        "id": "RdxxLi8yip_B"
      },
      "execution_count": null,
      "outputs": []
    }
  ]
}