{
  "nbformat": 4,
  "nbformat_minor": 0,
  "metadata": {
    "colab": {
      "provenance": []
    },
    "kernelspec": {
      "name": "python3",
      "display_name": "Python 3"
    },
    "language_info": {
      "name": "python"
    }
  },
  "cells": [
    {
      "cell_type": "code",
      "execution_count": null,
      "metadata": {
        "id": "ZYd81t-Fa6JZ"
      },
      "outputs": [],
      "source": [
        "#A synonym is a word or phrase with the same or nearly the same meaning as another word or phrase. Thus, the words that are similar in meaning are called synonyms."
      ]
    },
    {
      "cell_type": "code",
      "source": [
        "#Antonym\n",
        "#An antonym is a term or phrase that has the opposite meaning to another."
      ],
      "metadata": {
        "id": "pA2nErl1dMbO"
      },
      "execution_count": null,
      "outputs": []
    },
    {
      "cell_type": "code",
      "source": [
        "import nltk\n",
        "from nltk.corpus import wordnet\n",
        "nltk.download('wordnet')"
      ],
      "metadata": {
        "colab": {
          "base_uri": "https://localhost:8080/"
        },
        "id": "PhGdzfAfdX7_",
        "outputId": "aced80f3-cf60-4860-bd58-a66191ceaaa1"
      },
      "execution_count": null,
      "outputs": [
        {
          "output_type": "stream",
          "name": "stderr",
          "text": [
            "[nltk_data] Downloading package wordnet to /root/nltk_data...\n"
          ]
        },
        {
          "output_type": "execute_result",
          "data": {
            "text/plain": [
              "True"
            ]
          },
          "metadata": {},
          "execution_count": 6
        }
      ]
    },
    {
      "cell_type": "code",
      "source": [
        "syn=wordnet.synsets('Book')"
      ],
      "metadata": {
        "id": "pi0NTr6ndZFW"
      },
      "execution_count": 8,
      "outputs": []
    },
    {
      "cell_type": "code",
      "source": [
        "print(syn[1].definition())"
      ],
      "metadata": {
        "id": "OrgELucHdbag",
        "colab": {
          "base_uri": "https://localhost:8080/"
        },
        "outputId": "8ed818d8-4ae3-4896-d868-e50cf2bcba62"
      },
      "execution_count": 12,
      "outputs": [
        {
          "output_type": "stream",
          "name": "stdout",
          "text": [
            "physical objects consisting of a number of pages bound together\n"
          ]
        }
      ]
    },
    {
      "cell_type": "code",
      "source": [
        "synonyms=[]\n",
        "for s in wordnet.synsets(\"Happy\"):\n",
        "    for lemma in s.lemmas():\n",
        "        synonyms.append(lemma.name())"
      ],
      "metadata": {
        "id": "jcYeZuj5vxZn"
      },
      "execution_count": 13,
      "outputs": []
    },
    {
      "cell_type": "code",
      "source": [
        "print(synonyms)"
      ],
      "metadata": {
        "colab": {
          "base_uri": "https://localhost:8080/"
        },
        "id": "PB5BY3eTv5YU",
        "outputId": "ba165257-66a0-4211-bd64-e549df723490"
      },
      "execution_count": 14,
      "outputs": [
        {
          "output_type": "stream",
          "name": "stdout",
          "text": [
            "['happy', 'felicitous', 'happy', 'glad', 'happy', 'happy', 'well-chosen']\n"
          ]
        }
      ]
    },
    {
      "cell_type": "code",
      "source": [
        "synonyms=[]\n",
        "for s in wordnet.synsets(\"Large\"):\n",
        "    for lemma in s.lemmas():\n",
        "        synonyms.append(lemma.name())\n",
        "print(synonyms)"
      ],
      "metadata": {
        "colab": {
          "base_uri": "https://localhost:8080/"
        },
        "id": "jfrpbzd8v7WY",
        "outputId": "3c2903a6-b602-4425-f2b2-da8c3d3f90b0"
      },
      "execution_count": 19,
      "outputs": [
        {
          "output_type": "stream",
          "name": "stdout",
          "text": [
            "['large', 'large', 'big', 'large', 'bombastic', 'declamatory', 'large', 'orotund', 'tumid', 'turgid', 'big', 'large', 'magnanimous', 'big', 'large', 'prominent', 'large', 'big', 'enceinte', 'expectant', 'gravid', 'great', 'large', 'heavy', 'with_child', 'large', 'large', 'boastfully', 'vauntingly', 'big', 'large']\n"
          ]
        }
      ]
    },
    {
      "cell_type": "code",
      "source": [
        "ant=[]\n",
        "for a in wordnet.synsets('Healthy'):\n",
        "    for lemma in a.lemmas():\n",
        "        if lemma.antonyms():\n",
        "            ant.append(lemma.antonyms()[0].name())\n",
        "\n",
        "print(ant)"
      ],
      "metadata": {
        "colab": {
          "base_uri": "https://localhost:8080/"
        },
        "id": "rXGmNUM6v-RI",
        "outputId": "d978550e-1864-47bf-e5b3-b83fa1cf985f"
      },
      "execution_count": 20,
      "outputs": [
        {
          "output_type": "stream",
          "name": "stdout",
          "text": [
            "['unhealthy']\n"
          ]
        }
      ]
    },
    {
      "cell_type": "code",
      "source": [
        "ant=[]\n",
        "for a in wordnet.synsets('Good'):\n",
        "    for lemma in a.lemmas():\n",
        "        if lemma.antonyms():\n",
        "            ant.append(lemma.antonyms()[0].name())\n",
        "print(ant)"
      ],
      "metadata": {
        "colab": {
          "base_uri": "https://localhost:8080/"
        },
        "id": "8LnLKhu1wN9a",
        "outputId": "85010ae3-996a-488c-bddf-2236e1aada7e"
      },
      "execution_count": 23,
      "outputs": [
        {
          "output_type": "stream",
          "name": "stdout",
          "text": [
            "['evil', 'evilness', 'bad', 'badness', 'bad', 'evil', 'ill']\n"
          ]
        }
      ]
    },
    {
      "cell_type": "code",
      "source": [
        "ant=[]\n",
        "for a in wordnet.synsets('Sharp'):\n",
        "    for lemma in a.lemmas():\n",
        "        if lemma.antonyms():\n",
        "            ant.append(lemma.antonyms()[0].name())\n",
        "print(ant)"
      ],
      "metadata": {
        "colab": {
          "base_uri": "https://localhost:8080/"
        },
        "id": "tFdMBSBrwRp3",
        "outputId": "b4f53c85-c2a9-476f-c499-5df3096fdccc"
      },
      "execution_count": 25,
      "outputs": [
        {
          "output_type": "stream",
          "name": "stdout",
          "text": [
            "['dull', 'dull', 'flat']\n"
          ]
        }
      ]
    },
    {
      "cell_type": "code",
      "source": [],
      "metadata": {
        "id": "8WDC3_LbwX1U"
      },
      "execution_count": null,
      "outputs": []
    }
  ]
}