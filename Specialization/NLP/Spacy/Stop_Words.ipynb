{
  "nbformat": 4,
  "nbformat_minor": 0,
  "metadata": {
    "colab": {
      "provenance": [],
      "gpuType": "T4"
    },
    "kernelspec": {
      "name": "python3",
      "display_name": "Python 3"
    },
    "language_info": {
      "name": "python"
    },
    "accelerator": "GPU"
  },
  "cells": [
    {
      "cell_type": "code",
      "execution_count": 2,
      "metadata": {
        "id": "oEW2qmMDGMqd"
      },
      "outputs": [],
      "source": [
        "#A stop word is a commonly used word (such as “the”, “a”, “an”, “in”) that a search engine has been programmed to ignore,\n",
        "#both when indexing entries for searching and when retrieving them as the result of a search query."
      ]
    },
    {
      "cell_type": "code",
      "source": [
        "import spacy"
      ],
      "metadata": {
        "id": "7Vg68j7IGhlQ"
      },
      "execution_count": 3,
      "outputs": []
    },
    {
      "cell_type": "code",
      "source": [
        "#inbuilt 305 words"
      ],
      "metadata": {
        "id": "zjDzNhsSGliZ"
      },
      "execution_count": 4,
      "outputs": []
    },
    {
      "cell_type": "code",
      "source": [
        "nlp=spacy.load('en_core_web_sm')"
      ],
      "metadata": {
        "id": "CYyhWL50GoXU"
      },
      "execution_count": 5,
      "outputs": []
    },
    {
      "cell_type": "code",
      "source": [
        "print(nlp.Defaults.stop_words)"
      ],
      "metadata": {
        "colab": {
          "base_uri": "https://localhost:8080/"
        },
        "id": "bLszkuWKGqDg",
        "outputId": "6ed2c5c7-22cf-48c1-d307-4f0a5894d055"
      },
      "execution_count": 6,
      "outputs": [
        {
          "output_type": "stream",
          "name": "stdout",
          "text": [
            "{'on', \"'d\", 'through', 'elsewhere', 'did', 'while', 'why', 'beside', 'eleven', 'few', 'can', '‘ll', '’ll', 'get', 'towards', 'alone', 'would', 'latter', 'nor', 'then', 'hers', 'nothing', '‘re', 'thru', 'thus', 'perhaps', 'via', 'became', 'even', 'with', 'once', 'within', 'quite', 'make', '‘ve', 'up', 'very', 'wherever', 'moreover', 'seems', 'sometimes', 'next', 'using', 'ever', 'something', 'just', 'one', 'whether', 'least', 'four', 'when', 'so', 'this', 'either', 'an', 'please', 'twenty', 'hereafter', 'whereby', 'anyhow', 'or', 'whole', 'does', 'formerly', '’re', 'done', 'full', 'well', 'over', 'being', 'last', 'n‘t', 'herein', 'cannot', 'call', 'therefore', 'under', 'already', 'top', 'third', 'sixty', 'from', 'behind', 'although', 'anyone', \"'ll\", 'former', 'besides', 'almost', 'too', 'side', 'every', 'because', 'twelve', 'whither', 'hereupon', 'below', 'everywhere', 'hence', 'between', 'unless', 'sometime', 'ours', 'before', 'other', 'off', 'doing', 'seemed', 'some', 'has', 'anyway', 'ourselves', 'afterwards', 'bottom', 'across', 'someone', 'they', 'each', 'who', 'i', 'name', \"'ve\", 'further', 'have', 'no', 'whoever', 'the', 'more', 'upon', 'thereupon', 'thence', 'mostly', 'whereas', 'another', 'three', 'any', 'various', 'same', 'whenever', 'onto', 'beforehand', 'him', 'give', 'us', 'less', 'yet', 'you', 'she', 'back', 'these', 'serious', 'otherwise', 'what', 'only', 'per', \"'s\", 'such', 'of', 'never', \"'m\", 'somehow', 'six', 'again', 'above', 'nowhere', 'been', 'might', 'myself', 'nine', '’s', 'amount', 'throughout', 'thereby', 'whatever', 'neither', 'out', 'will', 'a', 'all', 'should', 'its', 'see', 'my', 'rather', 'he', 'anywhere', 'our', '’d', 'down', 'whereupon', 'fifteen', 'often', 'at', 'therein', 'here', 'become', 'whose', 'yours', 'most', 'put', 'nevertheless', 'could', 'there', \"'re\", 'both', 'me', 'themselves', 'into', 'it', 'as', 'if', 'mine', 'and', 'own', 'eight', 'two', 'now', 'seeming', 'your', 'until', '‘m', 'however', 'his', '‘s', 'was', 'along', 'against', 'which', 'ca', 'amongst', 'ten', 'move', 'used', 'still', 'those', 'really', 'several', 'must', 'becoming', 'in', 'yourself', 'thereafter', 'be', '’ve', 'due', 'enough', 'hereby', 'made', 'among', '‘d', 'we', 'than', '’m', 'somewhere', 'herself', 'am', 'itself', 'but', 'whereafter', 'five', 'becomes', 'for', 'part', 'without', 'n’t', 'everyone', 'regarding', 'beyond', 'had', 'say', 'take', 'anything', 'where', 'them', 'himself', 'yourselves', 'whom', 'to', 'is', 'that', 'do', 'during', 'are', 'by', 'about', 'latterly', 'none', 'empty', 'toward', 'front', 're', 'noone', 'everything', 'meanwhile', 'namely', 'hundred', 'together', 'may', 'whence', 'fifty', 'were', 'also', 'how', 'go', 'others', 'nobody', 'show', 'her', 'much', 'always', \"n't\", 'though', 'their', 'keep', 'indeed', 'many', 'first', 'not', 'forty', 'after', 'around', 'else', 'seem', 'except', 'wherein', 'since'}\n"
          ]
        }
      ]
    },
    {
      "cell_type": "code",
      "source": [
        "stp = nlp.Defaults.stop_words"
      ],
      "metadata": {
        "id": "8RZv0zPqGrPt"
      },
      "execution_count": 7,
      "outputs": []
    },
    {
      "cell_type": "code",
      "source": [
        "len(stp)"
      ],
      "metadata": {
        "colab": {
          "base_uri": "https://localhost:8080/"
        },
        "id": "rsnfbKzIKC6w",
        "outputId": "12720b4b-bf22-4acc-cadc-0dc841b13f59"
      },
      "execution_count": 8,
      "outputs": [
        {
          "output_type": "execute_result",
          "data": {
            "text/plain": [
              "326"
            ]
          },
          "metadata": {},
          "execution_count": 8
        }
      ]
    },
    {
      "cell_type": "code",
      "source": [
        "#Method to check if a word is stop word or not"
      ],
      "metadata": {
        "id": "s8IhQQU2KOba"
      },
      "execution_count": 9,
      "outputs": []
    },
    {
      "cell_type": "code",
      "source": [
        "nlp.vocab['is'].is_stop"
      ],
      "metadata": {
        "colab": {
          "base_uri": "https://localhost:8080/"
        },
        "id": "VWPFogRNKQmV",
        "outputId": "d9c12210-6428-45b5-f1fc-ce8fde891f49"
      },
      "execution_count": 10,
      "outputs": [
        {
          "output_type": "execute_result",
          "data": {
            "text/plain": [
              "True"
            ]
          },
          "metadata": {},
          "execution_count": 10
        }
      ]
    },
    {
      "cell_type": "code",
      "source": [
        "nlp.vocab['sagar'].is_stop"
      ],
      "metadata": {
        "colab": {
          "base_uri": "https://localhost:8080/"
        },
        "id": "V9aODP6tKSbg",
        "outputId": "4372bef4-a6e1-4919-aa81-2c8384807502"
      },
      "execution_count": 11,
      "outputs": [
        {
          "output_type": "execute_result",
          "data": {
            "text/plain": [
              "False"
            ]
          },
          "metadata": {},
          "execution_count": 11
        }
      ]
    },
    {
      "cell_type": "code",
      "source": [
        "nlp.vocab['hello'].is_stop\n"
      ],
      "metadata": {
        "colab": {
          "base_uri": "https://localhost:8080/"
        },
        "id": "lB2Z782mKTdp",
        "outputId": "d6acecd1-a498-4de2-8807-6a7c522986d4"
      },
      "execution_count": 12,
      "outputs": [
        {
          "output_type": "execute_result",
          "data": {
            "text/plain": [
              "False"
            ]
          },
          "metadata": {},
          "execution_count": 12
        }
      ]
    },
    {
      "cell_type": "code",
      "source": [
        "nlp.vocab['i.e'].is_stop"
      ],
      "metadata": {
        "colab": {
          "base_uri": "https://localhost:8080/"
        },
        "id": "1SLhYk9JKV6p",
        "outputId": "8ebb4802-169b-4650-be1d-01396065930c"
      },
      "execution_count": 13,
      "outputs": [
        {
          "output_type": "execute_result",
          "data": {
            "text/plain": [
              "False"
            ]
          },
          "metadata": {},
          "execution_count": 13
        }
      ]
    },
    {
      "cell_type": "code",
      "source": [
        "#To add stop words of your own"
      ],
      "metadata": {
        "id": "E5eCgEmyKXHg"
      },
      "execution_count": 14,
      "outputs": []
    },
    {
      "cell_type": "code",
      "source": [
        "nlp.Defaults.stop_words.add('i.e')\n",
        "nlp.vocab['i.e'].is_stop = True"
      ],
      "metadata": {
        "id": "0lIXsxFhKZiW"
      },
      "execution_count": 15,
      "outputs": []
    },
    {
      "cell_type": "code",
      "source": [
        "nlp.vocab['i.e'].is_stop"
      ],
      "metadata": {
        "colab": {
          "base_uri": "https://localhost:8080/"
        },
        "id": "q5LyFfcJKbi2",
        "outputId": "f5ed70a7-ebbe-46fc-d2d0-ae1e770410d7"
      },
      "execution_count": 16,
      "outputs": [
        {
          "output_type": "execute_result",
          "data": {
            "text/plain": [
              "True"
            ]
          },
          "metadata": {},
          "execution_count": 16
        }
      ]
    },
    {
      "cell_type": "code",
      "source": [
        "len(nlp.Defaults.stop_words)"
      ],
      "metadata": {
        "colab": {
          "base_uri": "https://localhost:8080/"
        },
        "id": "xhIMFCX-Kcvs",
        "outputId": "7f0bea52-3cb4-4217-b718-c85282813152"
      },
      "execution_count": 17,
      "outputs": [
        {
          "output_type": "execute_result",
          "data": {
            "text/plain": [
              "327"
            ]
          },
          "metadata": {},
          "execution_count": 17
        }
      ]
    },
    {
      "cell_type": "code",
      "source": [
        "#Previously it was 326 but now it has become 327"
      ],
      "metadata": {
        "id": "xBM1rN_rKe6b"
      },
      "execution_count": 18,
      "outputs": []
    },
    {
      "cell_type": "code",
      "source": [
        "#Lets see how you would remove a stop word"
      ],
      "metadata": {
        "id": "6ORX39DPK9Fw"
      },
      "execution_count": 19,
      "outputs": []
    },
    {
      "cell_type": "code",
      "source": [
        "nlp.Defaults.stop_words.remove('i.e')\n"
      ],
      "metadata": {
        "colab": {
          "base_uri": "https://localhost:8080/",
          "height": 144
        },
        "id": "6YnIqddILAgE",
        "outputId": "db072f08-4066-40ae-93ac-3ed4728dec7a"
      },
      "execution_count": 22,
      "outputs": [
        {
          "output_type": "error",
          "ename": "KeyError",
          "evalue": "'i.e'",
          "traceback": [
            "\u001b[0;31m---------------------------------------------------------------------------\u001b[0m",
            "\u001b[0;31mKeyError\u001b[0m                                  Traceback (most recent call last)",
            "\u001b[0;32m<ipython-input-22-6f55ef5cda6a>\u001b[0m in \u001b[0;36m<cell line: 1>\u001b[0;34m()\u001b[0m\n\u001b[0;32m----> 1\u001b[0;31m \u001b[0mnlp\u001b[0m\u001b[0;34m.\u001b[0m\u001b[0mDefaults\u001b[0m\u001b[0;34m.\u001b[0m\u001b[0mstop_words\u001b[0m\u001b[0;34m.\u001b[0m\u001b[0mremove\u001b[0m\u001b[0;34m(\u001b[0m\u001b[0;34m'i.e'\u001b[0m\u001b[0;34m)\u001b[0m\u001b[0;34m\u001b[0m\u001b[0;34m\u001b[0m\u001b[0m\n\u001b[0m",
            "\u001b[0;31mKeyError\u001b[0m: 'i.e'"
          ]
        }
      ]
    },
    {
      "cell_type": "code",
      "source": [
        "nlp.vocab['i.e'].is_stop = False"
      ],
      "metadata": {
        "id": "_XxTrnnvLCcZ"
      },
      "execution_count": 23,
      "outputs": []
    },
    {
      "cell_type": "code",
      "source": [
        "nlp.vocab['i.e'].is_stop"
      ],
      "metadata": {
        "colab": {
          "base_uri": "https://localhost:8080/"
        },
        "id": "cHr8Yym8LJsE",
        "outputId": "29a02904-19c9-4483-a1c8-d264be833953"
      },
      "execution_count": 25,
      "outputs": [
        {
          "output_type": "execute_result",
          "data": {
            "text/plain": [
              "False"
            ]
          },
          "metadata": {},
          "execution_count": 25
        }
      ]
    },
    {
      "cell_type": "code",
      "source": [],
      "metadata": {
        "id": "kh-tLIZDLOKm"
      },
      "execution_count": null,
      "outputs": []
    }
  ]
}