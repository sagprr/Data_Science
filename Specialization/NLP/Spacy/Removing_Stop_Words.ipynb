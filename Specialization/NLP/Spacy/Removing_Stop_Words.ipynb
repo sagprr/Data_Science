{
  "nbformat": 4,
  "nbformat_minor": 0,
  "metadata": {
    "colab": {
      "provenance": [],
      "gpuType": "T4"
    },
    "kernelspec": {
      "name": "python3",
      "display_name": "Python 3"
    },
    "language_info": {
      "name": "python"
    },
    "accelerator": "GPU"
  },
  "cells": [
    {
      "cell_type": "code",
      "execution_count": 14,
      "metadata": {
        "id": "J_uTrY5KMEzp"
      },
      "outputs": [],
      "source": [
        "#Removing stop words"
      ]
    },
    {
      "cell_type": "code",
      "source": [
        "import spacy"
      ],
      "metadata": {
        "id": "CzAL9GOKWn-R"
      },
      "execution_count": 15,
      "outputs": []
    },
    {
      "cell_type": "code",
      "source": [
        "nlp=spacy.load('en_core_web_sm')"
      ],
      "metadata": {
        "colab": {
          "base_uri": "https://localhost:8080/"
        },
        "id": "2Ldgj7DdWqyx",
        "outputId": "deb50cab-03a7-42eb-8136-eba9abf93d20"
      },
      "execution_count": 16,
      "outputs": [
        {
          "output_type": "stream",
          "name": "stderr",
          "text": [
            "/usr/local/lib/python3.10/dist-packages/spacy/util.py:1740: UserWarning: [W111] Jupyter notebook detected: if using `prefer_gpu()` or `require_gpu()`, include it in the same cell right before `spacy.load()` to ensure that the model is loaded on the correct device. More information: http://spacy.io/usage/v3#jupyter-notebook-gpu\n",
            "  warnings.warn(Warnings.W111)\n"
          ]
        }
      ]
    },
    {
      "cell_type": "code",
      "source": [
        "s=''' Data science is the study of data. Like biological sciences is a study of biology, physical sciences, it’s the study of physical reactions. Data is real, data has real properties, and we need to study them if we’re going to work on them. Data Science involves data and some signs.\n",
        "It is a process, not an event. It is the process of using data to understand too many different things, to understand the world. Let Suppose when you have a model or proposed explanation of a problem, and you try to validate that proposed explanation or model with your data.\n",
        "It is the skill of unfolding the insights and trends that are hiding (or abstract) behind data. It’s when you translate data into a story. So use storytelling to generate insight. And with these insights, you can make strategic choices for a company or an institution.\n",
        "We can also define data science as a field that is about processes and systems to extract data of various forms and from various resources whether the data is unstructured or structured.\n",
        "The definition and the name came up in the 1980s and 1990s when some professors, IT Professionals, scientists were looking into the statistics curriculum, and they thought it would be better to call it data science and then later on data analytics derived.\n",
        "'''"
      ],
      "metadata": {
        "id": "18ZJDk2MWsXr"
      },
      "execution_count": 17,
      "outputs": []
    },
    {
      "cell_type": "code",
      "source": [
        "s=s.replace('\\n','')\n",
        "s=s.strip()\n",
        "s"
      ],
      "metadata": {
        "colab": {
          "base_uri": "https://localhost:8080/",
          "height": 143
        },
        "id": "IhZFGKBuYE5Z",
        "outputId": "cb84d801-7a29-495b-f908-58b33b666f87"
      },
      "execution_count": 20,
      "outputs": [
        {
          "output_type": "execute_result",
          "data": {
            "text/plain": [
              "'Data science is the study of data. Like biological sciences is a study of biology, physical sciences, it’s the study of physical reactions. Data is real, data has real properties, and we need to study them if we’re going to work on them. Data Science involves data and some signs. It is a process, not an event. It is the process of using data to understand too many different things, to understand the world. Let Suppose when you have a model or proposed explanation of a problem, and you try to validate that proposed explanation or model with your data. It is the skill of unfolding the insights and trends that are hiding (or abstract) behind data. It’s when you translate data into a story. So use storytelling to generate insight. And with these insights, you can make strategic choices for a company or an institution. We can also define data science as a field that is about processes and systems to extract data of various forms and from various resources whether the data is unstructured or structured. The definition and the name came up in the 1980s and 1990s when some professors, IT Professionals, scientists were looking into the statistics curriculum, and they thought it would be better to call it data science and then later on data analytics derived.'"
            ],
            "application/vnd.google.colaboratory.intrinsic+json": {
              "type": "string"
            }
          },
          "metadata": {},
          "execution_count": 20
        }
      ]
    },
    {
      "cell_type": "code",
      "source": [
        "s=nlp(s)"
      ],
      "metadata": {
        "id": "1UJ3awNvYHa1"
      },
      "execution_count": 21,
      "outputs": []
    },
    {
      "cell_type": "code",
      "source": [
        "l=[]\n",
        "for token in s:\n",
        "    if token.is_stop:\n",
        "        l.append(token)\n",
        "print(l)"
      ],
      "metadata": {
        "colab": {
          "base_uri": "https://localhost:8080/"
        },
        "id": "YJk8bWyCYNiR",
        "outputId": "c4b05318-2c3b-4519-bfcd-edf6b15072c6"
      },
      "execution_count": 35,
      "outputs": [
        {
          "output_type": "stream",
          "name": "stdout",
          "text": [
            "[is, the, of, is, a, of, it, ’s, the, of, is, has, and, we, to, them, if, we, ’re, to, on, them, and, some, It, is, a, not, an, It, is, the, of, using, to, too, many, to, the, when, you, have, a, or, of, a, and, you, to, that, or, with, your, It, is, the, of, the, and, that, are, or, behind, It, ’s, when, you, into, a, So, to, And, with, these, you, can, make, for, a, or, an, We, can, also, as, a, that, is, about, and, to, of, various, and, from, various, whether, the, is, or, The, and, the, name, up, in, the, and, when, some, IT, were, into, the, and, they, it, would, be, to, call, it, and, then, on]\n"
          ]
        }
      ]
    },
    {
      "cell_type": "code",
      "source": [
        "len(l)"
      ],
      "metadata": {
        "colab": {
          "base_uri": "https://localhost:8080/"
        },
        "id": "6SmKShzEYX3e",
        "outputId": "463f4aad-05b8-42fb-f5b1-52c1ffafc09c"
      },
      "execution_count": 36,
      "outputs": [
        {
          "output_type": "execute_result",
          "data": {
            "text/plain": [
              "125"
            ]
          },
          "metadata": {},
          "execution_count": 36
        }
      ]
    },
    {
      "cell_type": "code",
      "source": [
        "#To get all the words which do not belong in the stop words category"
      ],
      "metadata": {
        "id": "Me3DH54tYaEz"
      },
      "execution_count": 37,
      "outputs": []
    },
    {
      "cell_type": "code",
      "source": [
        "tokens=[token for token in s if not token.is_stop]"
      ],
      "metadata": {
        "id": "pUhhgcYTYcZy"
      },
      "execution_count": 38,
      "outputs": []
    },
    {
      "cell_type": "code",
      "source": [
        "q=[]\n",
        "for token in s:\n",
        "    if not token.is_stop:\n",
        "        q.append(token.text)\n",
        "print(q)"
      ],
      "metadata": {
        "colab": {
          "base_uri": "https://localhost:8080/"
        },
        "id": "WFzmkk0PYniU",
        "outputId": "477bd808-a1c3-4dc7-e6a1-9eefb0f0f25c"
      },
      "execution_count": 39,
      "outputs": [
        {
          "output_type": "stream",
          "name": "stdout",
          "text": [
            "['Data', 'science', 'study', 'data', '.', 'Like', 'biological', 'sciences', 'study', 'biology', ',', 'physical', 'sciences', ',', 'study', 'physical', 'reactions', '.', 'Data', 'real', ',', 'data', 'real', 'properties', ',', 'need', 'study', 'going', 'work', '.', 'Data', 'Science', 'involves', 'data', 'signs', '.', 'process', ',', 'event', '.', 'process', 'data', 'understand', 'different', 'things', ',', 'understand', 'world', '.', 'Let', 'Suppose', 'model', 'proposed', 'explanation', 'problem', ',', 'try', 'validate', 'proposed', 'explanation', 'model', 'data', '.', 'skill', 'unfolding', 'insights', 'trends', 'hiding', '(', 'abstract', ')', 'data', '.', 'translate', 'data', 'story', '.', 'use', 'storytelling', 'generate', 'insight', '.', 'insights', ',', 'strategic', 'choices', 'company', 'institution', '.', 'define', 'data', 'science', 'field', 'processes', 'systems', 'extract', 'data', 'forms', 'resources', 'data', 'unstructured', 'structured', '.', 'definition', 'came', '1980s', '1990s', 'professors', ',', 'Professionals', ',', 'scientists', 'looking', 'statistics', 'curriculum', ',', 'thought', 'better', 'data', 'science', 'later', 'data', 'analytics', 'derived', '.']\n"
          ]
        }
      ]
    },
    {
      "cell_type": "code",
      "source": [
        "len(q)"
      ],
      "metadata": {
        "colab": {
          "base_uri": "https://localhost:8080/"
        },
        "id": "TppU4eOvYslq",
        "outputId": "78a15d65-3da7-4673-d85e-b4b0ad54af8b"
      },
      "execution_count": 40,
      "outputs": [
        {
          "output_type": "execute_result",
          "data": {
            "text/plain": [
              "125"
            ]
          },
          "metadata": {},
          "execution_count": 40
        }
      ]
    },
    {
      "cell_type": "code",
      "source": [
        "#finding stopwords from corpus\n",
        "corp = nlp(s)\n",
        "stop_W = set()\n",
        "\n",
        "for token in corp:\n",
        "  if token.is_stop:\n",
        "    stop_W.add(token.text)\n",
        "\n",
        "print(stop_W)\n",
        "print(len(stop_W))"
      ],
      "metadata": {
        "colab": {
          "base_uri": "https://localhost:8080/"
        },
        "id": "BuHlBULVYw5V",
        "outputId": "4c8cee90-9052-4e2c-9d66-4809088768a1"
      },
      "execution_count": 41,
      "outputs": [
        {
          "output_type": "stream",
          "name": "stdout",
          "text": [
            "{'the', 'were', 'too', 'then', 'be', 'with', 'whether', 'you', 'as', 'are', 'name', 'various', 'have', '’re', 'also', 'in', '’s', 'IT', 'a', 'is', 'call', 'many', 'your', 'So', 'The', 'these', 'from', 'to', 'it', 'It', 'some', 'behind', 'on', 'can', 'And', 'up', 'would', 'We', 'about', 'we', 'into', 'for', 'them', 'they', 'make', 'or', 'that', 'has', 'when', 'if', 'of', 'using', 'an', 'not', 'and'}\n",
            "55\n"
          ]
        }
      ]
    },
    {
      "cell_type": "code",
      "source": [],
      "metadata": {
        "id": "mszLqKrFaZBh"
      },
      "execution_count": 41,
      "outputs": []
    }
  ]
}