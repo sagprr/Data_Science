{
  "nbformat": 4,
  "nbformat_minor": 0,
  "metadata": {
    "colab": {
      "provenance": []
    },
    "kernelspec": {
      "name": "python3",
      "display_name": "Python 3"
    },
    "language_info": {
      "name": "python"
    }
  },
  "cells": [
    {
      "cell_type": "code",
      "execution_count": 5,
      "metadata": {
        "colab": {
          "base_uri": "https://localhost:8080/"
        },
        "id": "woH25J7f516p",
        "outputId": "e890587d-3998-45c3-bff8-de5786d89eb9"
      },
      "outputs": [
        {
          "output_type": "execute_result",
          "data": {
            "text/plain": [
              "<re.Match object; span=(0, 13), match='sagprr@ss.org'>"
            ]
          },
          "metadata": {},
          "execution_count": 5
        }
      ],
      "source": [
        "import re\n",
        "\n",
        "\n",
        "mail = 'sagprr@ss.org'\n",
        "p = '[A-Za-z0-9]+@[\\w]+.[\\w]+'\n",
        "\n",
        "re.search(p, mail)"
      ]
    },
    {
      "cell_type": "code",
      "source": [
        "re.search(p, 'sagprr@ss.org.in').group()"
      ],
      "metadata": {
        "colab": {
          "base_uri": "https://localhost:8080/",
          "height": 35
        },
        "id": "jT9_HYL66Kbb",
        "outputId": "141d249e-b758-4170-a29c-08440e7ff9ef"
      },
      "execution_count": 6,
      "outputs": [
        {
          "output_type": "execute_result",
          "data": {
            "text/plain": [
              "'sagprr@ss.org'"
            ],
            "application/vnd.google.colaboratory.intrinsic+json": {
              "type": "string"
            }
          },
          "metadata": {},
          "execution_count": 6
        }
      ]
    },
    {
      "cell_type": "code",
      "source": [
        "re.search(p, 'sagprr@ss.org.in').group()"
      ],
      "metadata": {
        "colab": {
          "base_uri": "https://localhost:8080/",
          "height": 35
        },
        "id": "M4UAcW_e6Of-",
        "outputId": "128394c9-7b32-4434-9466-26cc2a7fe593"
      },
      "execution_count": 7,
      "outputs": [
        {
          "output_type": "execute_result",
          "data": {
            "text/plain": [
              "'sagprr@ss.org'"
            ],
            "application/vnd.google.colaboratory.intrinsic+json": {
              "type": "string"
            }
          },
          "metadata": {},
          "execution_count": 7
        }
      ]
    },
    {
      "cell_type": "code",
      "source": [
        "re.search(p, '2910@gfg.in').group()"
      ],
      "metadata": {
        "colab": {
          "base_uri": "https://localhost:8080/",
          "height": 35
        },
        "id": "clLhNzv36WU2",
        "outputId": "8e88c9d5-b75a-4e5c-e115-c492985556b1"
      },
      "execution_count": 8,
      "outputs": [
        {
          "output_type": "execute_result",
          "data": {
            "text/plain": [
              "'2910@gfg.in'"
            ],
            "application/vnd.google.colaboratory.intrinsic+json": {
              "type": "string"
            }
          },
          "metadata": {},
          "execution_count": 8
        }
      ]
    },
    {
      "cell_type": "code",
      "source": [
        "re.search(p, 'sagprr@ss.in')"
      ],
      "metadata": {
        "colab": {
          "base_uri": "https://localhost:8080/"
        },
        "id": "81udvNqR7cl6",
        "outputId": "56219107-bebb-4ce5-e747-a5a5c91e1da7"
      },
      "execution_count": 9,
      "outputs": [
        {
          "output_type": "execute_result",
          "data": {
            "text/plain": [
              "<re.Match object; span=(0, 12), match='sagprr@ss.in'>"
            ]
          },
          "metadata": {},
          "execution_count": 9
        }
      ]
    },
    {
      "cell_type": "code",
      "source": [
        "#Email ID with Specific Domain\n",
        "mail = 'ah@gfg.org'\n",
        "\n",
        "p = '[A-Za-z0-9]+@(gfg).(org)$'\n",
        "\n",
        "re.search(p, mail)"
      ],
      "metadata": {
        "id": "K6aAJBAz7gpH",
        "colab": {
          "base_uri": "https://localhost:8080/"
        },
        "outputId": "525cf78b-2fc9-427a-f6a7-036b03be17a0"
      },
      "execution_count": 11,
      "outputs": [
        {
          "output_type": "execute_result",
          "data": {
            "text/plain": [
              "<re.Match object; span=(0, 10), match='ah@gfg.org'>"
            ]
          },
          "metadata": {},
          "execution_count": 11
        }
      ]
    },
    {
      "cell_type": "code",
      "source": [
        "re.search(p, 'prakash@gfg.org')"
      ],
      "metadata": {
        "colab": {
          "base_uri": "https://localhost:8080/"
        },
        "id": "bC6vUMXZZ_jw",
        "outputId": "ae8b386b-dd8a-4ee8-e59c-c5b92ba2d6b9"
      },
      "execution_count": 12,
      "outputs": [
        {
          "output_type": "execute_result",
          "data": {
            "text/plain": [
              "<re.Match object; span=(0, 15), match='prakash@gfg.org'>"
            ]
          },
          "metadata": {},
          "execution_count": 12
        }
      ]
    },
    {
      "cell_type": "code",
      "source": [
        "re.search(p, 'ashish.jangra@gfg.org')"
      ],
      "metadata": {
        "colab": {
          "base_uri": "https://localhost:8080/"
        },
        "id": "KQuAP1TOaPVU",
        "outputId": "e5ba166d-b1cf-4d03-e70d-24cca3381003"
      },
      "execution_count": 13,
      "outputs": [
        {
          "output_type": "execute_result",
          "data": {
            "text/plain": [
              "<re.Match object; span=(7, 21), match='jangra@gfg.org'>"
            ]
          },
          "metadata": {},
          "execution_count": 13
        }
      ]
    },
    {
      "cell_type": "code",
      "source": [
        "#Email ID with Multiple Selected Domain\n",
        "mail = 'ashish@gfg.org'\n",
        "\n",
        "p = '[A-Za-z0-9]+@[A-Za-z]+.(org|edu|gov|net|in)'\n",
        "\n",
        "re.search(p, mail)"
      ],
      "metadata": {
        "colab": {
          "base_uri": "https://localhost:8080/"
        },
        "id": "hK8VP9M9aSeY",
        "outputId": "36e7e0ef-a9c3-40c5-e16f-2f094d78f4f2"
      },
      "execution_count": 14,
      "outputs": [
        {
          "output_type": "execute_result",
          "data": {
            "text/plain": [
              "<re.Match object; span=(0, 14), match='ashish@gfg.org'>"
            ]
          },
          "metadata": {},
          "execution_count": 14
        }
      ]
    },
    {
      "cell_type": "code",
      "source": [
        "re.search(p, 'ashish@gfg.in')"
      ],
      "metadata": {
        "id": "mCXpC1XxaVNR",
        "outputId": "3859776d-8c65-40a0-c2df-3912bbb081c4",
        "colab": {
          "base_uri": "https://localhost:8080/"
        }
      },
      "execution_count": 15,
      "outputs": [
        {
          "output_type": "execute_result",
          "data": {
            "text/plain": [
              "<re.Match object; span=(0, 13), match='ashish@gfg.in'>"
            ]
          },
          "metadata": {},
          "execution_count": 15
        }
      ]
    },
    {
      "cell_type": "code",
      "source": [],
      "metadata": {
        "id": "xaDRwKauaWi1"
      },
      "execution_count": null,
      "outputs": []
    }
  ]
}