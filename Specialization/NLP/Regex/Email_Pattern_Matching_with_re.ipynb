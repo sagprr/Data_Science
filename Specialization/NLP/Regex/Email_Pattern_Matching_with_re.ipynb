{
  "nbformat": 4,
  "nbformat_minor": 0,
  "metadata": {
    "colab": {
      "provenance": []
    },
    "kernelspec": {
      "name": "python3",
      "display_name": "Python 3"
    },
    "language_info": {
      "name": "python"
    }
  },
  "cells": [
    {
      "cell_type": "code",
      "execution_count": 1,
      "metadata": {
        "colab": {
          "base_uri": "https://localhost:8080/"
        },
        "id": "woH25J7f516p",
        "outputId": "711e1600-3a34-4d2e-f350-a04844e97db4"
      },
      "outputs": [
        {
          "output_type": "execute_result",
          "data": {
            "text/plain": [
              "<re.Match object; span=(0, 13), match='sagprr@ss.org'>"
            ]
          },
          "metadata": {},
          "execution_count": 1
        }
      ],
      "source": [
        "import re\n",
        "\n",
        "\n",
        "mail = 'sagprr@ss.org'\n",
        "p = '[A-Za-z0-9]+@[\\w]+.[\\w]+'\n",
        "\n",
        "re.search(p, mail)"
      ]
    },
    {
      "cell_type": "code",
      "source": [
        "re.search(p, 'sagprr@ss.org.in').group()"
      ],
      "metadata": {
        "colab": {
          "base_uri": "https://localhost:8080/",
          "height": 35
        },
        "id": "jT9_HYL66Kbb",
        "outputId": "26465b25-9509-40d1-acb1-f5c4ca3fe1c8"
      },
      "execution_count": 5,
      "outputs": [
        {
          "output_type": "execute_result",
          "data": {
            "text/plain": [
              "'sagprr@ss.org'"
            ],
            "application/vnd.google.colaboratory.intrinsic+json": {
              "type": "string"
            }
          },
          "metadata": {},
          "execution_count": 5
        }
      ]
    },
    {
      "cell_type": "code",
      "source": [
        "re.search(p, 'sagprr@ss.org.in').group()"
      ],
      "metadata": {
        "colab": {
          "base_uri": "https://localhost:8080/",
          "height": 35
        },
        "id": "M4UAcW_e6Of-",
        "outputId": "ac4d71b3-5590-43dd-91b0-420325d6c54e"
      },
      "execution_count": 6,
      "outputs": [
        {
          "output_type": "execute_result",
          "data": {
            "text/plain": [
              "'sagprr@ss.org'"
            ],
            "application/vnd.google.colaboratory.intrinsic+json": {
              "type": "string"
            }
          },
          "metadata": {},
          "execution_count": 6
        }
      ]
    },
    {
      "cell_type": "code",
      "source": [
        "re.search(p, '2910@gfg.in').group()"
      ],
      "metadata": {
        "colab": {
          "base_uri": "https://localhost:8080/",
          "height": 35
        },
        "id": "clLhNzv36WU2",
        "outputId": "48b906ab-b917-4e2d-ae37-52463a9c28ab"
      },
      "execution_count": 7,
      "outputs": [
        {
          "output_type": "execute_result",
          "data": {
            "text/plain": [
              "'2910@gfg.in'"
            ],
            "application/vnd.google.colaboratory.intrinsic+json": {
              "type": "string"
            }
          },
          "metadata": {},
          "execution_count": 7
        }
      ]
    },
    {
      "cell_type": "code",
      "source": [
        "re.search(p, 'sagprr@ss.in')"
      ],
      "metadata": {
        "id": "81udvNqR7cl6",
        "outputId": "1af09ad5-86b0-4c0c-8ddb-00117a05701d",
        "colab": {
          "base_uri": "https://localhost:8080/"
        }
      },
      "execution_count": 8,
      "outputs": [
        {
          "output_type": "execute_result",
          "data": {
            "text/plain": [
              "<re.Match object; span=(0, 12), match='sagprr@ss.in'>"
            ]
          },
          "metadata": {},
          "execution_count": 8
        }
      ]
    },
    {
      "cell_type": "code",
      "source": [],
      "metadata": {
        "id": "K6aAJBAz7gpH"
      },
      "execution_count": null,
      "outputs": []
    }
  ]
}