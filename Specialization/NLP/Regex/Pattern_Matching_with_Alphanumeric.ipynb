{
  "nbformat": 4,
  "nbformat_minor": 0,
  "metadata": {
    "colab": {
      "provenance": []
    },
    "kernelspec": {
      "name": "python3",
      "display_name": "Python 3"
    },
    "language_info": {
      "name": "python"
    }
  },
  "cells": [
    {
      "cell_type": "code",
      "execution_count": 4,
      "metadata": {
        "colab": {
          "base_uri": "https://localhost:8080/"
        },
        "id": "TUUxeylp2pVb",
        "outputId": "cae69f5f-0fb3-4608-df84-8d402d5ce726"
      },
      "outputs": [
        {
          "output_type": "execute_result",
          "data": {
            "text/plain": [
              "['at', 'at', 'at', 'at', 'at']"
            ]
          },
          "metadata": {},
          "execution_count": 4
        }
      ],
      "source": [
        "import re\n",
        "re.findall('at', 'The rat saturday on the mat and attached by a cat')"
      ]
    },
    {
      "cell_type": "code",
      "source": [
        "re.findall('.at', 'The rat saturday on the mat and attached by a cat') #finding at with only at at last"
      ],
      "metadata": {
        "colab": {
          "base_uri": "https://localhost:8080/"
        },
        "id": "mKqC9uSo2wCj",
        "outputId": "58f59881-f1e0-4547-cf6f-10d39fe863da"
      },
      "execution_count": 5,
      "outputs": [
        {
          "output_type": "execute_result",
          "data": {
            "text/plain": [
              "['rat', 'sat', 'mat', ' at', 'cat']"
            ]
          },
          "metadata": {},
          "execution_count": 5
        }
      ]
    },
    {
      "cell_type": "code",
      "source": [
        "re.findall('\\d', '4 is divisible by 2 not by 3')"
      ],
      "metadata": {
        "colab": {
          "base_uri": "https://localhost:8080/"
        },
        "id": "DSKDxZa124Dd",
        "outputId": "4be5ff41-a8bb-4d2b-de12-1d077f175ce0"
      },
      "execution_count": 6,
      "outputs": [
        {
          "output_type": "execute_result",
          "data": {
            "text/plain": [
              "['4', '2', '3']"
            ]
          },
          "metadata": {},
          "execution_count": 6
        }
      ]
    },
    {
      "cell_type": "code",
      "source": [
        "re.findall('\\d$', '4 is divisible by 2 not by 3') #finding at last index present"
      ],
      "metadata": {
        "colab": {
          "base_uri": "https://localhost:8080/"
        },
        "id": "NHdi8suc3EQE",
        "outputId": "79e7c84a-ea1c-4d6f-9302-01b01034f67c"
      },
      "execution_count": 9,
      "outputs": [
        {
          "output_type": "execute_result",
          "data": {
            "text/plain": [
              "['3']"
            ]
          },
          "metadata": {},
          "execution_count": 9
        }
      ]
    },
    {
      "cell_type": "code",
      "source": [
        "re.findall('^\\d', '4 is divisible by 2 not by 32') #finding at first index present"
      ],
      "metadata": {
        "colab": {
          "base_uri": "https://localhost:8080/"
        },
        "id": "JsNl2Spk3Iio",
        "outputId": "918a6d97-cab5-421a-dbed-6f2f4542fd21"
      },
      "execution_count": 10,
      "outputs": [
        {
          "output_type": "execute_result",
          "data": {
            "text/plain": [
              "['4']"
            ]
          },
          "metadata": {},
          "execution_count": 10
        }
      ]
    },
    {
      "cell_type": "code",
      "source": [
        "re.findall('[A-Z]', 'Welcome to GFG') #finding the capital words"
      ],
      "metadata": {
        "colab": {
          "base_uri": "https://localhost:8080/"
        },
        "id": "xlLF52_z3IxI",
        "outputId": "558cd35c-01ae-4d1d-d7f8-ba50ffd0c243"
      },
      "execution_count": 13,
      "outputs": [
        {
          "output_type": "execute_result",
          "data": {
            "text/plain": [
              "['W', 'G', 'F', 'G']"
            ]
          },
          "metadata": {},
          "execution_count": 13
        }
      ]
    },
    {
      "cell_type": "code",
      "source": [
        "#Finding Small Letters\n",
        "re.findall('[a-z]', 'Welcome to GFG')"
      ],
      "metadata": {
        "colab": {
          "base_uri": "https://localhost:8080/"
        },
        "id": "dI_4Tyd13jia",
        "outputId": "3a2e5b2d-03eb-4acb-ef3c-46ba391c9cd7"
      },
      "execution_count": 14,
      "outputs": [
        {
          "output_type": "execute_result",
          "data": {
            "text/plain": [
              "['e', 'l', 'c', 'o', 'm', 'e', 't', 'o']"
            ]
          },
          "metadata": {},
          "execution_count": 14
        }
      ]
    },
    {
      "cell_type": "code",
      "source": [
        "#Finding Uppercase and Lowercase\n",
        "re.findall('[A-Za-z]', 'Welcome to GFG')\n",
        "['W', 'e', 'l', 'c', 'o', 'm', 'e', 't', 'o', 'G', 'F', 'G']"
      ],
      "metadata": {
        "colab": {
          "base_uri": "https://localhost:8080/"
        },
        "id": "0dwv-MNg3sWz",
        "outputId": "a0f978da-5c13-4e09-9af8-38fc3cc3091f"
      },
      "execution_count": 15,
      "outputs": [
        {
          "output_type": "execute_result",
          "data": {
            "text/plain": [
              "['W', 'e', 'l', 'c', 'o', 'm', 'e', 't', 'o', 'G', 'F', 'G']"
            ]
          },
          "metadata": {},
          "execution_count": 15
        }
      ]
    },
    {
      "cell_type": "code",
      "source": [
        "#Finding Uppercase, Lowercase and Numbers\n",
        "re.findall('[A-Za-z0-9]', 'Welcome to GFG 1')"
      ],
      "metadata": {
        "colab": {
          "base_uri": "https://localhost:8080/"
        },
        "id": "ZLxk7poZ3zOP",
        "outputId": "d331cd34-67cb-461e-da4f-3e0ba7c794b5"
      },
      "execution_count": 17,
      "outputs": [
        {
          "output_type": "execute_result",
          "data": {
            "text/plain": [
              "['W', 'e', 'l', 'c', 'o', 'm', 'e', 't', 'o', 'G', 'F', 'G', '1']"
            ]
          },
          "metadata": {},
          "execution_count": 17
        }
      ]
    },
    {
      "cell_type": "code",
      "source": [],
      "metadata": {
        "id": "QG7fties3zfU"
      },
      "execution_count": 17,
      "outputs": []
    }
  ]
}