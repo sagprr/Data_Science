{
  "nbformat": 4,
  "nbformat_minor": 0,
  "metadata": {
    "colab": {
      "provenance": []
    },
    "kernelspec": {
      "name": "python3",
      "display_name": "Python 3"
    },
    "language_info": {
      "name": "python"
    }
  },
  "cells": [
    {
      "cell_type": "code",
      "execution_count": 1,
      "metadata": {
        "id": "l92S3-BIsyAO"
      },
      "outputs": [],
      "source": [
        "import re"
      ]
    },
    {
      "cell_type": "code",
      "source": [
        "#Search\n",
        "srch = re.search('are' , 'Hello, how are you?')\n",
        "srch.span()"
      ],
      "metadata": {
        "colab": {
          "base_uri": "https://localhost:8080/"
        },
        "id": "EyXda7-qw2a0",
        "outputId": "2666332e-c799-4aed-fd4f-f5ce5bf9e8e7"
      },
      "execution_count": 8,
      "outputs": [
        {
          "output_type": "execute_result",
          "data": {
            "text/plain": [
              "(11, 14)"
            ]
          },
          "metadata": {},
          "execution_count": 8
        }
      ]
    },
    {
      "cell_type": "code",
      "source": [
        "srch.start()"
      ],
      "metadata": {
        "colab": {
          "base_uri": "https://localhost:8080/"
        },
        "id": "bQh6Kt4tw39B",
        "outputId": "6a658031-4852-44b0-f021-2a3faf6dd555"
      },
      "execution_count": 9,
      "outputs": [
        {
          "output_type": "execute_result",
          "data": {
            "text/plain": [
              "11"
            ]
          },
          "metadata": {},
          "execution_count": 9
        }
      ]
    },
    {
      "cell_type": "code",
      "source": [
        "srch.end()"
      ],
      "metadata": {
        "colab": {
          "base_uri": "https://localhost:8080/"
        },
        "id": "fVXiJy_pw857",
        "outputId": "4f071a97-a697-428e-b0e7-2e549449eea5"
      },
      "execution_count": 10,
      "outputs": [
        {
          "output_type": "execute_result",
          "data": {
            "text/plain": [
              "14"
            ]
          },
          "metadata": {},
          "execution_count": 10
        }
      ]
    },
    {
      "cell_type": "code",
      "source": [
        "#Findall\n",
        "a = 'Hello are area are you?'\n",
        "b = 'are'\n",
        "\n",
        "len(re.findall(b,a))"
      ],
      "metadata": {
        "colab": {
          "base_uri": "https://localhost:8080/"
        },
        "id": "N6ZT2vyYw8_l",
        "outputId": "a7a2664f-e2b3-4b83-dbac-eeb781870a7b"
      },
      "execution_count": 13,
      "outputs": [
        {
          "output_type": "execute_result",
          "data": {
            "text/plain": [
              "3"
            ]
          },
          "metadata": {},
          "execution_count": 13
        }
      ]
    },
    {
      "cell_type": "code",
      "source": [
        "#Finditer\n",
        "for s in re.finditer('are','Hello, how are area are you?'):\n",
        "    print(s.span()) #end - 1 is the last index"
      ],
      "metadata": {
        "colab": {
          "base_uri": "https://localhost:8080/"
        },
        "id": "bCmY6TZaxF1e",
        "outputId": "bf047096-5aa1-4bd8-db11-25bc1b5c6c6d"
      },
      "execution_count": 15,
      "outputs": [
        {
          "output_type": "stream",
          "name": "stdout",
          "text": [
            "(11, 14)\n",
            "(15, 18)\n",
            "(20, 23)\n"
          ]
        }
      ]
    },
    {
      "cell_type": "code",
      "source": [
        "#Creating Regular Expressions\n",
        "txt = 'My telephone number is 834-4324-345'\n",
        "pattern = '\\d\\d\\d-\\d\\d\\d\\d-\\d\\d\\d'\n",
        "re.search(pattern, txt)"
      ],
      "metadata": {
        "colab": {
          "base_uri": "https://localhost:8080/"
        },
        "id": "k1XmkV74xNEM",
        "outputId": "e2fb920d-11f9-4777-b7d1-698db1b4337f"
      },
      "execution_count": 16,
      "outputs": [
        {
          "output_type": "execute_result",
          "data": {
            "text/plain": [
              "<re.Match object; span=(23, 35), match='834-4324-345'>"
            ]
          },
          "metadata": {},
          "execution_count": 16
        }
      ]
    },
    {
      "cell_type": "code",
      "source": [
        "#efficient way\n",
        "txt = 'My telephone number is 834-4324-345'\n",
        "pattern = '\\d{3}-\\d{4}-\\d{3}'\n",
        "re.search(pattern, txt)"
      ],
      "metadata": {
        "colab": {
          "base_uri": "https://localhost:8080/"
        },
        "id": "Y1ilQiz9yPyq",
        "outputId": "d91ac436-0124-42d0-bae5-6ea6325c6567"
      },
      "execution_count": 18,
      "outputs": [
        {
          "output_type": "execute_result",
          "data": {
            "text/plain": [
              "<re.Match object; span=(23, 35), match='834-4324-345'>"
            ]
          },
          "metadata": {},
          "execution_count": 18
        }
      ]
    },
    {
      "cell_type": "code",
      "source": [
        "txt = 'My telephone number is 834-4324-345'\n",
        "pattern = '\\d{3}-\\d{4}-\\d{3}'\n",
        "re.search(pattern, txt).group()"
      ],
      "metadata": {
        "colab": {
          "base_uri": "https://localhost:8080/",
          "height": 35
        },
        "id": "lvUO8WYRySmV",
        "outputId": "453f3c8c-d672-42c4-eb84-a62ca40ab8c5"
      },
      "execution_count": 19,
      "outputs": [
        {
          "output_type": "execute_result",
          "data": {
            "text/plain": [
              "'834-4324-345'"
            ],
            "application/vnd.google.colaboratory.intrinsic+json": {
              "type": "string"
            }
          },
          "metadata": {},
          "execution_count": 19
        }
      ]
    },
    {
      "cell_type": "code",
      "source": [],
      "metadata": {
        "id": "uEhSqCgjyZDb"
      },
      "execution_count": null,
      "outputs": []
    }
  ]
}