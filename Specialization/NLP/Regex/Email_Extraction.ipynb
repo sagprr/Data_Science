{
  "nbformat": 4,
  "nbformat_minor": 0,
  "metadata": {
    "colab": {
      "provenance": []
    },
    "kernelspec": {
      "name": "python3",
      "display_name": "Python 3"
    },
    "language_info": {
      "name": "python"
    }
  },
  "cells": [
    {
      "cell_type": "code",
      "execution_count": 1,
      "metadata": {
        "id": "91xaDcH3WOuY"
      },
      "outputs": [],
      "source": [
        "mails = ['ashish@gmail.com','ashish@geeksforgeeks.org',\n",
        "         'ashish@orkut.com','ashish@yahoo.com',\n",
        "         'ashish.jangra@geeksforgeeks.org','ashish@gfg.co.in',\n",
        "         'ashish@aap.gov.in','aj@gmail.co.org.in']"
      ]
    },
    {
      "cell_type": "code",
      "source": [
        "user_id = []\n",
        "host_name = []\n",
        "domain_type = []\n",
        "\n",
        "for mail in mails:\n",
        "    user_id.append(mail.split('@')[0])\n",
        "    host_name.append(mail.split('@')[1].split('.')[0])\n",
        "    domain_type.append('.'.join(mail.split('@')[1].split('.')[1:]))"
      ],
      "metadata": {
        "id": "PyUOgfY6Xj9N"
      },
      "execution_count": 2,
      "outputs": []
    },
    {
      "cell_type": "code",
      "source": [
        "user_id"
      ],
      "metadata": {
        "colab": {
          "base_uri": "https://localhost:8080/"
        },
        "id": "fG0SACCcXlPX",
        "outputId": "4943e5be-b939-488a-90d8-53521d24be9b"
      },
      "execution_count": 3,
      "outputs": [
        {
          "output_type": "execute_result",
          "data": {
            "text/plain": [
              "['ashish',\n",
              " 'ashish',\n",
              " 'ashish',\n",
              " 'ashish',\n",
              " 'ashish.jangra',\n",
              " 'ashish',\n",
              " 'ashish',\n",
              " 'aj']"
            ]
          },
          "metadata": {},
          "execution_count": 3
        }
      ]
    },
    {
      "cell_type": "code",
      "source": [
        "host_name"
      ],
      "metadata": {
        "colab": {
          "base_uri": "https://localhost:8080/"
        },
        "id": "J3hFAeG4Xmtw",
        "outputId": "605b772a-c5c6-452c-b4c2-ff18a39f4e5d"
      },
      "execution_count": 4,
      "outputs": [
        {
          "output_type": "execute_result",
          "data": {
            "text/plain": [
              "['gmail',\n",
              " 'geeksforgeeks',\n",
              " 'orkut',\n",
              " 'yahoo',\n",
              " 'geeksforgeeks',\n",
              " 'gfg',\n",
              " 'aap',\n",
              " 'gmail']"
            ]
          },
          "metadata": {},
          "execution_count": 4
        }
      ]
    },
    {
      "cell_type": "code",
      "source": [
        "domain_type"
      ],
      "metadata": {
        "colab": {
          "base_uri": "https://localhost:8080/"
        },
        "id": "kZtjj4bXXnpD",
        "outputId": "3eede02e-b04b-48ce-efd0-e76679917b12"
      },
      "execution_count": 5,
      "outputs": [
        {
          "output_type": "execute_result",
          "data": {
            "text/plain": [
              "['com', 'org', 'com', 'com', 'org', 'co.in', 'gov.in', 'co.org.in']"
            ]
          },
          "metadata": {},
          "execution_count": 5
        }
      ]
    },
    {
      "cell_type": "code",
      "source": [],
      "metadata": {
        "id": "SZIQbIj-Xora"
      },
      "execution_count": null,
      "outputs": []
    }
  ]
}