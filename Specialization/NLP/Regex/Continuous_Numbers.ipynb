{
  "nbformat": 4,
  "nbformat_minor": 0,
  "metadata": {
    "colab": {
      "provenance": []
    },
    "kernelspec": {
      "name": "python3",
      "display_name": "Python 3"
    },
    "language_info": {
      "name": "python"
    }
  },
  "cells": [
    {
      "cell_type": "code",
      "execution_count": 3,
      "metadata": {
        "colab": {
          "base_uri": "https://localhost:8080/"
        },
        "id": "RxTU5wJWanmd",
        "outputId": "d532a602-b961-4e8f-bbd0-71aa807302c4"
      },
      "outputs": [
        {
          "output_type": "stream",
          "name": "stdout",
          "text": [
            "8372493\n",
            "423423\n"
          ]
        }
      ],
      "source": [
        "txt = 'The number is 8372493 not 423423.'\n",
        "\n",
        "c = 0\n",
        "\n",
        "for i in range(len(txt)):\n",
        "    if (txt[i].isdigit() == True):        # If Digit\n",
        "        if (c == 0):                      # Count Number of Digits\n",
        "            st = i                        # Starting the Number\n",
        "        c += 1                            # Incrementing the Counter for that number\n",
        "    else:                                 # If not Digit\n",
        "        if (c != 0):                      # If coming from a digit\n",
        "            end =  i                      # Ending the Number\n",
        "            print(txt[st:end])            # Printing the Number\n",
        "        c = 0\n",
        "\n",
        "if (c != 0):                              # If Number is at the end of the string\n",
        "    print(txt[-c:])\n",
        "\n",
        ""
      ]
    },
    {
      "cell_type": "code",
      "source": [],
      "metadata": {
        "id": "7AyN4BOMcLeS"
      },
      "execution_count": null,
      "outputs": []
    }
  ]
}