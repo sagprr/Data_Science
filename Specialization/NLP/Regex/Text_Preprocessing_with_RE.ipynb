{
  "nbformat": 4,
  "nbformat_minor": 0,
  "metadata": {
    "colab": {
      "provenance": []
    },
    "kernelspec": {
      "name": "python3",
      "display_name": "Python 3"
    },
    "language_info": {
      "name": "python"
    }
  },
  "cells": [
    {
      "cell_type": "code",
      "execution_count": 1,
      "metadata": {
        "id": "0UTCMVyw4Ckf"
      },
      "outputs": [],
      "source": [
        "import re"
      ]
    },
    {
      "cell_type": "code",
      "source": [
        "#Removing the Speical Characters\n",
        "txt = 'Eshant is ha%ppy! B@#$ut, wh$y is h*e not playing?'"
      ],
      "metadata": {
        "id": "HgN_qX8c4LzV"
      },
      "execution_count": 8,
      "outputs": []
    },
    {
      "cell_type": "code",
      "source": [
        "''.join(re.findall('[^!$,@#%*?]+',txt)) # ^ signifies that these letters are exclueded"
      ],
      "metadata": {
        "colab": {
          "base_uri": "https://localhost:8080/",
          "height": 35
        },
        "id": "7VHis0Sm4NFv",
        "outputId": "5438a014-c780-4003-c798-10f7a15616c2"
      },
      "execution_count": 9,
      "outputs": [
        {
          "output_type": "execute_result",
          "data": {
            "text/plain": [
              "'Eshant is happy But why is he not playing'"
            ],
            "application/vnd.google.colaboratory.intrinsic+json": {
              "type": "string"
            }
          },
          "metadata": {},
          "execution_count": 9
        }
      ]
    },
    {
      "cell_type": "code",
      "source": [
        "txt = \"I'm Sagprr and 20\"\n",
        "print(''.join(re.findall('\\D',txt)))"
      ],
      "metadata": {
        "colab": {
          "base_uri": "https://localhost:8080/"
        },
        "id": "rtXYXgeP4NQn",
        "outputId": "99dc3cdb-0614-4e22-ba25-2efb2c071d94"
      },
      "execution_count": 11,
      "outputs": [
        {
          "output_type": "stream",
          "name": "stdout",
          "text": [
            "I'm Sagprr and \n"
          ]
        }
      ]
    },
    {
      "cell_type": "code",
      "source": [
        "txt = \"Hello I am studing from Geeks-for-Geeks and it is amazing. Let's see how this work-it-out, wekds-sfd-sedsa\"\n",
        "re.findall('[\\w]+-[\\w]+-[\\w]+', txt) #finding patterns with words-words-words pattern"
      ],
      "metadata": {
        "colab": {
          "base_uri": "https://localhost:8080/"
        },
        "id": "iO0K7Xli4feW",
        "outputId": "566095d2-83fe-4e12-f456-325171561050"
      },
      "execution_count": 13,
      "outputs": [
        {
          "output_type": "execute_result",
          "data": {
            "text/plain": [
              "['Geeks-for-Geeks', 'work-it-out', 'wekds-sfd-sedsa']"
            ]
          },
          "metadata": {},
          "execution_count": 13
        }
      ]
    },
    {
      "cell_type": "code",
      "source": [
        "for no in [\"64-6534-342\", \"543-5345-645\",\"4563-453-445\",\"53-5453-5345\",\"435-234-6324\"]:\n",
        "    print(str(re.findall('[\\d]+-[\\d]+-[\\d]' , no)[0]).replace('-','')) #removing the - patterns"
      ],
      "metadata": {
        "colab": {
          "base_uri": "https://localhost:8080/"
        },
        "id": "JDWjBFOH4lJF",
        "outputId": "bc38498e-0114-4eaa-c41a-032d33bc2d6d"
      },
      "execution_count": 14,
      "outputs": [
        {
          "output_type": "stream",
          "name": "stdout",
          "text": [
            "6465343\n",
            "54353456\n",
            "45634534\n",
            "5354535\n",
            "4352346\n"
          ]
        }
      ]
    },
    {
      "cell_type": "code",
      "source": [],
      "metadata": {
        "id": "BlhTbNC84wwL"
      },
      "execution_count": null,
      "outputs": []
    }
  ]
}