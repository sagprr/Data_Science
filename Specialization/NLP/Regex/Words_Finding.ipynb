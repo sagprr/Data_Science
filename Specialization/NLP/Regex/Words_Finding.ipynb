{
  "nbformat": 4,
  "nbformat_minor": 0,
  "metadata": {
    "colab": {
      "provenance": []
    },
    "kernelspec": {
      "name": "python3",
      "display_name": "Python 3"
    },
    "language_info": {
      "name": "python"
    }
  },
  "cells": [
    {
      "cell_type": "code",
      "execution_count": 1,
      "metadata": {
        "id": "1tFvxVObdzba"
      },
      "outputs": [],
      "source": [
        "txt = 'AI is having the capability to revolutionize all the industries. The Industry is ready for a big change'.lower()\n",
        "\n",
        "word = 'the'.lower() #lower is essential"
      ]
    },
    {
      "cell_type": "code",
      "source": [
        "for i in range(len(txt)):\n",
        "\n",
        "    if(txt[i:i+len(word)] == word):\n",
        "\n",
        "        print(i,i+len(word))"
      ],
      "metadata": {
        "colab": {
          "base_uri": "https://localhost:8080/"
        },
        "id": "tNft5evFescw",
        "outputId": "09bcc4d3-ab86-4a16-e39d-61d4fdec836c"
      },
      "execution_count": 2,
      "outputs": [
        {
          "output_type": "stream",
          "name": "stdout",
          "text": [
            "13 16\n",
            "49 52\n",
            "65 68\n"
          ]
        }
      ]
    },
    {
      "cell_type": "code",
      "source": [],
      "metadata": {
        "id": "a23AB80JevAh"
      },
      "execution_count": null,
      "outputs": []
    }
  ]
}