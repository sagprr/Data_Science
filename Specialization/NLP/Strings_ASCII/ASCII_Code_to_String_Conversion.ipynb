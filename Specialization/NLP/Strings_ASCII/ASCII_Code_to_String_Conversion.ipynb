{
  "nbformat": 4,
  "nbformat_minor": 0,
  "metadata": {
    "colab": {
      "provenance": []
    },
    "kernelspec": {
      "name": "python3",
      "display_name": "Python 3"
    },
    "language_info": {
      "name": "python"
    }
  },
  "cells": [
    {
      "cell_type": "code",
      "execution_count": 1,
      "metadata": {
        "id": "8NNbLApbOyIc"
      },
      "outputs": [],
      "source": [
        "text = 'The quick brown fox jumps over the lazy dog'"
      ]
    },
    {
      "cell_type": "code",
      "source": [
        "ascii = [ord(char) for char in text]\n",
        "print(ascii)"
      ],
      "metadata": {
        "colab": {
          "base_uri": "https://localhost:8080/"
        },
        "id": "zZITuGCIO52F",
        "outputId": "e6593316-debd-4744-e9b1-a956cd7a22b1"
      },
      "execution_count": 4,
      "outputs": [
        {
          "output_type": "stream",
          "name": "stdout",
          "text": [
            "[84, 104, 101, 32, 113, 117, 105, 99, 107, 32, 98, 114, 111, 119, 110, 32, 102, 111, 120, 32, 106, 117, 109, 112, 115, 32, 111, 118, 101, 114, 32, 116, 104, 101, 32, 108, 97, 122, 121, 32, 100, 111, 103]\n"
          ]
        }
      ]
    },
    {
      "cell_type": "code",
      "source": [
        "#ascii to string using chr\n",
        "''.join([chr(asc) for asc in ascii])"
      ],
      "metadata": {
        "colab": {
          "base_uri": "https://localhost:8080/",
          "height": 36
        },
        "id": "eTK41wmwO7jN",
        "outputId": "c9170d35-7da4-451b-cd28-8aef7d4b2baa"
      },
      "execution_count": 5,
      "outputs": [
        {
          "output_type": "execute_result",
          "data": {
            "text/plain": [
              "'The quick brown fox jumps over the lazy dog'"
            ],
            "application/vnd.google.colaboratory.intrinsic+json": {
              "type": "string"
            }
          },
          "metadata": {},
          "execution_count": 5
        }
      ]
    },
    {
      "cell_type": "code",
      "source": [
        "text[::-1] #crptography"
      ],
      "metadata": {
        "colab": {
          "base_uri": "https://localhost:8080/",
          "height": 36
        },
        "id": "JB3_jfTHRTeS",
        "outputId": "dec7d457-2505-4baf-c632-e59095914170"
      },
      "execution_count": 7,
      "outputs": [
        {
          "output_type": "execute_result",
          "data": {
            "text/plain": [
              "'god yzal eht revo spmuj xof nworb kciuq ehT'"
            ],
            "application/vnd.google.colaboratory.intrinsic+json": {
              "type": "string"
            }
          },
          "metadata": {},
          "execution_count": 7
        }
      ]
    },
    {
      "cell_type": "code",
      "source": [],
      "metadata": {
        "id": "u5A2j7HwRW8o"
      },
      "execution_count": null,
      "outputs": []
    }
  ]
}