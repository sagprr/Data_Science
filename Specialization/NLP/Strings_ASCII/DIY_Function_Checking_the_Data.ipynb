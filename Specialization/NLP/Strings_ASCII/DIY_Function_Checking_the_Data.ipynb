{
  "nbformat": 4,
  "nbformat_minor": 0,
  "metadata": {
    "colab": {
      "provenance": []
    },
    "kernelspec": {
      "name": "python3",
      "display_name": "Python 3"
    },
    "language_info": {
      "name": "python"
    }
  },
  "cells": [
    {
      "cell_type": "code",
      "execution_count": 2,
      "metadata": {
        "id": "s5YPQcXUAX_e"
      },
      "outputs": [],
      "source": [
        "#isalpha() Returns True if all characters in the string are in the alphabet\n",
        "#isdigit() Returns True if all characters in the string are digits\n",
        "#isalnum() Returns True if all characters in the string are alphanumeric"
      ]
    },
    {
      "cell_type": "code",
      "source": [
        "def isalpha(text):\n",
        "    c = 0\n",
        "    for i in text:\n",
        "        if ((ord(i) >= 65 and ord(i) <= 90) or (ord(i) >= 97 and ord(i) <= 122)):   # (65-90) Upper | (97 - 122) Lower\n",
        "            c += 1\n",
        "    if (len(text) == c):\n",
        "        return True\n",
        "    else:\n",
        "        return False\n",
        "\n",
        "print('Sagpr1r'.isalpha())\n",
        "print(isalpha('Sagprr'))"
      ],
      "metadata": {
        "colab": {
          "base_uri": "https://localhost:8080/"
        },
        "id": "Nlgu1UDMBZtK",
        "outputId": "53b4e335-cb7f-425a-d23f-85768a53fbb1"
      },
      "execution_count": 6,
      "outputs": [
        {
          "output_type": "stream",
          "name": "stdout",
          "text": [
            "False\n",
            "True\n"
          ]
        }
      ]
    },
    {
      "cell_type": "code",
      "source": [
        "def isdigit(text):\n",
        "    c = 0\n",
        "    for i in text:\n",
        "        if (ord(i) >= 48 and ord(i) <= 57):              # (48-57) Digits | 0-9\n",
        "            c += 1\n",
        "\n",
        "    if (len(text) == c):\n",
        "        return True\n",
        "    else:\n",
        "        return False\n",
        "\n",
        "print('12sagprr31'.isdigit())\n",
        "print(isdigit('1231'))"
      ],
      "metadata": {
        "colab": {
          "base_uri": "https://localhost:8080/"
        },
        "id": "0ChU2QknBhWn",
        "outputId": "0c89482e-ceb7-4c2c-ed57-8067ba8c7c33"
      },
      "execution_count": 8,
      "outputs": [
        {
          "output_type": "stream",
          "name": "stdout",
          "text": [
            "False\n",
            "True\n"
          ]
        }
      ]
    },
    {
      "cell_type": "code",
      "source": [
        "def isalnum(text):\n",
        "    c = 0\n",
        "    for i in text:\n",
        "        if ((ord(i)>=65 and ord(i)<=90) or (ord(i)>=97 and ord(i)<=122) or (ord(i)>=48 and ord(i)<=57)):\n",
        "            c += 1\n",
        "    if (len(text) == c):\n",
        "        return True\n",
        "    else:\n",
        "        return False\n",
        "\n",
        "print('sagprr14'.isalnum())\n",
        "print(isalnum('@!$@%#$%'))"
      ],
      "metadata": {
        "colab": {
          "base_uri": "https://localhost:8080/"
        },
        "id": "MjxA7OImB13s",
        "outputId": "41fa07c4-f27d-4830-888e-2c97a869d3ce"
      },
      "execution_count": 13,
      "outputs": [
        {
          "output_type": "stream",
          "name": "stdout",
          "text": [
            "True\n",
            "False\n"
          ]
        }
      ]
    },
    {
      "cell_type": "code",
      "source": [],
      "metadata": {
        "id": "jC-u1RnaCHnc"
      },
      "execution_count": null,
      "outputs": []
    }
  ]
}