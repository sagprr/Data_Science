{
  "nbformat": 4,
  "nbformat_minor": 0,
  "metadata": {
    "colab": {
      "provenance": []
    },
    "kernelspec": {
      "name": "python3",
      "display_name": "Python 3"
    },
    "language_info": {
      "name": "python"
    }
  },
  "cells": [
    {
      "cell_type": "code",
      "execution_count": 1,
      "metadata": {
        "id": "4snI0CVHCXsD"
      },
      "outputs": [],
      "source": [
        "def upper(text):\n",
        "    string = ''\n",
        "    for char in text:\n",
        "        if ( ord(char) >= 97 and ord(char) <= 122 ):\n",
        "            string += chr(ord(char) - 32)\n",
        "        else:\n",
        "            string += char\n",
        "    return string\n",
        "\n",
        "def lower(text):\n",
        "    string = ''\n",
        "    for char in text:\n",
        "        if ( ord(char) >= 65 and ord(char) <= 90 ):\n",
        "            string += chr(ord(char) + 32)\n",
        "        else:\n",
        "            string += char\n",
        "    return string"
      ]
    },
    {
      "cell_type": "code",
      "source": [
        "def title(text):\n",
        "\n",
        "    output = []\n",
        "    for word in text.split(' '):\n",
        "        output.append(upper(word[0]) + lower(word[1:]))\n",
        "\n",
        "    return ' '.join(output)"
      ],
      "metadata": {
        "id": "yTqblNC9K6Nw"
      },
      "execution_count": 2,
      "outputs": []
    },
    {
      "cell_type": "code",
      "source": [
        "title('Generate SLSA3 provenance for your existing release workflow')"
      ],
      "metadata": {
        "colab": {
          "base_uri": "https://localhost:8080/",
          "height": 36
        },
        "id": "eTwbOvMhLQjE",
        "outputId": "cf131e2b-a44d-4d8f-cbaa-ef9e82dc08c8"
      },
      "execution_count": 3,
      "outputs": [
        {
          "output_type": "execute_result",
          "data": {
            "text/plain": [
              "'Generate Slsa3 Provenance For Your Existing Release Workflow'"
            ],
            "application/vnd.google.colaboratory.intrinsic+json": {
              "type": "string"
            }
          },
          "metadata": {},
          "execution_count": 3
        }
      ]
    },
    {
      "cell_type": "code",
      "source": [],
      "metadata": {
        "id": "jsZSul8gLYbH"
      },
      "execution_count": null,
      "outputs": []
    }
  ]
}