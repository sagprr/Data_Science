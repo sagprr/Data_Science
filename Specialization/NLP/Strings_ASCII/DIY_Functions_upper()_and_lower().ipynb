{
  "nbformat": 4,
  "nbformat_minor": 0,
  "metadata": {
    "colab": {
      "provenance": []
    },
    "kernelspec": {
      "name": "python3",
      "display_name": "Python 3"
    },
    "language_info": {
      "name": "python"
    }
  },
  "cells": [
    {
      "cell_type": "code",
      "execution_count": 1,
      "metadata": {
        "id": "K9hCMKjq_wTG"
      },
      "outputs": [],
      "source": [
        "txt = 'hello, HOW are you?'"
      ]
    },
    {
      "cell_type": "code",
      "source": [
        "def upper(text):\n",
        "\n",
        "    string = ''\n",
        "    for char in text:\n",
        "        if ( ord(char) >= 97 and ord(char) <= 122 ):        # 97 - 122  ( Lowercase )\n",
        "            string += chr(ord(char) - 32)                   # Subtract 32 to make it Uppercase as the difference is 32 b/w them\n",
        "        else:\n",
        "            string += char\n",
        "    return string\n",
        "\n",
        "upper(txt)"
      ],
      "metadata": {
        "colab": {
          "base_uri": "https://localhost:8080/",
          "height": 36
        },
        "id": "mUVDku-7_1Jr",
        "outputId": "579343f8-4eb7-4854-ddc6-30c0865ed292"
      },
      "execution_count": 4,
      "outputs": [
        {
          "output_type": "execute_result",
          "data": {
            "text/plain": [
              "'HELLO, HOW ARE YOU?'"
            ],
            "application/vnd.google.colaboratory.intrinsic+json": {
              "type": "string"
            }
          },
          "metadata": {},
          "execution_count": 4
        }
      ]
    },
    {
      "cell_type": "code",
      "source": [
        "def lower(text):\n",
        "\n",
        "    string = ''\n",
        "    for char in text:\n",
        "        if ( ord(char) >= 65 and ord(char) <= 90 ):        # 65 - 90  ( Uppercase )\n",
        "            string += chr(ord(char) + 32)                  # Add 32 to make it Lowercase as the difference is 32 b/w them\n",
        "        else:\n",
        "            string += char\n",
        "    return string\n",
        "\n",
        "txt.lower()"
      ],
      "metadata": {
        "colab": {
          "base_uri": "https://localhost:8080/",
          "height": 36
        },
        "id": "0LIjhF70_3r3",
        "outputId": "fe4fac15-1c16-4b51-c416-ee18f8c0734e"
      },
      "execution_count": 6,
      "outputs": [
        {
          "output_type": "execute_result",
          "data": {
            "text/plain": [
              "'hello, how are you?'"
            ],
            "application/vnd.google.colaboratory.intrinsic+json": {
              "type": "string"
            }
          },
          "metadata": {},
          "execution_count": 6
        }
      ]
    },
    {
      "cell_type": "code",
      "source": [],
      "metadata": {
        "id": "gR6jSdw6ABHx"
      },
      "execution_count": null,
      "outputs": []
    }
  ]
}