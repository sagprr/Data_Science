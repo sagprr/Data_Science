{
  "nbformat": 4,
  "nbformat_minor": 0,
  "metadata": {
    "colab": {
      "provenance": []
    },
    "kernelspec": {
      "name": "python3",
      "display_name": "Python 3"
    },
    "language_info": {
      "name": "python"
    }
  },
  "cells": [
    {
      "cell_type": "code",
      "execution_count": 1,
      "metadata": {
        "colab": {
          "base_uri": "https://localhost:8080/",
          "height": 36
        },
        "id": "6K0WZYPM_U3d",
        "outputId": "1b3a6ed9-9af3-4b88-8f65-e5f3bcee0d15"
      },
      "outputs": [
        {
          "output_type": "execute_result",
          "data": {
            "text/plain": [
              "'Hello, how are you?'"
            ],
            "application/vnd.google.colaboratory.intrinsic+json": {
              "type": "string"
            }
          },
          "metadata": {},
          "execution_count": 1
        }
      ],
      "source": [
        "'hello, how are YOU?'.capitalize()"
      ]
    },
    {
      "cell_type": "code",
      "source": [
        "def capitalize(text):\n",
        "\n",
        "    if (len(text) != 0):\n",
        "        return text[0].upper() + text[1:].lower()\n",
        "    else:\n",
        "        return None"
      ],
      "metadata": {
        "id": "RjBZFra5_YLf"
      },
      "execution_count": 3,
      "outputs": []
    },
    {
      "cell_type": "code",
      "source": [
        "capitalize('hello, how are YOU?')"
      ],
      "metadata": {
        "colab": {
          "base_uri": "https://localhost:8080/",
          "height": 36
        },
        "id": "uod6XcJ6_a7T",
        "outputId": "663d6b39-c4e3-4663-cc3c-e67ac08415ee"
      },
      "execution_count": 4,
      "outputs": [
        {
          "output_type": "execute_result",
          "data": {
            "text/plain": [
              "'Hello, how are you?'"
            ],
            "application/vnd.google.colaboratory.intrinsic+json": {
              "type": "string"
            }
          },
          "metadata": {},
          "execution_count": 4
        }
      ]
    },
    {
      "cell_type": "code",
      "source": [],
      "metadata": {
        "id": "lF_OweaX_rXa"
      },
      "execution_count": null,
      "outputs": []
    }
  ]
}