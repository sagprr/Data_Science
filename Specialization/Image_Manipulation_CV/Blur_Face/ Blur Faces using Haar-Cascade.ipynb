{
 "cells": [
  {
   "cell_type": "code",
   "execution_count": 1,
   "id": "bf021b93-acd8-4534-b4ca-60f27bc6584d",
   "metadata": {},
   "outputs": [],
   "source": [
    "import cv2 as cv\n",
    "import numpy as np"
   ]
  },
  {
   "cell_type": "code",
   "execution_count": 2,
   "id": "cb61d650-c0db-499b-b3e3-c464afe5b612",
   "metadata": {},
   "outputs": [],
   "source": [
    "classifier = cv.CascadeClassifier('haarcascade_frontalface_default.xml')"
   ]
  },
  {
   "cell_type": "code",
   "execution_count": null,
   "id": "081a12ba-6798-472b-810d-f3250a0785d3",
   "metadata": {},
   "outputs": [
    {
     "name": "stderr",
     "output_type": "stream",
     "text": [
      "2024-10-20 13:21:43.056 Python[8330:352286] +[IMKClient subclass]: chose IMKClient_Modern\n",
      "2024-10-20 13:21:43.057 Python[8330:352286] +[IMKInputSession subclass]: chose IMKInputSession_Modern\n"
     ]
    }
   ],
   "source": [
    "\n",
    "cam = cv.VideoCapture(0)\n",
    "\n",
    "while True:\n",
    "    \n",
    "    _, img = cam.read()\n",
    "    img = cv.flip(img,1)\n",
    "    \n",
    "    faces = classifier.detectMultiScale(img, 1.1, 5)\n",
    "    \n",
    "    for f in faces:\n",
    "        if f[-1] == max(faces[:,-1]):\n",
    "            break\n",
    "\n",
    "    if (len(faces) >= 1):\n",
    "        x = f[0] \n",
    "        y = f[1] \n",
    "        w = f[2]\n",
    "        h = f[3]\n",
    "\n",
    "#         cv.rectangle(img, (x,y),(x+w,y+h) , (0,180,0), 2)   \n",
    "\n",
    "        face = img[y:y+h, x:x+w]                 # Getting the Face Area from Video Feed\n",
    "        face = cv.blur(face, (32,32))            # Applying Blur on the Face\n",
    "     # img[y:y+h, x:x+w] = face                   Apply Blured Face on Video Feed\n",
    "        \n",
    "\n",
    "    cv.imshow('Frame'  , img )\n",
    "    cv.imshow('Face'   , face)\n",
    "    \n",
    "    if cv.waitKey(1) == 27:\n",
    "        cam.release()\n",
    "        break"
   ]
  },
  {
   "cell_type": "code",
   "execution_count": null,
   "id": "6fd3b05c-0530-4d8b-b715-01d6c61a6041",
   "metadata": {},
   "outputs": [],
   "source": [
    "cam.release()"
   ]
  },
  {
   "cell_type": "code",
   "execution_count": null,
   "id": "46169a6e-a724-4c52-8763-7f7930fc4281",
   "metadata": {},
   "outputs": [],
   "source": [
    "list(face)"
   ]
  },
  {
   "cell_type": "code",
   "execution_count": null,
   "id": "3a85f174-447f-45ba-a202-f0a90d4e9d64",
   "metadata": {},
   "outputs": [],
   "source": [
    "for i in face:\n",
    "    print(face[0],y,w,h)"
   ]
  },
  {
   "cell_type": "code",
   "execution_count": null,
   "id": "9610e78d-7856-4f57-a783-fb25b85cb0b8",
   "metadata": {},
   "outputs": [],
   "source": [
    "face[0], face[1], face[2], face[3]"
   ]
  },
  {
   "cell_type": "code",
   "execution_count": null,
   "id": "8809f843-d320-44ca-973c-16d7d89cb8f7",
   "metadata": {},
   "outputs": [],
   "source": [
    "faces[0]"
   ]
  },
  {
   "cell_type": "code",
   "execution_count": null,
   "id": "9ad01a1f-8b5b-4bb8-8114-cde54058ddc7",
   "metadata": {},
   "outputs": [],
   "source": [
    "for face in faces:\n",
    "    if face[-1] == max(faces[:,-1]):\n",
    "        print(face)"
   ]
  },
  {
   "cell_type": "code",
   "execution_count": null,
   "id": "89f8a116-0b63-4974-b3a5-451942c3aca5",
   "metadata": {},
   "outputs": [],
   "source": []
  },
  {
   "cell_type": "code",
   "execution_count": null,
   "id": "fe33cb2d-8f39-477f-9a69-6a07d1090041",
   "metadata": {},
   "outputs": [],
   "source": []
  }
 ],
 "metadata": {
  "kernelspec": {
   "display_name": "Python 3 (ipykernel)",
   "language": "python",
   "name": "python3"
  },
  "language_info": {
   "codemirror_mode": {
    "name": "ipython",
    "version": 3
   },
   "file_extension": ".py",
   "mimetype": "text/x-python",
   "name": "python",
   "nbconvert_exporter": "python",
   "pygments_lexer": "ipython3",
   "version": "3.12.2"
  }
 },
 "nbformat": 4,
 "nbformat_minor": 5
}
