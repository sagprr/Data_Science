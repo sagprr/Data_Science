{
 "cells": [
  {
   "cell_type": "code",
   "execution_count": 1,
   "id": "bf021b93-acd8-4534-b4ca-60f27bc6584d",
   "metadata": {},
   "outputs": [],
   "source": [
    "import cv2 as cv\n",
    "import numpy as np"
   ]
  },
  {
   "cell_type": "code",
   "execution_count": 2,
   "id": "cb61d650-c0db-499b-b3e3-c464afe5b612",
   "metadata": {},
   "outputs": [],
   "source": [
    "classifier = cv.CascadeClassifier('haarcascade_frontalface_default.xml')"
   ]
  },
  {
   "cell_type": "code",
   "execution_count": null,
   "id": "081a12ba-6798-472b-810d-f3250a0785d3",
   "metadata": {},
   "outputs": [
    {
     "name": "stdout",
     "output_type": "stream",
     "text": [
      "[[425 279 322 322]]\n",
      "[[428 277 330 330]]\n",
      "[[424 277 333 333]]\n",
      "[[431 278 326 326]]\n",
      "[[429 277 329 329]]\n"
     ]
    },
    {
     "name": "stderr",
     "output_type": "stream",
     "text": [
      "2024-10-20 12:51:30.111 Python[8076:334725] +[IMKClient subclass]: chose IMKClient_Modern\n",
      "2024-10-20 12:51:30.112 Python[8076:334725] +[IMKInputSession subclass]: chose IMKInputSession_Modern\n"
     ]
    },
    {
     "name": "stdout",
     "output_type": "stream",
     "text": [
      "[[431 280 322 322]]\n",
      "[[439 281 326 326]]\n",
      "[[454 280 321 321]]\n",
      "[[451 287 317 317]]\n",
      "[[443 285 322 322]]\n",
      "[[440 292 320 320]]\n",
      "[[431 297 337 337]]\n",
      "[[435 285 336 336]]\n",
      "[[441 274 324 324]]\n",
      "[[435 271 336 336]]\n",
      "[[439 276 322 322]]\n",
      "[[435 272 339 339]]\n",
      "[[447 269 333 333]]\n",
      "[[448 274 323 323]]\n",
      "[[442 271 324 324]]\n",
      "[[438 270 333 333]]\n",
      "[[445 271 328 328]]\n",
      "[[441 269 339 339]]\n",
      "[[437 269 341 341]]\n",
      "[[433 271 338 338]]\n",
      "[[437 267 342 342]]\n",
      "[[445 275 328 328]]\n",
      "[[449 270 335 335]]\n",
      "[[455 274 331 331]]\n",
      "[[449 270 337 337]]\n",
      "[[444 269 340 340]]\n",
      "[[434 269 334 334]]\n",
      "[[432 269 328 328]]\n",
      "[[435 273 330 330]]\n",
      "[[438 272 329 329]]\n",
      "[[431 260 336 336]]\n",
      "[[420 262 334 334]]\n",
      "[[422 269 334 334]]\n",
      "[[425 274 333 333]]\n",
      "[[436 274 322 322]]\n",
      "[[437 276 323 323]]\n",
      "[[440 280 324 324]]\n",
      "[[445 285 319 319]]\n",
      "[[453 288 311 311]]\n",
      "[[455 291 312 312]]\n",
      "[[449 290 319 319]]\n",
      "[[449 289 318 318]]\n",
      "[[450 292 308 308]]\n",
      "[[435 287 317 317]]\n",
      "[[438 291 309 309]]\n",
      "[[426 278 329 329]]\n",
      "[[434 283 319 319]]\n",
      "[[434 283 316 316]]\n",
      "[[428 275 334 334]]\n",
      "[[429 278 328 328]]\n",
      "[[425 276 333 333]]\n",
      "[[427 270 327 327]]\n",
      "[[431 265 315 315]]\n",
      "[[430 255 306 306]]\n",
      "[[425 248 311 311]]\n",
      "[[424 251 323 323]]\n",
      "[[425 237 337 337]]\n",
      "[[410 189 368 368]]\n",
      "[[401 110 415 415]]\n"
     ]
    }
   ],
   "source": [
    "cam = cv.VideoCapture(0)\n",
    "\n",
    "while True:\n",
    "    \n",
    "    _, img = cam.read()\n",
    "    img = cv.flip(img,1)\n",
    "    \n",
    "    \n",
    "    try:\n",
    "        faces = classifier.detectMultiScale(img, 1.1 ,#lower the value more frames and more accuracy , \n",
    "                                            5 )#confidence value and nearest neighbours to predict value \n",
    "        for (x,y,w,h) in faces: \n",
    "            cv.rectangle(img, (x,y),(x+w,y+h) , (0,180,0), 2)\n",
    "            \n",
    "    \n",
    "    except:\n",
    "        pass\n",
    "    \n",
    "    \n",
    "    cv.imshow('Frame'  , img )\n",
    "    print(faces)\n",
    "    if cv.waitKey(1) == 27:\n",
    "        cam.release()\n",
    "        break"
   ]
  },
  {
   "cell_type": "code",
   "execution_count": null,
   "id": "6fd3b05c-0530-4d8b-b715-01d6c61a6041",
   "metadata": {},
   "outputs": [],
   "source": [
    "cam.release()"
   ]
  },
  {
   "cell_type": "code",
   "execution_count": null,
   "id": "46169a6e-a724-4c52-8763-7f7930fc4281",
   "metadata": {},
   "outputs": [],
   "source": []
  }
 ],
 "metadata": {
  "kernelspec": {
   "display_name": "Python 3 (ipykernel)",
   "language": "python",
   "name": "python3"
  },
  "language_info": {
   "codemirror_mode": {
    "name": "ipython",
    "version": 3
   },
   "file_extension": ".py",
   "mimetype": "text/x-python",
   "name": "python",
   "nbconvert_exporter": "python",
   "pygments_lexer": "ipython3",
   "version": "3.12.2"
  }
 },
 "nbformat": 4,
 "nbformat_minor": 5
}
