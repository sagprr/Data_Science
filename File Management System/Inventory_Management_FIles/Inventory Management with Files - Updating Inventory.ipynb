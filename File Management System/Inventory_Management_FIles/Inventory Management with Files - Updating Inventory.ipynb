{
 "cells": [
  {
   "cell_type": "code",
   "execution_count": 1,
   "id": "11f57868",
   "metadata": {},
   "outputs": [],
   "source": [
    "fd = open(\"inventory.txt\",'r')\n",
    "fd.close()"
   ]
  },
  {
   "cell_type": "code",
   "execution_count": 2,
   "id": "85429b0f",
   "metadata": {},
   "outputs": [],
   "source": [
    "fd = open('Inventory.txt','r')\n",
    "\n",
    "products = fd.read().split('\\n')\n",
    "\n",
    "fd.close()"
   ]
  },
  {
   "cell_type": "code",
   "execution_count": 3,
   "id": "4f8e377f",
   "metadata": {},
   "outputs": [
    {
     "name": "stdout",
     "output_type": "stream",
     "text": [
      "['1,5 Star,5,100', '2,Milky Bar,5,100', '3,Cake,300,5', '4,Candy,1,200', '5,Sugar,50,10']\n"
     ]
    }
   ],
   "source": [
    "print(products)"
   ]
  },
  {
   "cell_type": "code",
   "execution_count": 5,
   "id": "2f13edc5",
   "metadata": {},
   "outputs": [
    {
     "name": "stdout",
     "output_type": "stream",
     "text": [
      "Enter product ID: 3\n",
      "Enter product Quantity: 23\n",
      "-----------------------------\n",
      "Product Name     :  Cake\n",
      "Price            :  300\n",
      "Quantity         :  23\n",
      "-----------------------------\n",
      "Billing Amount   :  6900\n",
      "-----------------------------\n"
     ]
    }
   ],
   "source": [
    "fd = open('Inventory.txt','r')\n",
    "products = fd.read().split('\\n')\n",
    "fd.close()\n",
    "\n",
    "\n",
    "ui_prod_id = input(\"Enter product ID: \")\n",
    "ui_prod_qn = input(\"Enter product Quantity: \")\n",
    "\n",
    "updated_product_lst = []\n",
    "\n",
    "for product in products:\n",
    "    \n",
    "    prod_details = product.split(',')\n",
    "    \n",
    "    if(prod_details[0] == ui_prod_id):\n",
    "        print(\"-----------------------------\")\n",
    "        print(\"Product Name     : \", prod_details[1])\n",
    "        print(\"Price            : \", prod_details[2]) \n",
    "        print(\"Quantity         : \", ui_prod_qn) \n",
    "        print(\"-----------------------------\")\n",
    "        print(\"Billing Amount   : \", int(ui_prod_qn) * int(prod_details[2]))\n",
    "        print(\"-----------------------------\")\n",
    "        \n",
    "        prod_details[3] = str(int(prod_details[3]) - int(ui_prod_qn))\n",
    "        \n",
    "    updated_product_lst.append(prod_details)\n",
    "    \n",
    "\n",
    "    \n",
    "lst = []\n",
    "\n",
    "for i in updated_product_lst:\n",
    "    prod = i[0] +\",\"+  i[1] +\",\"+ i[2] +\",\"+ i[3] + '\\n'\n",
    "    lst.append(prod)\n",
    "\n",
    "lst[-1] = lst[-1][:-1] #empty list \n",
    "    \n",
    "fd = open('Inventory.txt','w')\n",
    "for i in lst:\n",
    "    fd.write(i)\n",
    "\n",
    "fd.close()\n"
   ]
  },
  {
   "cell_type": "code",
   "execution_count": null,
   "id": "2d22cac0",
   "metadata": {},
   "outputs": [],
   "source": []
  }
 ],
 "metadata": {
  "kernelspec": {
   "display_name": "Python 3 (ipykernel)",
   "language": "python",
   "name": "python3"
  },
  "language_info": {
   "codemirror_mode": {
    "name": "ipython",
    "version": 3
   },
   "file_extension": ".py",
   "mimetype": "text/x-python",
   "name": "python",
   "nbconvert_exporter": "python",
   "pygments_lexer": "ipython3",
   "version": "3.9.13"
  }
 },
 "nbformat": 4,
 "nbformat_minor": 5
}
