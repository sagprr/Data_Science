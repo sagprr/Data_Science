{
 "cells": [
  {
   "cell_type": "code",
   "execution_count": 2,
   "id": "a324bd6b",
   "metadata": {},
   "outputs": [],
   "source": [
    "dicct = { 1001 : {'Name':\"Cadbury\" , \"Price\": 30,\"Qn\":3000},\n",
    "          1002: {'Name': \"Bar-One\"        , \"Price\" : 20 , \"Qn\" : 100 },\n",
    "          1003: {'Name': \"Candy\"          , \"Price\" : 2  , \"Qn\" : 1000},\n",
    "          1004: {'Name': \"Chocolate Cake\" , \"Price\" : 550, \"Qn\" : 8 },\n",
    "          1005: {'Name': \"Blueberry Cake\" , \"Price\" : 650, \"Qn\" : 5 }\n",
    "        \n",
    "        }"
   ]
  },
  {
   "cell_type": "code",
   "execution_count": 3,
   "id": "628df2c1",
   "metadata": {},
   "outputs": [
    {
     "name": "stdout",
     "output_type": "stream",
     "text": [
      "{1001: {'Name': 'Cadbury', 'Price': 30, 'Qn': 3000}, 1002: {'Name': 'Bar-One', 'Price': 20, 'Qn': 100}, 1003: {'Name': 'Candy', 'Price': 2, 'Qn': 1000}, 1004: {'Name': 'Chocolate Cake', 'Price': 550, 'Qn': 8}, 1005: {'Name': 'Blueberry Cake', 'Price': 650, 'Qn': 5}}\n"
     ]
    }
   ],
   "source": [
    "print(dicct)"
   ]
  },
  {
   "cell_type": "code",
   "execution_count": 4,
   "id": "7421c5e7",
   "metadata": {},
   "outputs": [
    {
     "data": {
      "text/plain": [
       "{1001: {'Name': 'Cadbury', 'Price': 30, 'Qn': 3000},\n",
       " 1002: {'Name': 'Bar-One', 'Price': 20, 'Qn': 100},\n",
       " 1003: {'Name': 'Candy', 'Price': 2, 'Qn': 1000},\n",
       " 1004: {'Name': 'Chocolate Cake', 'Price': 550, 'Qn': 8},\n",
       " 1005: {'Name': 'Blueberry Cake', 'Price': 650, 'Qn': 5}}"
      ]
     },
     "execution_count": 4,
     "metadata": {},
     "output_type": "execute_result"
    }
   ],
   "source": [
    "dicct"
   ]
  },
  {
   "cell_type": "code",
   "execution_count": 9,
   "id": "f6c7bec5",
   "metadata": {},
   "outputs": [
    {
     "name": "stdout",
     "output_type": "stream",
     "text": [
      "Candy\n",
      "Chocolate Cake\n",
      "Bar-One\n",
      "2\n"
     ]
    }
   ],
   "source": [
    "print(dicct[1003][\"Name\"])\n",
    "print(dicct[1004][\"Name\"])\n",
    "print(dicct[1002][\"Name\"])\n",
    "print(dicct[1003][\"Price\"])"
   ]
  },
  {
   "cell_type": "code",
   "execution_count": null,
   "id": "2df3934c",
   "metadata": {},
   "outputs": [],
   "source": []
  },
  {
   "cell_type": "code",
   "execution_count": null,
   "id": "eb79c4c7",
   "metadata": {},
   "outputs": [],
   "source": []
  }
 ],
 "metadata": {
  "kernelspec": {
   "display_name": "Python 3 (ipykernel)",
   "language": "python",
   "name": "python3"
  },
  "language_info": {
   "codemirror_mode": {
    "name": "ipython",
    "version": 3
   },
   "file_extension": ".py",
   "mimetype": "text/x-python",
   "name": "python",
   "nbconvert_exporter": "python",
   "pygments_lexer": "ipython3",
   "version": "3.9.13"
  }
 },
 "nbformat": 4,
 "nbformat_minor": 5
}
