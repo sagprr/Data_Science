{
  "nbformat": 4,
  "nbformat_minor": 0,
  "metadata": {
    "colab": {
      "provenance": []
    },
    "kernelspec": {
      "name": "python3",
      "display_name": "Python 3"
    },
    "language_info": {
      "name": "python"
    }
  },
  "cells": [
    {
      "cell_type": "code",
      "execution_count": 1,
      "metadata": {
        "id": "12EtXDGxNrCo"
      },
      "outputs": [],
      "source": [
        "import numpy as np"
      ]
    },
    {
      "cell_type": "code",
      "source": [
        "arr = np.random.randint(1,20,size=(5,5))\n",
        "print(arr[arr>5])\n"
      ],
      "metadata": {
        "colab": {
          "base_uri": "https://localhost:8080/"
        },
        "id": "DMw5bx-KOyev",
        "outputId": "4b8f62a0-5471-401e-defa-bf1803855d90"
      },
      "execution_count": 5,
      "outputs": [
        {
          "output_type": "stream",
          "name": "stdout",
          "text": [
            "[ 6  8 11 10  6 18  7 15 14 10 17  8 18  9 13 13 17 18 16 10 18 14]\n"
          ]
        }
      ]
    },
    {
      "cell_type": "code",
      "source": [
        "print(arr[arr%2==0])\n",
        "print(arr[(arr%2==0) & (arr>5)])\n",
        "print(arr[(arr%3==0) | (arr%7==0)])"
      ],
      "metadata": {
        "colab": {
          "base_uri": "https://localhost:8080/"
        },
        "id": "Z4dCn8IpO4x1",
        "outputId": "b334bf7e-268d-4446-acfd-6a564d1934ed"
      },
      "execution_count": 15,
      "outputs": [
        {
          "output_type": "stream",
          "name": "stdout",
          "text": [
            "[ 2  8  2  4  4  8  2  2  4 10  8]\n",
            "[ 8  8 10  8]\n",
            "[9 7 7 9 3 7 3]\n"
          ]
        }
      ]
    },
    {
      "cell_type": "code",
      "source": [
        "import numpy as np\n",
        "arr = np.random.randint(1,11,size=(5,5))\n",
        "arr1 = np.array([True, False, True,False,True])\n",
        "print(arr[arr1])\n",
        "print(arr)\n"
      ],
      "metadata": {
        "colab": {
          "base_uri": "https://localhost:8080/"
        },
        "id": "8tdCg3hOQQU3",
        "outputId": "b01b9941-3764-404e-fd83-d447f1e45b6f"
      },
      "execution_count": 17,
      "outputs": [
        {
          "output_type": "stream",
          "name": "stdout",
          "text": [
            "[[ 8  8  4  7  5]\n",
            " [ 1  9  7  6 10]\n",
            " [ 3 10 10 10  7]]\n",
            "[[ 8  8  4  7  5]\n",
            " [ 7  9  6  6  7]\n",
            " [ 1  9  7  6 10]\n",
            " [ 7  2  7  2  3]\n",
            " [ 3 10 10 10  7]]\n"
          ]
        }
      ]
    },
    {
      "cell_type": "code",
      "source": [
        "import numpy as np\n",
        "arr = np.random.randint(1,11,size=(5,5))\n",
        "filtered_arr = arr[2][arr[2,:] > 5]\n",
        "print(filtered_arr)"
      ],
      "metadata": {
        "colab": {
          "base_uri": "https://localhost:8080/"
        },
        "id": "VyIwg1qPRpUh",
        "outputId": "14e5c8a6-6efe-4999-a521-83652b9efc5b"
      },
      "execution_count": 18,
      "outputs": [
        {
          "output_type": "stream",
          "name": "stdout",
          "text": [
            "[6]\n"
          ]
        }
      ]
    },
    {
      "cell_type": "code",
      "source": [
        "import numpy as np\n",
        "arr = np.array([1,2,3,4,5])\n",
        "print(np.sum(arr))\n",
        "\n",
        "arr = np.array([[1,2,3],[4,5,6]])\n",
        "print(np.sum(arr))\n",
        "print(np.sum(arr, axis = 0))\n",
        "print(np.sum(arr, axis = 1))"
      ],
      "metadata": {
        "colab": {
          "base_uri": "https://localhost:8080/"
        },
        "id": "iEI6hrU2S1Zw",
        "outputId": "b77df4c2-f091-4c5e-a7b7-ecb6dffbadfa"
      },
      "execution_count": 19,
      "outputs": [
        {
          "output_type": "stream",
          "name": "stdout",
          "text": [
            "15\n",
            "21\n",
            "[5 7 9]\n",
            "[ 6 15]\n"
          ]
        }
      ]
    },
    {
      "cell_type": "code",
      "source": [
        "import numpy as np\n",
        "arr = np.array([1,2,3,4,5])\n",
        "print(np.mean(arr))\n",
        "\n",
        "arr = np.array([[1,2,3],[4,5,6]])\n",
        "print(np.mean(arr))\n",
        "print(np.mean(arr, axis = 0))\n",
        "print(np.mean(arr, axis = 1))"
      ],
      "metadata": {
        "colab": {
          "base_uri": "https://localhost:8080/"
        },
        "id": "urvRmk4NTg2a",
        "outputId": "425689d7-a4f0-4c27-fd63-33018347a9bb"
      },
      "execution_count": 20,
      "outputs": [
        {
          "output_type": "stream",
          "name": "stdout",
          "text": [
            "3.0\n",
            "3.5\n",
            "[2.5 3.5 4.5]\n",
            "[2. 5.]\n"
          ]
        }
      ]
    },
    {
      "cell_type": "code",
      "source": [
        "import numpy as np\n",
        "arr = np.array([1,2,3,4,5])\n",
        "print(np.std(arr))\n",
        "\n",
        "arr = np.array([[1,2,3],[4,5,6]])\n",
        "print(np.std(arr))\n",
        "print(np.std(arr, axis = 0))\n",
        "print(np.std(arr, axis = 1))"
      ],
      "metadata": {
        "colab": {
          "base_uri": "https://localhost:8080/"
        },
        "id": "m5ab3xe0TpUv",
        "outputId": "7f34d6fd-be8b-4e10-cc9c-6664839446a1"
      },
      "execution_count": 21,
      "outputs": [
        {
          "output_type": "stream",
          "name": "stdout",
          "text": [
            "1.4142135623730951\n",
            "1.707825127659933\n",
            "[1.5 1.5 1.5]\n",
            "[0.81649658 0.81649658]\n"
          ]
        }
      ]
    },
    {
      "cell_type": "code",
      "source": [
        "import numpy as np\n",
        "arr = np.array([1,2,3,4,5])\n",
        "print(np.min(arr))\n",
        "\n",
        "arr = np.array([[1,2,3],[4,5,6]])\n",
        "print(np.min(arr))\n",
        "print(np.min(arr, axis = 0))\n",
        "print(np.min(arr, axis = 1))\n",
        "\n",
        "print('-'*20)\n",
        "\n",
        "arr = np.array([1,2,3,4,5])\n",
        "print(np.max(arr))\n",
        "\n",
        "arr = np.array([[1,2,3],[4,5,6]])\n",
        "print(np.max(arr))\n",
        "print(np.max(arr, axis = 0))\n",
        "print(np.max(arr, axis = 1))\n",
        "# column wise filtering"
      ],
      "metadata": {
        "colab": {
          "base_uri": "https://localhost:8080/"
        },
        "id": "4DTCkbIzT5KO",
        "outputId": "07263972-6d5c-4422-ec87-d5a0ddf20721"
      },
      "execution_count": 23,
      "outputs": [
        {
          "output_type": "stream",
          "name": "stdout",
          "text": [
            "1\n",
            "1\n",
            "[1 2 3]\n",
            "[1 4]\n",
            "--------------------\n",
            "5\n",
            "6\n",
            "[4 5 6]\n",
            "[3 6]\n"
          ]
        }
      ]
    },
    {
      "cell_type": "code",
      "source": [],
      "metadata": {
        "id": "8yk2eTfkUWLM"
      },
      "execution_count": null,
      "outputs": []
    }
  ]
}