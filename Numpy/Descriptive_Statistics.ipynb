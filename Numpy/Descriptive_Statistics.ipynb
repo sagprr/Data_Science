{
  "nbformat": 4,
  "nbformat_minor": 0,
  "metadata": {
    "colab": {
      "provenance": []
    },
    "kernelspec": {
      "name": "python3",
      "display_name": "Python 3"
    },
    "language_info": {
      "name": "python"
    }
  },
  "cells": [
    {
      "cell_type": "code",
      "execution_count": 1,
      "metadata": {
        "colab": {
          "base_uri": "https://localhost:8080/"
        },
        "id": "Z3cEaCbrUlHv",
        "outputId": "f59fe945-76e6-4fe2-f3be-15fdc5e4ff22"
      },
      "outputs": [
        {
          "output_type": "stream",
          "name": "stdout",
          "text": [
            "[697 783 794 202 852 746 806 316 244 345 278  87 623 632 697 933 717 435\n",
            " 222 397 957 851 316 696  79 338 677 665 138 206  42 158 868 897 958 458\n",
            " 595 547 928 810  94 368 642 716 591 117 284 502 168 139 471 873 291 526\n",
            "  58 765 848 916 769 272 172 515 956 393 443 166 982 412   6 397 835 302\n",
            "  72 483 506 238 721 659 487 132 866  94 276 292 871  85 618 137  14 271\n",
            " 514 463 112 881 493 414 675 188  53 285]\n"
          ]
        }
      ],
      "source": [
        "import numpy as np\n",
        "arr = np.random.randint(low=1,high=1000,size=100)\n",
        "print(arr)"
      ]
    },
    {
      "cell_type": "code",
      "source": [
        "# Computing mean and median\n",
        "mean = np.mean(arr)\n",
        "median = np.median(arr)\n",
        "\n",
        "print(\"Mean:\",mean)\n",
        "print(\"Median:\",median)\n"
      ],
      "metadata": {
        "colab": {
          "base_uri": "https://localhost:8080/"
        },
        "id": "TKO4uCCHWPcL",
        "outputId": "e81e8958-c410-471a-a23c-47484953f887"
      },
      "execution_count": 4,
      "outputs": [
        {
          "output_type": "stream",
          "name": "stdout",
          "text": [
            "Mean: 478.79\n",
            "Median: 467.0\n"
          ]
        }
      ]
    },
    {
      "cell_type": "code",
      "source": [
        "# Computing variance and standard deviation\n",
        "variance = np.var(arr)\n",
        "std_dev = np.std(arr)"
      ],
      "metadata": {
        "id": "c6AcEoC5WY2_"
      },
      "execution_count": 5,
      "outputs": []
    },
    {
      "cell_type": "code",
      "source": [
        "print(variance)\n",
        "print(std_dev)"
      ],
      "metadata": {
        "colab": {
          "base_uri": "https://localhost:8080/"
        },
        "id": "vPQiDLoTWpFQ",
        "outputId": "c069eef5-d0c6-48f9-a575-e2ca5dc6e4cf"
      },
      "execution_count": 6,
      "outputs": [
        {
          "output_type": "stream",
          "name": "stdout",
          "text": [
            "81990.1459\n",
            "286.33921474363234\n"
          ]
        }
      ]
    },
    {
      "cell_type": "code",
      "source": [
        "q1 = np.percentile(arr, 25)\n",
        "q2 = np.percentile(arr, 50)  # Median is also the 50th percentile\n",
        "q3 = np.percentile(arr, 75)\n",
        "iqr = q3 - q1"
      ],
      "metadata": {
        "id": "Cq7zidtAWwDu"
      },
      "execution_count": 7,
      "outputs": []
    },
    {
      "cell_type": "code",
      "source": [
        "print(q1,q2,q3)"
      ],
      "metadata": {
        "colab": {
          "base_uri": "https://localhost:8080/"
        },
        "id": "dSxKULX3W33G",
        "outputId": "604beb55-8c56-4a9d-8bd8-1b057d9ed9c4"
      },
      "execution_count": 8,
      "outputs": [
        {
          "output_type": "stream",
          "name": "stdout",
          "text": [
            "234.0 467.0 718.0\n"
          ]
        }
      ]
    },
    {
      "cell_type": "code",
      "source": [
        "print(iqr)"
      ],
      "metadata": {
        "colab": {
          "base_uri": "https://localhost:8080/"
        },
        "id": "CiSE_0h2W6d4",
        "outputId": "73a0c18a-497b-42ee-a4f6-6da08faf1cfa"
      },
      "execution_count": 9,
      "outputs": [
        {
          "output_type": "stream",
          "name": "stdout",
          "text": [
            "484.0\n"
          ]
        }
      ]
    },
    {
      "cell_type": "code",
      "source": [
        "skewness = np.mean((arr - mean) ** 3) / (std_dev ** 3)\n",
        "kurtosis = np.mean((arr - mean) ** 4) / (std_dev ** 4)\n"
      ],
      "metadata": {
        "id": "0j3NBycyW9xG"
      },
      "execution_count": 10,
      "outputs": []
    },
    {
      "cell_type": "code",
      "source": [
        "print('IQR       : ', iqr)\n",
        "print('Skewness  : ', skewness)\n",
        "print('Kurtosis  : ', kurtosis)"
      ],
      "metadata": {
        "colab": {
          "base_uri": "https://localhost:8080/"
        },
        "id": "bI_4q5tEXZte",
        "outputId": "9c6f7a83-839a-4a21-c7b1-05af75ea751d"
      },
      "execution_count": 11,
      "outputs": [
        {
          "output_type": "stream",
          "name": "stdout",
          "text": [
            "IQR       :  484.0\n",
            "Skewness  :  0.0987281562451234\n",
            "Kurtosis  :  1.7322194117923237\n"
          ]
        }
      ]
    },
    {
      "cell_type": "code",
      "source": [],
      "metadata": {
        "id": "K4Ds6wYPXcl3"
      },
      "execution_count": null,
      "outputs": []
    }
  ]
}