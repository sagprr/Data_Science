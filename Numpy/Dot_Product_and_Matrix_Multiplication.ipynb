{
  "nbformat": 4,
  "nbformat_minor": 0,
  "metadata": {
    "colab": {
      "provenance": []
    },
    "kernelspec": {
      "name": "python3",
      "display_name": "Python 3"
    },
    "language_info": {
      "name": "python"
    }
  },
  "cells": [
    {
      "cell_type": "code",
      "execution_count": 1,
      "metadata": {
        "id": "3X3sW5FTh6iS"
      },
      "outputs": [],
      "source": [
        "import numpy as np\n",
        "a = np.array([1, 2])\n",
        "b = np.array([2, 3])\n",
        "dot_product = np.dot(a, b)"
      ]
    },
    {
      "cell_type": "code",
      "source": [
        "print(\"Dot Product:\", dot_product)"
      ],
      "metadata": {
        "colab": {
          "base_uri": "https://localhost:8080/"
        },
        "id": "rsFbeF9eh9ML",
        "outputId": "2a9f87c9-970c-464a-da60-bebf45eb825c"
      },
      "execution_count": 2,
      "outputs": [
        {
          "output_type": "stream",
          "name": "stdout",
          "text": [
            "Dot Product: 8\n"
          ]
        }
      ]
    },
    {
      "cell_type": "code",
      "source": [
        "import numpy as np\n",
        "A = np.array([[1, 2], [3, 4]])\n",
        "B = np.array([[2, 3], [4, 5]])\n",
        "product = np.matmul(A, B)\n",
        "print(\"Matrix Product:\\n\", product)"
      ],
      "metadata": {
        "colab": {
          "base_uri": "https://localhost:8080/"
        },
        "id": "L7l1jshGh-in",
        "outputId": "5c1c31d4-491c-46eb-d991-37bd2aaf3b19"
      },
      "execution_count": 3,
      "outputs": [
        {
          "output_type": "stream",
          "name": "stdout",
          "text": [
            "Matrix Product:\n",
            " [[10 13]\n",
            " [22 29]]\n"
          ]
        }
      ]
    },
    {
      "cell_type": "code",
      "source": [
        "import numpy as np\n",
        "C = np.array([1, 2])\n",
        "D = np.array([[4, 1], [3, 5]])\n",
        "product = np.matmul(C, D)\n",
        "print(\"Broadcasted Matrix Product:\\n\", product)"
      ],
      "metadata": {
        "colab": {
          "base_uri": "https://localhost:8080/"
        },
        "id": "AT4elGp3iC5s",
        "outputId": "bbbb821d-38d8-498b-8940-9722ddbf6833"
      },
      "execution_count": 4,
      "outputs": [
        {
          "output_type": "stream",
          "name": "stdout",
          "text": [
            "Broadcasted Matrix Product:\n",
            " [10 11]\n"
          ]
        }
      ]
    },
    {
      "cell_type": "code",
      "source": [
        "import numpy as np\n",
        "A = np.array([[1, 2], [3, 4]])\n",
        "B = np.array([[2, 3], [4, 5]])\n",
        "product_dot = np.dot(A, B)\n",
        "product_matmul = np.matmul(A, B)\n",
        "print(\"Dot Product:\\n\", product_dot)\n",
        "print(\"Matrix Multiplication:\\n\", product_matmul)"
      ],
      "metadata": {
        "colab": {
          "base_uri": "https://localhost:8080/"
        },
        "id": "SIHmJZajiGEY",
        "outputId": "7907b46e-b185-4a4e-f117-118c7fa645a4"
      },
      "execution_count": 5,
      "outputs": [
        {
          "output_type": "stream",
          "name": "stdout",
          "text": [
            "Dot Product:\n",
            " [[10 13]\n",
            " [22 29]]\n",
            "Matrix Multiplication:\n",
            " [[10 13]\n",
            " [22 29]]\n"
          ]
        }
      ]
    },
    {
      "cell_type": "code",
      "source": [],
      "metadata": {
        "id": "Z4cBiBwQiIJn"
      },
      "execution_count": null,
      "outputs": []
    }
  ]
}