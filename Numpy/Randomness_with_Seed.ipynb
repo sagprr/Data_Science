{
  "nbformat": 4,
  "nbformat_minor": 0,
  "metadata": {
    "colab": {
      "provenance": []
    },
    "kernelspec": {
      "name": "python3",
      "display_name": "Python 3"
    },
    "language_info": {
      "name": "python"
    }
  },
  "cells": [
    {
      "cell_type": "code",
      "execution_count": 1,
      "metadata": {
        "colab": {
          "base_uri": "https://localhost:8080/"
        },
        "id": "l0g2bVm1Y5rr",
        "outputId": "2ca776b0-9d92-4cb3-bc99-83a3cd8cbf8e"
      },
      "outputs": [
        {
          "output_type": "stream",
          "name": "stdout",
          "text": [
            "0.5745767977343347\n",
            "[0.27232926 0.24397605 0.33132376]\n"
          ]
        }
      ],
      "source": [
        "#Seed helps to provide a constant random number in it using seeding of a tree\n",
        "import numpy as np\n",
        "print(np.random.rand())\n",
        "print(np.random.rand(3))"
      ]
    },
    {
      "cell_type": "code",
      "source": [
        "import numpy as np\n",
        "np.random.seed(2)\n",
        "print(np.random.rand())\n",
        "print(np.random.rand(3))"
      ],
      "metadata": {
        "colab": {
          "base_uri": "https://localhost:8080/"
        },
        "id": "TZa8EsEYY9NC",
        "outputId": "ee10b0ce-7786-4a1d-edb1-70d842657f63"
      },
      "execution_count": 8,
      "outputs": [
        {
          "output_type": "stream",
          "name": "stdout",
          "text": [
            "0.43599490214200376\n",
            "[0.02592623 0.54966248 0.43532239]\n"
          ]
        }
      ]
    },
    {
      "cell_type": "code",
      "source": [
        "import numpy as np\n",
        "np.random.seed(5)\n",
        "\n",
        "for i in range(10):\n",
        "  arr = np.random.randint(2, size = 1000)\n",
        "  print(len(arr[arr == 1]) , len(arr[arr == 0]))"
      ],
      "metadata": {
        "colab": {
          "base_uri": "https://localhost:8080/"
        },
        "id": "aAHgWNWXY_Ww",
        "outputId": "c7d98fb1-bfd4-4494-cb99-1fe0fc9826eb"
      },
      "execution_count": 11,
      "outputs": [
        {
          "output_type": "stream",
          "name": "stdout",
          "text": [
            "505 495\n",
            "509 491\n",
            "481 519\n",
            "508 492\n",
            "510 490\n",
            "490 510\n",
            "503 497\n",
            "475 525\n",
            "496 504\n",
            "499 501\n"
          ]
        }
      ]
    },
    {
      "cell_type": "code",
      "source": [],
      "metadata": {
        "id": "nzrk-pVyZDfo"
      },
      "execution_count": 10,
      "outputs": []
    }
  ]
}