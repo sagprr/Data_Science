{
  "nbformat": 4,
  "nbformat_minor": 0,
  "metadata": {
    "colab": {
      "provenance": []
    },
    "kernelspec": {
      "name": "python3",
      "display_name": "Python 3"
    },
    "language_info": {
      "name": "python"
    }
  },
  "cells": [
    {
      "cell_type": "code",
      "execution_count": 2,
      "metadata": {
        "colab": {
          "base_uri": "https://localhost:8080/"
        },
        "id": "X4TIquNRLPha",
        "outputId": "b04b3ac4-89a0-4c2c-cb57-e0ed9183c847"
      },
      "outputs": [
        {
          "output_type": "stream",
          "name": "stdout",
          "text": [
            "[1 2 3 None 4 5 None]\n",
            "[1 2 3 nan 4 5 nan]\n"
          ]
        }
      ],
      "source": [
        "import numpy as np\n",
        "arr = np.array([1,2,3,None, 4,5,None])\n",
        "print(arr)\n",
        "\n",
        "arr[arr == None] = np.nan\n",
        "print(arr)"
      ]
    },
    {
      "cell_type": "code",
      "source": [
        "import numpy as np\n",
        "#conversion required for this\n",
        "arr = np.array([1,2,3,np.nan, 4,5,np.nan])\n",
        "print(arr)\n",
        "\n",
        "print(np.isnan(arr))"
      ],
      "metadata": {
        "colab": {
          "base_uri": "https://localhost:8080/"
        },
        "id": "xL9WGN4kMHfN",
        "outputId": "215e6a8b-d13c-429c-b784-b3631ecc0948"
      },
      "execution_count": 4,
      "outputs": [
        {
          "output_type": "stream",
          "name": "stdout",
          "text": [
            "[ 1.  2.  3. nan  4.  5. nan]\n",
            "[False False False  True False False  True]\n"
          ]
        }
      ]
    },
    {
      "cell_type": "code",
      "source": [
        "import numpy as np\n",
        "arr = np.array([1,2,3,np.nan, 4,5,np.nan])\n",
        "\n",
        "print(np.isnan(arr))\n",
        "print(~np.isnan(arr))\n",
        "\n",
        "arr = arr[~np.isnan(arr)]\n",
        "print(arr)"
      ],
      "metadata": {
        "colab": {
          "base_uri": "https://localhost:8080/"
        },
        "id": "BMbCl0-2MiHJ",
        "outputId": "d364e981-8950-4e28-9e8d-2a840898b42e"
      },
      "execution_count": 5,
      "outputs": [
        {
          "output_type": "stream",
          "name": "stdout",
          "text": [
            "[False False False  True False False  True]\n",
            "[ True  True  True False  True  True False]\n",
            "[1. 2. 3. 4. 5.]\n"
          ]
        }
      ]
    },
    {
      "cell_type": "code",
      "source": [
        "import numpy as np\n",
        "arr = np.array([1,2,3, np.nan, 4,5,np.nan])\n",
        "print(arr)\n",
        "\n",
        "arr[np.isnan(arr)] = 0\n",
        "print(arr)"
      ],
      "metadata": {
        "colab": {
          "base_uri": "https://localhost:8080/"
        },
        "id": "c2v506QhMo-j",
        "outputId": "60c335f6-b1b7-42bf-8263-e9b423115404"
      },
      "execution_count": 6,
      "outputs": [
        {
          "output_type": "stream",
          "name": "stdout",
          "text": [
            "[ 1.  2.  3. nan  4.  5. nan]\n",
            "[1. 2. 3. 0. 4. 5. 0.]\n"
          ]
        }
      ]
    },
    {
      "cell_type": "code",
      "source": [
        "import numpy as np\n",
        "arr = np.array([21,22,22, np.nan, 24,25,np.nan])\n",
        "print(arr)\n",
        "\n",
        "arr[np.isnan(arr)] = int(np.nanmean(arr))\n",
        "print(arr)"
      ],
      "metadata": {
        "colab": {
          "base_uri": "https://localhost:8080/"
        },
        "id": "uhy422A4NB1K",
        "outputId": "9451f172-dd77-4244-8b0d-911cc28fd29c"
      },
      "execution_count": 7,
      "outputs": [
        {
          "output_type": "stream",
          "name": "stdout",
          "text": [
            "[21. 22. 22. nan 24. 25. nan]\n",
            "[21. 22. 22. 22. 24. 25. 22.]\n"
          ]
        }
      ]
    },
    {
      "cell_type": "code",
      "source": [],
      "metadata": {
        "id": "W9gIm4zNNJLO"
      },
      "execution_count": null,
      "outputs": []
    }
  ]
}