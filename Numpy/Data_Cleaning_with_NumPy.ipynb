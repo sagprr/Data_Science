{
  "nbformat": 4,
  "nbformat_minor": 0,
  "metadata": {
    "colab": {
      "provenance": []
    },
    "kernelspec": {
      "name": "python3",
      "display_name": "Python 3"
    },
    "language_info": {
      "name": "python"
    }
  },
  "cells": [
    {
      "cell_type": "markdown",
      "source": [
        "***Data cleaning is a crucial step in the data preprocessing*** pipeline, involving the identification and handling of missing values, outliers, duplicates, and categorical data. NumPy, a powerful library for numerical computing in Python, provides efficient tools for data cleaning tasks. In this article, we'll explore various data cleaning techniques using NumPy, including masking with boolean arrays, replacing outliers, removing duplicates, converting categorical data to one-hot encoding, and data normalization.\n",
        "\n"
      ],
      "metadata": {
        "id": "4Stg2eAXccol"
      }
    },
    {
      "cell_type": "code",
      "execution_count": 2,
      "metadata": {
        "colab": {
          "base_uri": "https://localhost:8080/"
        },
        "id": "BMp5vviccbM8",
        "outputId": "cc916ce1-1e97-415a-f63b-5f559fee075d"
      },
      "outputs": [
        {
          "output_type": "stream",
          "name": "stdout",
          "text": [
            "[False False  True False False  True]\n",
            "[nan nan]\n",
            "[1. 2. 4. 5.]\n"
          ]
        }
      ],
      "source": [
        "import numpy as np\n",
        "arr = np.array([1,2,np.nan,4,5,np.nan])\n",
        "\n",
        "print(np.isnan(arr))\n",
        "print(arr[np.isnan(arr)])\n",
        "print(arr[~np.isnan(arr)])"
      ]
    },
    {
      "cell_type": "code",
      "source": [
        "arr = np.array([1,2,3,4,5,6,7,8,9])\n",
        "\n",
        "\n",
        "#replacing with certain value\n",
        "\n",
        "arr[arr > 7] = 7\n",
        "arr[arr < 3] = 3\n",
        "print(arr)"
      ],
      "metadata": {
        "colab": {
          "base_uri": "https://localhost:8080/"
        },
        "id": "M2HfYZDJdQPA",
        "outputId": "8d08d2bb-d4ab-41fc-d748-bec5c9e7c8ab"
      },
      "execution_count": 4,
      "outputs": [
        {
          "output_type": "stream",
          "name": "stdout",
          "text": [
            "[3 3 3 4 5 6 7 7 7]\n"
          ]
        }
      ]
    },
    {
      "cell_type": "code",
      "source": [
        "arr = np.array([1,2,2,2,3,3,4,5,6,7,8,9])\n",
        "print(arr)\n",
        "\n",
        "unique_arr = np.unique(arr)\n",
        "print(unique_arr)\n",
        "\n",
        "print(set(arr))"
      ],
      "metadata": {
        "colab": {
          "base_uri": "https://localhost:8080/"
        },
        "id": "aLilH_y3dlSE",
        "outputId": "7c78336c-c076-4b71-e9f5-533dcb04dac6"
      },
      "execution_count": 6,
      "outputs": [
        {
          "output_type": "stream",
          "name": "stdout",
          "text": [
            "[1 2 2 2 3 3 4 5 6 7 8 9]\n",
            "[1 2 3 4 5 6 7 8 9]\n",
            "{1, 2, 3, 4, 5, 6, 7, 8, 9}\n"
          ]
        }
      ]
    },
    {
      "cell_type": "code",
      "source": [
        "categorical_arr = np.array(['A','B','C','D','E'])\n",
        "\n",
        "numrical_arr = np.array([0,1,2,3,4])\n",
        "\n",
        "print(categorical_arr)\n",
        "#one hot encoding\n",
        "one_hot_arr = np.eye(5)[numrical_arr]\n",
        "print(one_hot_arr)"
      ],
      "metadata": {
        "colab": {
          "base_uri": "https://localhost:8080/"
        },
        "id": "Kkt9yvfEeABV",
        "outputId": "f8b2a8e9-f999-40b9-8477-fc59242ece62"
      },
      "execution_count": 8,
      "outputs": [
        {
          "output_type": "stream",
          "name": "stdout",
          "text": [
            "['A' 'B' 'C' 'D' 'E']\n",
            "[[1. 0. 0. 0. 0.]\n",
            " [0. 1. 0. 0. 0.]\n",
            " [0. 0. 1. 0. 0.]\n",
            " [0. 0. 0. 1. 0.]\n",
            " [0. 0. 0. 0. 1.]]\n"
          ]
        }
      ]
    },
    {
      "cell_type": "code",
      "source": [
        "arr = np.array([10000,200000,300000,4000000,5000000])\n",
        "\n",
        "\n",
        "#normalisation\n",
        "\n",
        "normalized_arr = (arr - arr.min()) / (arr.max() - arr.min())\n",
        "print(normalized_arr)"
      ],
      "metadata": {
        "colab": {
          "base_uri": "https://localhost:8080/"
        },
        "id": "iBrC4FNzfHhF",
        "outputId": "c8753e8f-855a-468f-eb14-4197a21b422d"
      },
      "execution_count": 10,
      "outputs": [
        {
          "output_type": "stream",
          "name": "stdout",
          "text": [
            "[0.         0.03807615 0.05811623 0.7995992  1.        ]\n"
          ]
        }
      ]
    },
    {
      "cell_type": "code",
      "source": [],
      "metadata": {
        "id": "umFIMFbkfdfd"
      },
      "execution_count": null,
      "outputs": []
    }
  ]
}