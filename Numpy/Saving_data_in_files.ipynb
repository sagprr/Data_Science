{
  "nbformat": 4,
  "nbformat_minor": 0,
  "metadata": {
    "colab": {
      "provenance": []
    },
    "kernelspec": {
      "name": "python3",
      "display_name": "Python 3"
    },
    "language_info": {
      "name": "python"
    }
  },
  "cells": [
    {
      "cell_type": "code",
      "execution_count": 8,
      "metadata": {
        "id": "9ETD8ih1ABOn"
      },
      "outputs": [],
      "source": [
        "import numpy as np\n",
        "arr = np.array([[1,2,3],[4,5,6]])\n",
        "np.savetxt('dataa.txt',arr)"
      ]
    },
    {
      "cell_type": "code",
      "source": [
        "import numpy as np\n",
        "arr = np.array([[1,2,3],[4,5,6]])\n",
        "np.save('data.npy', arr)"
      ],
      "metadata": {
        "id": "dYEkb7XaAFsb"
      },
      "execution_count": 9,
      "outputs": []
    },
    {
      "cell_type": "code",
      "source": [
        "import numpy as np\n",
        "arr = np.array([[1,2,3],[4,5,6]])\n",
        "np.savetxt('datacsv.csv',arr, delimiter = ',', header = 'a,b,c')"
      ],
      "metadata": {
        "id": "VvLUBhWtAH0C"
      },
      "execution_count": 10,
      "outputs": []
    },
    {
      "cell_type": "code",
      "source": [
        "import numpy as np\n",
        "arr = np.array([[1,2,3],[4,5,6]])\n",
        "np.savetxt('datajson.json',arr, delimiter = ',', header = '{\"data\"  : [', footer = ']}')\n"
      ],
      "metadata": {
        "id": "UeLsZnx2DS8r"
      },
      "execution_count": 11,
      "outputs": []
    },
    {
      "cell_type": "code",
      "source": [
        "import numpy as np\n",
        "arr = np.array([[1,2,3],[4,5,6]])\n",
        "np.savetxt('dataym.yaml',arr, delimiter = ',', header = '- data : ')"
      ],
      "metadata": {
        "id": "SW60vTArDWzu"
      },
      "execution_count": 12,
      "outputs": []
    },
    {
      "cell_type": "code",
      "source": [],
      "metadata": {
        "id": "EuKWXk0cDZ8e"
      },
      "execution_count": null,
      "outputs": []
    }
  ]
}