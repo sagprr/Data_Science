{
  "nbformat": 4,
  "nbformat_minor": 0,
  "metadata": {
    "colab": {
      "provenance": []
    },
    "kernelspec": {
      "name": "python3",
      "display_name": "Python 3"
    },
    "language_info": {
      "name": "python"
    }
  },
  "cells": [
    {
      "cell_type": "code",
      "execution_count": 1,
      "metadata": {
        "colab": {
          "base_uri": "https://localhost:8080/"
        },
        "id": "G1AIkWkXZll0",
        "outputId": "f200c189-270a-4c1e-fd83-2b156aa9486e"
      },
      "outputs": [
        {
          "output_type": "stream",
          "name": "stdout",
          "text": [
            "range(0, 10)\n"
          ]
        }
      ],
      "source": [
        "r = range(10)\n",
        "print(r)"
      ]
    },
    {
      "cell_type": "code",
      "source": [
        "r = range(0,10, 2)\n",
        "print(r)"
      ],
      "metadata": {
        "colab": {
          "base_uri": "https://localhost:8080/"
        },
        "id": "5HUnKqepaKN1",
        "outputId": "475a014c-74d3-4b16-b88b-6eea0dd04658"
      },
      "execution_count": 2,
      "outputs": [
        {
          "output_type": "stream",
          "name": "stdout",
          "text": [
            "range(0, 10, 2)\n"
          ]
        }
      ]
    },
    {
      "cell_type": "code",
      "source": [
        "print(6 in range(10))\n",
        "print(list(range(10)))"
      ],
      "metadata": {
        "colab": {
          "base_uri": "https://localhost:8080/"
        },
        "id": "80ZjYmfGbeS3",
        "outputId": "a2810b4e-dc2c-48cb-efc7-aba880e229fb"
      },
      "execution_count": 3,
      "outputs": [
        {
          "output_type": "stream",
          "name": "stdout",
          "text": [
            "True\n",
            "[0, 1, 2, 3, 4, 5, 6, 7, 8, 9]\n"
          ]
        }
      ]
    },
    {
      "cell_type": "code",
      "source": [
        "#arrange\n",
        "import numpy as np\n",
        "arr = np.arange(0,10,2)\n",
        "print(arr)\n",
        "\n",
        "arr1 = np.arange(10,0,-1)\n",
        "print(arr1)\n",
        "\n",
        "arr2 = np.arange(0,10,.5)\n",
        "print(arr2)"
      ],
      "metadata": {
        "colab": {
          "base_uri": "https://localhost:8080/"
        },
        "id": "KNmHdAp7bfyJ",
        "outputId": "a69ddcab-9137-4499-d3d7-f3a27352fac3"
      },
      "execution_count": 7,
      "outputs": [
        {
          "output_type": "stream",
          "name": "stdout",
          "text": [
            "[0 2 4 6 8]\n",
            "[10  9  8  7  6  5  4  3  2  1]\n",
            "[0.  0.5 1.  1.5 2.  2.5 3.  3.5 4.  4.5 5.  5.5 6.  6.5 7.  7.5 8.  8.5\n",
            " 9.  9.5]\n"
          ]
        }
      ]
    },
    {
      "cell_type": "code",
      "source": [
        "#linspace\n",
        "import numpy as np\n",
        "l = np.linspace(0,10,5)\n",
        "print(l)\n",
        "\n",
        "l = np.linspace(1,10,10)\n",
        "print(l)"
      ],
      "metadata": {
        "colab": {
          "base_uri": "https://localhost:8080/"
        },
        "id": "XY0XV66ybkS3",
        "outputId": "2c95f92e-c569-4ffe-99b6-092217a84f3b"
      },
      "execution_count": 8,
      "outputs": [
        {
          "output_type": "stream",
          "name": "stdout",
          "text": [
            "[ 0.   2.5  5.   7.5 10. ]\n",
            "[ 1.  2.  3.  4.  5.  6.  7.  8.  9. 10.]\n"
          ]
        }
      ]
    },
    {
      "cell_type": "code",
      "source": [
        "l = np.linspace(1,10,10, endpoint = False)\n",
        "print(l)\n",
        "\n",
        "l,s= np.linspace(1,5,10, retstep = True)\n",
        "print(l)\n",
        "print(s)"
      ],
      "metadata": {
        "colab": {
          "base_uri": "https://localhost:8080/"
        },
        "id": "FlMbF-uZbmmS",
        "outputId": "967200b2-547b-4a0b-878f-a7e85156c6c0"
      },
      "execution_count": 10,
      "outputs": [
        {
          "output_type": "stream",
          "name": "stdout",
          "text": [
            "[1.  1.9 2.8 3.7 4.6 5.5 6.4 7.3 8.2 9.1]\n",
            "[1.         1.44444444 1.88888889 2.33333333 2.77777778 3.22222222\n",
            " 3.66666667 4.11111111 4.55555556 5.        ]\n",
            "0.4444444444444444\n"
          ]
        }
      ]
    },
    {
      "cell_type": "code",
      "source": [
        "#logspace\n",
        "import numpy as np\n",
        "arr = np.logspace(0,10,5)\n",
        "print(arr)\n",
        "\n",
        "arr = np.logspace(0,10,5, endpoint = False)\n",
        "print(arr)"
      ],
      "metadata": {
        "colab": {
          "base_uri": "https://localhost:8080/"
        },
        "id": "PqiYNMdUbttf",
        "outputId": "ab2d954f-55f9-4f4c-b60a-b675703bd474"
      },
      "execution_count": 12,
      "outputs": [
        {
          "output_type": "stream",
          "name": "stdout",
          "text": [
            "[1.00000000e+00 3.16227766e+02 1.00000000e+05 3.16227766e+07\n",
            " 1.00000000e+10]\n",
            "[1.e+00 1.e+02 1.e+04 1.e+06 1.e+08]\n"
          ]
        }
      ]
    },
    {
      "cell_type": "code",
      "source": [],
      "metadata": {
        "id": "bbaqMoCQcBLY"
      },
      "execution_count": null,
      "outputs": []
    }
  ]
}