{
  "nbformat": 4,
  "nbformat_minor": 0,
  "metadata": {
    "colab": {
      "provenance": []
    },
    "kernelspec": {
      "name": "python3",
      "display_name": "Python 3"
    },
    "language_info": {
      "name": "python"
    }
  },
  "cells": [
    {
      "cell_type": "code",
      "execution_count": 16,
      "metadata": {
        "colab": {
          "base_uri": "https://localhost:8080/"
        },
        "id": "tGDzzbnikYnb",
        "outputId": "f235124e-97f4-42e0-8793-a7c6cad4746e"
      },
      "outputs": [
        {
          "output_type": "stream",
          "name": "stdout",
          "text": [
            "[1, 2, 3, 4, 5]\n",
            "[1, 2, 3, 4, 5]\n",
            "----------\n"
          ]
        }
      ],
      "source": [
        "lst = [1,2,3,4,5]\n",
        "print(lst)\n",
        "lst1 = lst\n",
        "print(lst1)\n",
        "print('-'*10)"
      ]
    },
    {
      "cell_type": "code",
      "source": [
        "lst[0] = 5\n",
        "print(lst)\n",
        "print(lst1)\n",
        "print('-'*10)\n",
        "\n",
        "lst1[0] = 4\n",
        "print(lst)\n",
        "print(lst1)"
      ],
      "metadata": {
        "colab": {
          "base_uri": "https://localhost:8080/"
        },
        "id": "4PcbRHkskZLm",
        "outputId": "d559965a-9aa6-4ba8-f22f-c474cfd0d4ab"
      },
      "execution_count": 17,
      "outputs": [
        {
          "output_type": "stream",
          "name": "stdout",
          "text": [
            "[5, 2, 3, 4, 5]\n",
            "[5, 2, 3, 4, 5]\n",
            "----------\n",
            "[4, 2, 3, 4, 5]\n",
            "[4, 2, 3, 4, 5]\n"
          ]
        }
      ]
    },
    {
      "cell_type": "code",
      "source": [
        "print()\n",
        "print('*'*20)\n",
        "print()\n",
        "\n",
        "lst = [1,2,3,4,5]\n",
        "print(lst)\n",
        "lst1 = lst.copy()\n",
        "print(lst1)\n",
        "print('-'*10)\n",
        "\n",
        "\n",
        "\n",
        "lst[0] = 5\n",
        "print(lst)\n",
        "print(lst1)\n",
        "print('-'*10)\n",
        "lst[0] = 1\n",
        "\n",
        "lst1[0] = 5\n",
        "print(lst)\n",
        "print(lst1)"
      ],
      "metadata": {
        "colab": {
          "base_uri": "https://localhost:8080/"
        },
        "id": "9XX7ttIikePm",
        "outputId": "666472df-3d6b-489c-9ba5-933084bc87b3"
      },
      "execution_count": 18,
      "outputs": [
        {
          "output_type": "stream",
          "name": "stdout",
          "text": [
            "\n",
            "********************\n",
            "\n",
            "[1, 2, 3, 4, 5]\n",
            "[1, 2, 3, 4, 5]\n",
            "----------\n",
            "[5, 2, 3, 4, 5]\n",
            "[1, 2, 3, 4, 5]\n",
            "----------\n",
            "[1, 2, 3, 4, 5]\n",
            "[5, 2, 3, 4, 5]\n"
          ]
        }
      ]
    },
    {
      "cell_type": "code",
      "source": [
        "import numpy as np\n",
        "arr = np.array([1,2,3,4,5])\n",
        "arr_ = arr.copy()\n",
        "print(arr)\n",
        "print(arr_)"
      ],
      "metadata": {
        "colab": {
          "base_uri": "https://localhost:8080/"
        },
        "id": "tkjGy7wZkjrk",
        "outputId": "7aad49ac-7b1a-4f7c-9eb5-f67414f027ae"
      },
      "execution_count": 19,
      "outputs": [
        {
          "output_type": "stream",
          "name": "stdout",
          "text": [
            "[1 2 3 4 5]\n",
            "[1 2 3 4 5]\n"
          ]
        }
      ]
    },
    {
      "cell_type": "code",
      "source": [
        "my_list = [1, 2, 3, 4, 5]\n",
        "print(my_list[0])\n",
        "print(my_list[-1])\n",
        "print(my_list[2])\n",
        "print(my_list[1:4])\n",
        "print(my_list[:3])\n",
        "print(my_list[3:])\n",
        "print(my_list[::2])\n",
        "print(my_list[::-1])"
      ],
      "metadata": {
        "colab": {
          "base_uri": "https://localhost:8080/"
        },
        "id": "mJkgJGDdmAar",
        "outputId": "c3d8fb98-8894-4ea5-c6ab-a3c4897deb29"
      },
      "execution_count": 20,
      "outputs": [
        {
          "output_type": "stream",
          "name": "stdout",
          "text": [
            "1\n",
            "5\n",
            "3\n",
            "[2, 3, 4]\n",
            "[1, 2, 3]\n",
            "[4, 5]\n",
            "[1, 3, 5]\n",
            "[5, 4, 3, 2, 1]\n"
          ]
        }
      ]
    },
    {
      "cell_type": "code",
      "source": [
        "my_list[0] = 10\n",
        "print(my_list)\n",
        "\n",
        "del my_list[1]\n",
        "print(my_list)"
      ],
      "metadata": {
        "colab": {
          "base_uri": "https://localhost:8080/"
        },
        "id": "AA0IF_k2mEiz",
        "outputId": "c4a1ec4d-2b4f-4f66-cf6b-5ab4b2c5b39a"
      },
      "execution_count": 21,
      "outputs": [
        {
          "output_type": "stream",
          "name": "stdout",
          "text": [
            "[10, 2, 3, 4, 5]\n",
            "[10, 3, 4, 5]\n"
          ]
        }
      ]
    },
    {
      "cell_type": "code",
      "source": [
        "my_list[1:1] = [20, 30]\n",
        "print(my_list)"
      ],
      "metadata": {
        "colab": {
          "base_uri": "https://localhost:8080/"
        },
        "id": "j3MN4fUdmis1",
        "outputId": "f08fc042-6bc1-497d-d929-f6f4c625a68b"
      },
      "execution_count": 22,
      "outputs": [
        {
          "output_type": "stream",
          "name": "stdout",
          "text": [
            "[10, 20, 30, 3, 4, 5]\n"
          ]
        }
      ]
    },
    {
      "cell_type": "code",
      "source": [
        "import numpy as np\n",
        "my_array = np.array([1, 2, 3, 4, 5])\n",
        "\n",
        "print(my_array[0])\n",
        "print(my_array[-1])\n",
        "print(my_array[2])"
      ],
      "metadata": {
        "colab": {
          "base_uri": "https://localhost:8080/"
        },
        "id": "HYiI-IE-ml6z",
        "outputId": "2fada4ed-93b4-4f81-fb8a-09a82cc10ec8"
      },
      "execution_count": 23,
      "outputs": [
        {
          "output_type": "stream",
          "name": "stdout",
          "text": [
            "1\n",
            "5\n",
            "3\n"
          ]
        }
      ]
    },
    {
      "cell_type": "code",
      "source": [
        "my_array[0] = 10\n",
        "print(my_array)\n",
        "\n",
        "np.delete(my_array, 1)\n",
        "print(my_array)"
      ],
      "metadata": {
        "colab": {
          "base_uri": "https://localhost:8080/"
        },
        "id": "accWlE7Dolyc",
        "outputId": "9e17c7b3-af1d-44d7-ca1a-afcd3cdd9e3f"
      },
      "execution_count": 24,
      "outputs": [
        {
          "output_type": "stream",
          "name": "stdout",
          "text": [
            "[10  2  3  4  5]\n",
            "[10  2  3  4  5]\n"
          ]
        }
      ]
    },
    {
      "cell_type": "code",
      "source": [
        "np.insert(my_array, 1, [20, 30])\n",
        "print(my_array)"
      ],
      "metadata": {
        "colab": {
          "base_uri": "https://localhost:8080/"
        },
        "id": "God2C4Sgon-V",
        "outputId": "a9ef56d8-1799-483c-d8d9-bdf23671f8fa"
      },
      "execution_count": 25,
      "outputs": [
        {
          "output_type": "stream",
          "name": "stdout",
          "text": [
            "[10  2  3  4  5]\n"
          ]
        }
      ]
    },
    {
      "cell_type": "code",
      "source": [
        "import numpy as np\n",
        "zeros_array = np.zeros(10)\n",
        "print(zeros_array)\n",
        "print('-----')"
      ],
      "metadata": {
        "colab": {
          "base_uri": "https://localhost:8080/"
        },
        "id": "WwpzGr3ToxG0",
        "outputId": "7cad9203-0085-4f68-d399-d0049fcf57f7"
      },
      "execution_count": 26,
      "outputs": [
        {
          "output_type": "stream",
          "name": "stdout",
          "text": [
            "[0. 0. 0. 0. 0. 0. 0. 0. 0. 0.]\n",
            "-----\n"
          ]
        }
      ]
    },
    {
      "cell_type": "code",
      "source": [],
      "metadata": {
        "id": "8Y8kT_5Xo8f2"
      },
      "execution_count": null,
      "outputs": []
    }
  ]
}