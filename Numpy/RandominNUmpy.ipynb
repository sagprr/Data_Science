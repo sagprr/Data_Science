{
  "nbformat": 4,
  "nbformat_minor": 0,
  "metadata": {
    "colab": {
      "provenance": []
    },
    "kernelspec": {
      "name": "python3",
      "display_name": "Python 3"
    },
    "language_info": {
      "name": "python"
    }
  },
  "cells": [
    {
      "cell_type": "code",
      "execution_count": 1,
      "metadata": {
        "colab": {
          "base_uri": "https://localhost:8080/"
        },
        "id": "EIDCqE9dpH45",
        "outputId": "a5641111-d5cd-4167-e682-0e2937895dd3"
      },
      "outputs": [
        {
          "output_type": "stream",
          "name": "stdout",
          "text": [
            "[0. 0. 0. 0. 0. 0. 0. 0. 0. 0.]\n",
            "-----\n",
            "[[0. 0. 0. 0.]\n",
            " [0. 0. 0. 0.]]\n",
            "-----\n"
          ]
        }
      ],
      "source": [
        "import numpy as np\n",
        "zeros_array = np.zeros(10)\n",
        "print(zeros_array)\n",
        "print('-----')\n",
        "\n",
        "zeros_array = np.zeros((2, 4))\n",
        "print(zeros_array)\n",
        "print('-----')"
      ]
    },
    {
      "cell_type": "code",
      "source": [
        "zeros_array = np.zeros((2, 3, 4))\n",
        "print(zeros_array)\n",
        "print('-----')\n"
      ],
      "metadata": {
        "colab": {
          "base_uri": "https://localhost:8080/"
        },
        "id": "gALxOSncpOj-",
        "outputId": "b3378d22-4d48-49dd-f7e3-e1a40337e1d3"
      },
      "execution_count": 2,
      "outputs": [
        {
          "output_type": "stream",
          "name": "stdout",
          "text": [
            "[[[0. 0. 0. 0.]\n",
            "  [0. 0. 0. 0.]\n",
            "  [0. 0. 0. 0.]]\n",
            "\n",
            " [[0. 0. 0. 0.]\n",
            "  [0. 0. 0. 0.]\n",
            "  [0. 0. 0. 0.]]]\n",
            "-----\n"
          ]
        }
      ]
    },
    {
      "cell_type": "code",
      "source": [
        "import numpy as np\n",
        "ones_array = np.ones(10)\n",
        "print(ones_array)"
      ],
      "metadata": {
        "id": "0ZETfETkpUHG",
        "colab": {
          "base_uri": "https://localhost:8080/"
        },
        "outputId": "d916704a-1401-4f4c-e5cd-938e38b3be32"
      },
      "execution_count": 3,
      "outputs": [
        {
          "output_type": "stream",
          "name": "stdout",
          "text": [
            "[1. 1. 1. 1. 1. 1. 1. 1. 1. 1.]\n"
          ]
        }
      ]
    },
    {
      "cell_type": "code",
      "source": [
        "ones_array = np.ones((2, 3), dtype = int)\n",
        "print(ones_array)"
      ],
      "metadata": {
        "colab": {
          "base_uri": "https://localhost:8080/"
        },
        "id": "PvvljhhvYAXl",
        "outputId": "75790fb4-a051-46ec-a027-72cc17194c69"
      },
      "execution_count": 4,
      "outputs": [
        {
          "output_type": "stream",
          "name": "stdout",
          "text": [
            "[[1 1 1]\n",
            " [1 1 1]]\n"
          ]
        }
      ]
    },
    {
      "cell_type": "code",
      "source": [
        "import numpy as np\n",
        "eye_array = np.eye(3,4)\n",
        "print(eye_array)\n",
        "print('-----')"
      ],
      "metadata": {
        "colab": {
          "base_uri": "https://localhost:8080/"
        },
        "id": "rn4_yvvkYCYj",
        "outputId": "bac929bf-0f9d-4709-f5e8-cf362f8b881d"
      },
      "execution_count": 9,
      "outputs": [
        {
          "output_type": "stream",
          "name": "stdout",
          "text": [
            "[[1. 0. 0. 0.]\n",
            " [0. 1. 0. 0.]\n",
            " [0. 0. 1. 0.]]\n",
            "-----\n"
          ]
        }
      ]
    },
    {
      "cell_type": "code",
      "source": [
        "import numpy as np\n",
        "print(np.random.rand())\n",
        "print(np.random.rand(10))\n",
        "print(np.random.rand(3, 3))"
      ],
      "metadata": {
        "colab": {
          "base_uri": "https://localhost:8080/"
        },
        "id": "qqBcodzuYGc_",
        "outputId": "6875359a-866b-4147-98c6-97e30fbdf08e"
      },
      "execution_count": 10,
      "outputs": [
        {
          "output_type": "stream",
          "name": "stdout",
          "text": [
            "0.16019891698097177\n",
            "[0.20003027 0.07009639 0.29819704 0.12155206 0.46419315 0.35725457\n",
            " 0.18443793 0.41895296 0.80916514 0.54252414]\n",
            "[[0.70550699 0.34305953 0.2933542 ]\n",
            " [0.13161239 0.68068934 0.26202947]\n",
            " [0.29549189 0.8085697  0.91953392]]\n"
          ]
        }
      ]
    },
    {
      "cell_type": "code",
      "source": [
        "print(np.random.randint(100, size=10))\n",
        "print(np.random.randint(100, size=(3, 3)))"
      ],
      "metadata": {
        "colab": {
          "base_uri": "https://localhost:8080/"
        },
        "id": "stNgIFXAYZZU",
        "outputId": "83f0f8b4-345b-456f-8dd1-fe475a16e7ab"
      },
      "execution_count": 11,
      "outputs": [
        {
          "output_type": "stream",
          "name": "stdout",
          "text": [
            "[71 59 70 98 20 42 46 64  3  7]\n",
            "[[ 9 97 31]\n",
            " [19 49 34]\n",
            " [59 70 32]]\n"
          ]
        }
      ]
    },
    {
      "cell_type": "code",
      "source": [
        "print(np.random.uniform(size=(3, 3))) #uniform distribution between 0 and 1"
      ],
      "metadata": {
        "colab": {
          "base_uri": "https://localhost:8080/"
        },
        "id": "G-sfWcZmYd3u",
        "outputId": "ca93c01d-2107-410b-8671-95e8ad1d5dff"
      },
      "execution_count": 13,
      "outputs": [
        {
          "output_type": "stream",
          "name": "stdout",
          "text": [
            "[[0.74979542 0.87391198 0.16079072]\n",
            " [0.6774535  0.70230953 0.6902776 ]\n",
            " [0.51294876 0.11630362 0.34117703]]\n"
          ]
        }
      ]
    },
    {
      "cell_type": "code",
      "source": [
        "print(np.random.binomial(10, 0.5, size=(3, 3))) #binomial distribution with n=10 and p=0.5"
      ],
      "metadata": {
        "colab": {
          "base_uri": "https://localhost:8080/"
        },
        "id": "4iy7GfkLYoDw",
        "outputId": "00f461b4-e02c-4534-dc30-cbdd858af80e"
      },
      "execution_count": 15,
      "outputs": [
        {
          "output_type": "stream",
          "name": "stdout",
          "text": [
            "[[4 4 2]\n",
            " [4 5 5]\n",
            " [6 3 5]]\n"
          ]
        }
      ]
    },
    {
      "cell_type": "code",
      "source": [],
      "metadata": {
        "id": "45B9PudgYvfC"
      },
      "execution_count": null,
      "outputs": []
    }
  ]
}