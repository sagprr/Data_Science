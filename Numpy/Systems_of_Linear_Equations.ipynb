{
  "nbformat": 4,
  "nbformat_minor": 0,
  "metadata": {
    "colab": {
      "provenance": []
    },
    "kernelspec": {
      "name": "python3",
      "display_name": "Python 3"
    },
    "language_info": {
      "name": "python"
    }
  },
  "cells": [
    {
      "cell_type": "code",
      "execution_count": 1,
      "metadata": {
        "colab": {
          "base_uri": "https://localhost:8080/"
        },
        "id": "4gcRyO2ak121",
        "outputId": "0cc59325-0b66-44fd-a784-bcdb06c882e0"
      },
      "outputs": [
        {
          "output_type": "stream",
          "name": "stdout",
          "text": [
            "[[-4. ]\n",
            " [ 4.5]]\n"
          ]
        }
      ],
      "source": [
        "import numpy as np\n",
        "A = np.array([[1,2],[3,4]])\n",
        "B= np.array([[5],[6]])\n",
        "solution = np.linalg.solve(A,B)\n",
        "print(solution)"
      ]
    },
    {
      "cell_type": "code",
      "source": [
        "import numpy as np\n",
        "A = np.array([[1,2,4],[3,4,6],[34,45,22]])\n",
        "B= np.array([[5],[6],[10]])\n",
        "solution = np.linalg.solve(A,B)\n",
        "print(solution)"
      ],
      "metadata": {
        "colab": {
          "base_uri": "https://localhost:8080/"
        },
        "id": "kFuqPDp4k3L7",
        "outputId": "2f5dd1c7-1656-4d63-e8d0-adaa0a5cf0f7"
      },
      "execution_count": 2,
      "outputs": [
        {
          "output_type": "stream",
          "name": "stdout",
          "text": [
            "[[-1.48888889]\n",
            " [ 0.73333333]\n",
            " [ 1.25555556]]\n"
          ]
        }
      ]
    },
    {
      "cell_type": "code",
      "source": [],
      "metadata": {
        "id": "yLph6OOlmOc9"
      },
      "execution_count": null,
      "outputs": []
    }
  ]
}