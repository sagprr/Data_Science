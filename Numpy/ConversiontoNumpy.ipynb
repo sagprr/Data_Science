{
  "nbformat": 4,
  "nbformat_minor": 0,
  "metadata": {
    "colab": {
      "provenance": []
    },
    "kernelspec": {
      "name": "python3",
      "display_name": "Python 3"
    },
    "language_info": {
      "name": "python"
    }
  },
  "cells": [
    {
      "cell_type": "code",
      "execution_count": null,
      "metadata": {
        "colab": {
          "base_uri": "https://localhost:8080/"
        },
        "id": "C7Q2-pcEJ5Fq",
        "outputId": "c553e191-e033-4a29-db7d-4118f09a61e8"
      },
      "outputs": [
        {
          "output_type": "stream",
          "name": "stdout",
          "text": [
            "(1, 2, 3)\n",
            "<class 'tuple'>\n"
          ]
        }
      ],
      "source": [
        "import numpy as np\n",
        "tpl = (1,2,3)\n",
        "print(tpl)\n",
        "print(type(tpl))"
      ]
    },
    {
      "cell_type": "code",
      "source": [
        "arr = np.array(tpl)\n",
        "print(arr)\n",
        "print(type(arr))"
      ],
      "metadata": {
        "colab": {
          "base_uri": "https://localhost:8080/"
        },
        "id": "eJrfD4ZMN0PJ",
        "outputId": "f37ea938-aaf3-42fd-ce4e-924c2bcf1984"
      },
      "execution_count": null,
      "outputs": [
        {
          "output_type": "stream",
          "name": "stdout",
          "text": [
            "[1 2 3]\n",
            "<class 'numpy.ndarray'>\n"
          ]
        }
      ]
    },
    {
      "cell_type": "code",
      "source": [
        "import numpy as np\n",
        "lst = [1,2,3]\n",
        "print(lst)\n",
        "print(type(lst))\n",
        "print('-'*10)\n",
        "\n",
        "arr = np.array(lst)\n",
        "print(arr)\n",
        "print(type(arr))"
      ],
      "metadata": {
        "colab": {
          "base_uri": "https://localhost:8080/"
        },
        "id": "xsZ7phvBN2lc",
        "outputId": "81350ccb-323a-450a-e296-75b9130aec93"
      },
      "execution_count": null,
      "outputs": [
        {
          "output_type": "stream",
          "name": "stdout",
          "text": [
            "[1, 2, 3]\n",
            "<class 'list'>\n",
            "----------\n",
            "[1 2 3]\n",
            "<class 'numpy.ndarray'>\n"
          ]
        }
      ]
    },
    {
      "cell_type": "markdown",
      "source": [],
      "metadata": {
        "id": "a322lRnUPSm6"
      }
    },
    {
      "cell_type": "code",
      "source": [
        "import numpy as np\n",
        "dct = {1 : 'apple', 2 : 'banana', 3 : 'cherry'}\n",
        "print(dct)\n",
        "print(type(dct))\n",
        "print('-'*10)\n",
        "\n",
        "arr = np.array(dct)\n",
        "print(arr)\n",
        "print(type(arr))\n",
        "print('-'*10)"
      ],
      "metadata": {
        "colab": {
          "base_uri": "https://localhost:8080/"
        },
        "id": "IdutV4oRPcC7",
        "outputId": "6a5108a0-3bca-41b6-8172-51b11426e474"
      },
      "execution_count": null,
      "outputs": [
        {
          "output_type": "stream",
          "name": "stdout",
          "text": [
            "{1: 'apple', 2: 'banana', 3: 'cherry'}\n",
            "<class 'dict'>\n",
            "----------\n",
            "{1: 'apple', 2: 'banana', 3: 'cherry'}\n",
            "<class 'numpy.ndarray'>\n",
            "----------\n"
          ]
        }
      ]
    },
    {
      "cell_type": "code",
      "source": [
        "arr_k = np.array(list(dct.keys()))\n",
        "arr_v = np.array(list(dct.values()))\n",
        "print(arr_k)\n",
        "print(type(arr_k))\n",
        "print(arr_v)\n",
        "print(type(arr_v))"
      ],
      "metadata": {
        "colab": {
          "base_uri": "https://localhost:8080/"
        },
        "id": "9ra_XqJXPccD",
        "outputId": "00dbccee-66c2-4abf-e24e-f50e18aead8f"
      },
      "execution_count": null,
      "outputs": [
        {
          "output_type": "stream",
          "name": "stdout",
          "text": [
            "[1 2 3]\n",
            "<class 'numpy.ndarray'>\n",
            "['apple' 'banana' 'cherry']\n",
            "<class 'numpy.ndarray'>\n"
          ]
        }
      ]
    },
    {
      "cell_type": "code",
      "source": [
        "import numpy as np\n",
        "set_ = {1,2,3}\n",
        "print(set_)\n",
        "print(type(set_))\n",
        "print('-'*10)\n",
        "\n",
        "arr = np.array(list(set_))\n",
        "print(arr)\n",
        "print(type(arr))"
      ],
      "metadata": {
        "id": "eahszo8rPfAj",
        "colab": {
          "base_uri": "https://localhost:8080/"
        },
        "outputId": "195272cd-09ad-456c-e93c-89ba7fed2410"
      },
      "execution_count": 11,
      "outputs": [
        {
          "output_type": "stream",
          "name": "stdout",
          "text": [
            "{1, 2, 3}\n",
            "<class 'set'>\n",
            "----------\n",
            "[1 2 3]\n",
            "<class 'numpy.ndarray'>\n"
          ]
        }
      ]
    },
    {
      "cell_type": "code",
      "source": [
        "# Converting a String to an Array:\n",
        "\n",
        "import numpy as np\n",
        "arr = np.array(list('hello world'))\n",
        "print(arr)\n",
        "print(type(arr))\n"
      ],
      "metadata": {
        "colab": {
          "base_uri": "https://localhost:8080/"
        },
        "id": "Apv2D05FQx1u",
        "outputId": "7b08588f-7309-4312-c165-3514df635904"
      },
      "execution_count": 13,
      "outputs": [
        {
          "output_type": "stream",
          "name": "stdout",
          "text": [
            "['h' 'e' 'l' 'l' 'o' ' ' 'w' 'o' 'r' 'l' 'd']\n",
            "<class 'numpy.ndarray'>\n"
          ]
        }
      ]
    },
    {
      "cell_type": "code",
      "source": [],
      "metadata": {
        "id": "VD4KvMlAQ7sK"
      },
      "execution_count": null,
      "outputs": []
    }
  ]
}