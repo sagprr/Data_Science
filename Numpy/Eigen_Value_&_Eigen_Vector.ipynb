{
  "nbformat": 4,
  "nbformat_minor": 0,
  "metadata": {
    "colab": {
      "provenance": []
    },
    "kernelspec": {
      "name": "python3",
      "display_name": "Python 3"
    },
    "language_info": {
      "name": "python"
    }
  },
  "cells": [
    {
      "cell_type": "code",
      "execution_count": 1,
      "metadata": {
        "colab": {
          "base_uri": "https://localhost:8080/"
        },
        "id": "qr2HqAKTmX1i",
        "outputId": "29c85e6d-d199-44d4-b552-238231d3e000"
      },
      "outputs": [
        {
          "output_type": "stream",
          "name": "stdout",
          "text": [
            "[6. 1.]\n",
            "[[ 0.9701425  -0.70710678]\n",
            " [ 0.24253563  0.70710678]]\n"
          ]
        }
      ],
      "source": [
        "import numpy as np\n",
        "A = np.array([[5, 4], [1, 2]])\n",
        "eigenvalues, eigenvectors = np.linalg.eig(A)\n",
        "print(eigenvalues)\n",
        "print(eigenvectors)"
      ]
    },
    {
      "cell_type": "code",
      "source": [],
      "metadata": {
        "id": "m7khrb0MmnBV"
      },
      "execution_count": null,
      "outputs": []
    }
  ]
}