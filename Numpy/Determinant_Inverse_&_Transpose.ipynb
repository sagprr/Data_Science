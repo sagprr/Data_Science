{
  "nbformat": 4,
  "nbformat_minor": 0,
  "metadata": {
    "colab": {
      "provenance": []
    },
    "kernelspec": {
      "name": "python3",
      "display_name": "Python 3"
    },
    "language_info": {
      "name": "python"
    }
  },
  "cells": [
    {
      "cell_type": "code",
      "execution_count": 1,
      "metadata": {
        "colab": {
          "base_uri": "https://localhost:8080/"
        },
        "id": "Urrt08qSkE44",
        "outputId": "605ed70d-c6eb-4b97-b3bd-89961bf49763"
      },
      "outputs": [
        {
          "output_type": "stream",
          "name": "stdout",
          "text": [
            "0.0\n"
          ]
        }
      ],
      "source": [
        "import numpy as np\n",
        "B = np.array([[1,2,3], [4,5,6], [7,8,9]])\n",
        "determinant = np.linalg.det(B)\n",
        "print(determinant)"
      ]
    },
    {
      "cell_type": "code",
      "source": [
        "import numpy as np\n",
        "A = np.array([[1,2],[3,4]])\n",
        "determinant = np.linalg.det(A)\n",
        "print(determinant)"
      ],
      "metadata": {
        "colab": {
          "base_uri": "https://localhost:8080/"
        },
        "id": "bLPvGwbDkUQK",
        "outputId": "f064320c-5ca5-4737-8540-04e8b43635cf"
      },
      "execution_count": 2,
      "outputs": [
        {
          "output_type": "stream",
          "name": "stdout",
          "text": [
            "-2.0000000000000004\n"
          ]
        }
      ]
    },
    {
      "cell_type": "code",
      "source": [
        "import numpy as np\n",
        "B = np.array([[1,2,3], [4,5,6], [7,8,9]])\n",
        "Transpose = np.transpose(B)\n",
        "print(Transpose)"
      ],
      "metadata": {
        "colab": {
          "base_uri": "https://localhost:8080/"
        },
        "id": "al1_Mq3tkXK6",
        "outputId": "2f9e4120-c694-4fe6-88f1-f999e6b20e49"
      },
      "execution_count": 3,
      "outputs": [
        {
          "output_type": "stream",
          "name": "stdout",
          "text": [
            "[[1 4 7]\n",
            " [2 5 8]\n",
            " [3 6 9]]\n"
          ]
        }
      ]
    },
    {
      "cell_type": "code",
      "source": [
        "import numpy as np\n",
        "A = np.array([[1,2],[3,4]])\n",
        "Inverse = np.linalg.inv(A)\n",
        "print(Inverse)"
      ],
      "metadata": {
        "colab": {
          "base_uri": "https://localhost:8080/"
        },
        "id": "1AjL-ylAkaau",
        "outputId": "be915c4c-6695-4169-d538-a5f9cb54502b"
      },
      "execution_count": 4,
      "outputs": [
        {
          "output_type": "stream",
          "name": "stdout",
          "text": [
            "[[-2.   1. ]\n",
            " [ 1.5 -0.5]]\n"
          ]
        }
      ]
    },
    {
      "cell_type": "code",
      "source": [],
      "metadata": {
        "id": "h2DxiyqVkcs2"
      },
      "execution_count": null,
      "outputs": []
    }
  ]
}