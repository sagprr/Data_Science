{
  "nbformat": 4,
  "nbformat_minor": 0,
  "metadata": {
    "colab": {
      "provenance": []
    },
    "kernelspec": {
      "name": "python3",
      "display_name": "Python 3"
    },
    "language_info": {
      "name": "python"
    }
  },
  "cells": [
    {
      "cell_type": "code",
      "execution_count": 3,
      "metadata": {
        "id": "AHa3knKTcnCd"
      },
      "outputs": [],
      "source": [
        "import requests\n",
        "from bs4 import BeautifulSoup"
      ]
    },
    {
      "cell_type": "code",
      "source": [
        "!pip install bs4"
      ],
      "metadata": {
        "colab": {
          "base_uri": "https://localhost:8080/"
        },
        "id": "6-vpFDngc2VF",
        "outputId": "3f7c3a8e-8a79-497e-e9a0-e68e0317292a"
      },
      "execution_count": 4,
      "outputs": [
        {
          "output_type": "stream",
          "name": "stdout",
          "text": [
            "Collecting bs4\n",
            "  Downloading bs4-0.0.2-py2.py3-none-any.whl.metadata (411 bytes)\n",
            "Requirement already satisfied: beautifulsoup4 in /usr/local/lib/python3.10/dist-packages (from bs4) (4.12.3)\n",
            "Requirement already satisfied: soupsieve>1.2 in /usr/local/lib/python3.10/dist-packages (from beautifulsoup4->bs4) (2.6)\n",
            "Downloading bs4-0.0.2-py2.py3-none-any.whl (1.2 kB)\n",
            "Installing collected packages: bs4\n",
            "Successfully installed bs4-0.0.2\n"
          ]
        }
      ]
    },
    {
      "cell_type": "code",
      "source": [
        "res = requests.get(\"https://quotes.toscrape.com/\")\n",
        "web = res.text"
      ],
      "metadata": {
        "id": "oEzxMJ5Hc3cl"
      },
      "execution_count": 6,
      "outputs": []
    },
    {
      "cell_type": "code",
      "source": [
        "print(web)"
      ],
      "metadata": {
        "colab": {
          "base_uri": "https://localhost:8080/"
        },
        "id": "bMcunvEKdGpV",
        "outputId": "2d6b443b-b45e-41dc-e003-84c034d91d52"
      },
      "execution_count": 7,
      "outputs": [
        {
          "output_type": "stream",
          "name": "stdout",
          "text": [
            "<!DOCTYPE html>\n",
            "<html lang=\"en\">\n",
            "<head>\n",
            "\t<meta charset=\"UTF-8\">\n",
            "\t<title>Quotes to Scrape</title>\n",
            "    <link rel=\"stylesheet\" href=\"/static/bootstrap.min.css\">\n",
            "    <link rel=\"stylesheet\" href=\"/static/main.css\">\n",
            "</head>\n",
            "<body>\n",
            "    <div class=\"container\">\n",
            "        <div class=\"row header-box\">\n",
            "            <div class=\"col-md-8\">\n",
            "                <h1>\n",
            "                    <a href=\"/\" style=\"text-decoration: none\">Quotes to Scrape</a>\n",
            "                </h1>\n",
            "            </div>\n",
            "            <div class=\"col-md-4\">\n",
            "                <p>\n",
            "                \n",
            "                    <a href=\"/login\">Login</a>\n",
            "                \n",
            "                </p>\n",
            "            </div>\n",
            "        </div>\n",
            "    \n",
            "\n",
            "<div class=\"row\">\n",
            "    <div class=\"col-md-8\">\n",
            "\n",
            "    <div class=\"quote\" itemscope itemtype=\"http://schema.org/CreativeWork\">\n",
            "        <span class=\"text\" itemprop=\"text\">“The world as we have created it is a process of our thinking. It cannot be changed without changing our thinking.”</span>\n",
            "        <span>by <small class=\"author\" itemprop=\"author\">Albert Einstein</small>\n",
            "        <a href=\"/author/Albert-Einstein\">(about)</a>\n",
            "        </span>\n",
            "        <div class=\"tags\">\n",
            "            Tags:\n",
            "            <meta class=\"keywords\" itemprop=\"keywords\" content=\"change,deep-thoughts,thinking,world\" /    > \n",
            "            \n",
            "            <a class=\"tag\" href=\"/tag/change/page/1/\">change</a>\n",
            "            \n",
            "            <a class=\"tag\" href=\"/tag/deep-thoughts/page/1/\">deep-thoughts</a>\n",
            "            \n",
            "            <a class=\"tag\" href=\"/tag/thinking/page/1/\">thinking</a>\n",
            "            \n",
            "            <a class=\"tag\" href=\"/tag/world/page/1/\">world</a>\n",
            "            \n",
            "        </div>\n",
            "    </div>\n",
            "\n",
            "    <div class=\"quote\" itemscope itemtype=\"http://schema.org/CreativeWork\">\n",
            "        <span class=\"text\" itemprop=\"text\">“It is our choices, Harry, that show what we truly are, far more than our abilities.”</span>\n",
            "        <span>by <small class=\"author\" itemprop=\"author\">J.K. Rowling</small>\n",
            "        <a href=\"/author/J-K-Rowling\">(about)</a>\n",
            "        </span>\n",
            "        <div class=\"tags\">\n",
            "            Tags:\n",
            "            <meta class=\"keywords\" itemprop=\"keywords\" content=\"abilities,choices\" /    > \n",
            "            \n",
            "            <a class=\"tag\" href=\"/tag/abilities/page/1/\">abilities</a>\n",
            "            \n",
            "            <a class=\"tag\" href=\"/tag/choices/page/1/\">choices</a>\n",
            "            \n",
            "        </div>\n",
            "    </div>\n",
            "\n",
            "    <div class=\"quote\" itemscope itemtype=\"http://schema.org/CreativeWork\">\n",
            "        <span class=\"text\" itemprop=\"text\">“There are only two ways to live your life. One is as though nothing is a miracle. The other is as though everything is a miracle.”</span>\n",
            "        <span>by <small class=\"author\" itemprop=\"author\">Albert Einstein</small>\n",
            "        <a href=\"/author/Albert-Einstein\">(about)</a>\n",
            "        </span>\n",
            "        <div class=\"tags\">\n",
            "            Tags:\n",
            "            <meta class=\"keywords\" itemprop=\"keywords\" content=\"inspirational,life,live,miracle,miracles\" /    > \n",
            "            \n",
            "            <a class=\"tag\" href=\"/tag/inspirational/page/1/\">inspirational</a>\n",
            "            \n",
            "            <a class=\"tag\" href=\"/tag/life/page/1/\">life</a>\n",
            "            \n",
            "            <a class=\"tag\" href=\"/tag/live/page/1/\">live</a>\n",
            "            \n",
            "            <a class=\"tag\" href=\"/tag/miracle/page/1/\">miracle</a>\n",
            "            \n",
            "            <a class=\"tag\" href=\"/tag/miracles/page/1/\">miracles</a>\n",
            "            \n",
            "        </div>\n",
            "    </div>\n",
            "\n",
            "    <div class=\"quote\" itemscope itemtype=\"http://schema.org/CreativeWork\">\n",
            "        <span class=\"text\" itemprop=\"text\">“The person, be it gentleman or lady, who has not pleasure in a good novel, must be intolerably stupid.”</span>\n",
            "        <span>by <small class=\"author\" itemprop=\"author\">Jane Austen</small>\n",
            "        <a href=\"/author/Jane-Austen\">(about)</a>\n",
            "        </span>\n",
            "        <div class=\"tags\">\n",
            "            Tags:\n",
            "            <meta class=\"keywords\" itemprop=\"keywords\" content=\"aliteracy,books,classic,humor\" /    > \n",
            "            \n",
            "            <a class=\"tag\" href=\"/tag/aliteracy/page/1/\">aliteracy</a>\n",
            "            \n",
            "            <a class=\"tag\" href=\"/tag/books/page/1/\">books</a>\n",
            "            \n",
            "            <a class=\"tag\" href=\"/tag/classic/page/1/\">classic</a>\n",
            "            \n",
            "            <a class=\"tag\" href=\"/tag/humor/page/1/\">humor</a>\n",
            "            \n",
            "        </div>\n",
            "    </div>\n",
            "\n",
            "    <div class=\"quote\" itemscope itemtype=\"http://schema.org/CreativeWork\">\n",
            "        <span class=\"text\" itemprop=\"text\">“Imperfection is beauty, madness is genius and it&#39;s better to be absolutely ridiculous than absolutely boring.”</span>\n",
            "        <span>by <small class=\"author\" itemprop=\"author\">Marilyn Monroe</small>\n",
            "        <a href=\"/author/Marilyn-Monroe\">(about)</a>\n",
            "        </span>\n",
            "        <div class=\"tags\">\n",
            "            Tags:\n",
            "            <meta class=\"keywords\" itemprop=\"keywords\" content=\"be-yourself,inspirational\" /    > \n",
            "            \n",
            "            <a class=\"tag\" href=\"/tag/be-yourself/page/1/\">be-yourself</a>\n",
            "            \n",
            "            <a class=\"tag\" href=\"/tag/inspirational/page/1/\">inspirational</a>\n",
            "            \n",
            "        </div>\n",
            "    </div>\n",
            "\n",
            "    <div class=\"quote\" itemscope itemtype=\"http://schema.org/CreativeWork\">\n",
            "        <span class=\"text\" itemprop=\"text\">“Try not to become a man of success. Rather become a man of value.”</span>\n",
            "        <span>by <small class=\"author\" itemprop=\"author\">Albert Einstein</small>\n",
            "        <a href=\"/author/Albert-Einstein\">(about)</a>\n",
            "        </span>\n",
            "        <div class=\"tags\">\n",
            "            Tags:\n",
            "            <meta class=\"keywords\" itemprop=\"keywords\" content=\"adulthood,success,value\" /    > \n",
            "            \n",
            "            <a class=\"tag\" href=\"/tag/adulthood/page/1/\">adulthood</a>\n",
            "            \n",
            "            <a class=\"tag\" href=\"/tag/success/page/1/\">success</a>\n",
            "            \n",
            "            <a class=\"tag\" href=\"/tag/value/page/1/\">value</a>\n",
            "            \n",
            "        </div>\n",
            "    </div>\n",
            "\n",
            "    <div class=\"quote\" itemscope itemtype=\"http://schema.org/CreativeWork\">\n",
            "        <span class=\"text\" itemprop=\"text\">“It is better to be hated for what you are than to be loved for what you are not.”</span>\n",
            "        <span>by <small class=\"author\" itemprop=\"author\">André Gide</small>\n",
            "        <a href=\"/author/Andre-Gide\">(about)</a>\n",
            "        </span>\n",
            "        <div class=\"tags\">\n",
            "            Tags:\n",
            "            <meta class=\"keywords\" itemprop=\"keywords\" content=\"life,love\" /    > \n",
            "            \n",
            "            <a class=\"tag\" href=\"/tag/life/page/1/\">life</a>\n",
            "            \n",
            "            <a class=\"tag\" href=\"/tag/love/page/1/\">love</a>\n",
            "            \n",
            "        </div>\n",
            "    </div>\n",
            "\n",
            "    <div class=\"quote\" itemscope itemtype=\"http://schema.org/CreativeWork\">\n",
            "        <span class=\"text\" itemprop=\"text\">“I have not failed. I&#39;ve just found 10,000 ways that won&#39;t work.”</span>\n",
            "        <span>by <small class=\"author\" itemprop=\"author\">Thomas A. Edison</small>\n",
            "        <a href=\"/author/Thomas-A-Edison\">(about)</a>\n",
            "        </span>\n",
            "        <div class=\"tags\">\n",
            "            Tags:\n",
            "            <meta class=\"keywords\" itemprop=\"keywords\" content=\"edison,failure,inspirational,paraphrased\" /    > \n",
            "            \n",
            "            <a class=\"tag\" href=\"/tag/edison/page/1/\">edison</a>\n",
            "            \n",
            "            <a class=\"tag\" href=\"/tag/failure/page/1/\">failure</a>\n",
            "            \n",
            "            <a class=\"tag\" href=\"/tag/inspirational/page/1/\">inspirational</a>\n",
            "            \n",
            "            <a class=\"tag\" href=\"/tag/paraphrased/page/1/\">paraphrased</a>\n",
            "            \n",
            "        </div>\n",
            "    </div>\n",
            "\n",
            "    <div class=\"quote\" itemscope itemtype=\"http://schema.org/CreativeWork\">\n",
            "        <span class=\"text\" itemprop=\"text\">“A woman is like a tea bag; you never know how strong it is until it&#39;s in hot water.”</span>\n",
            "        <span>by <small class=\"author\" itemprop=\"author\">Eleanor Roosevelt</small>\n",
            "        <a href=\"/author/Eleanor-Roosevelt\">(about)</a>\n",
            "        </span>\n",
            "        <div class=\"tags\">\n",
            "            Tags:\n",
            "            <meta class=\"keywords\" itemprop=\"keywords\" content=\"misattributed-eleanor-roosevelt\" /    > \n",
            "            \n",
            "            <a class=\"tag\" href=\"/tag/misattributed-eleanor-roosevelt/page/1/\">misattributed-eleanor-roosevelt</a>\n",
            "            \n",
            "        </div>\n",
            "    </div>\n",
            "\n",
            "    <div class=\"quote\" itemscope itemtype=\"http://schema.org/CreativeWork\">\n",
            "        <span class=\"text\" itemprop=\"text\">“A day without sunshine is like, you know, night.”</span>\n",
            "        <span>by <small class=\"author\" itemprop=\"author\">Steve Martin</small>\n",
            "        <a href=\"/author/Steve-Martin\">(about)</a>\n",
            "        </span>\n",
            "        <div class=\"tags\">\n",
            "            Tags:\n",
            "            <meta class=\"keywords\" itemprop=\"keywords\" content=\"humor,obvious,simile\" /    > \n",
            "            \n",
            "            <a class=\"tag\" href=\"/tag/humor/page/1/\">humor</a>\n",
            "            \n",
            "            <a class=\"tag\" href=\"/tag/obvious/page/1/\">obvious</a>\n",
            "            \n",
            "            <a class=\"tag\" href=\"/tag/simile/page/1/\">simile</a>\n",
            "            \n",
            "        </div>\n",
            "    </div>\n",
            "\n",
            "    <nav>\n",
            "        <ul class=\"pager\">\n",
            "            \n",
            "            \n",
            "            <li class=\"next\">\n",
            "                <a href=\"/page/2/\">Next <span aria-hidden=\"true\">&rarr;</span></a>\n",
            "            </li>\n",
            "            \n",
            "        </ul>\n",
            "    </nav>\n",
            "    </div>\n",
            "    <div class=\"col-md-4 tags-box\">\n",
            "        \n",
            "            <h2>Top Ten tags</h2>\n",
            "            \n",
            "            <span class=\"tag-item\">\n",
            "            <a class=\"tag\" style=\"font-size: 28px\" href=\"/tag/love/\">love</a>\n",
            "            </span>\n",
            "            \n",
            "            <span class=\"tag-item\">\n",
            "            <a class=\"tag\" style=\"font-size: 26px\" href=\"/tag/inspirational/\">inspirational</a>\n",
            "            </span>\n",
            "            \n",
            "            <span class=\"tag-item\">\n",
            "            <a class=\"tag\" style=\"font-size: 26px\" href=\"/tag/life/\">life</a>\n",
            "            </span>\n",
            "            \n",
            "            <span class=\"tag-item\">\n",
            "            <a class=\"tag\" style=\"font-size: 24px\" href=\"/tag/humor/\">humor</a>\n",
            "            </span>\n",
            "            \n",
            "            <span class=\"tag-item\">\n",
            "            <a class=\"tag\" style=\"font-size: 22px\" href=\"/tag/books/\">books</a>\n",
            "            </span>\n",
            "            \n",
            "            <span class=\"tag-item\">\n",
            "            <a class=\"tag\" style=\"font-size: 14px\" href=\"/tag/reading/\">reading</a>\n",
            "            </span>\n",
            "            \n",
            "            <span class=\"tag-item\">\n",
            "            <a class=\"tag\" style=\"font-size: 10px\" href=\"/tag/friendship/\">friendship</a>\n",
            "            </span>\n",
            "            \n",
            "            <span class=\"tag-item\">\n",
            "            <a class=\"tag\" style=\"font-size: 8px\" href=\"/tag/friends/\">friends</a>\n",
            "            </span>\n",
            "            \n",
            "            <span class=\"tag-item\">\n",
            "            <a class=\"tag\" style=\"font-size: 8px\" href=\"/tag/truth/\">truth</a>\n",
            "            </span>\n",
            "            \n",
            "            <span class=\"tag-item\">\n",
            "            <a class=\"tag\" style=\"font-size: 6px\" href=\"/tag/simile/\">simile</a>\n",
            "            </span>\n",
            "            \n",
            "        \n",
            "    </div>\n",
            "</div>\n",
            "\n",
            "    </div>\n",
            "    <footer class=\"footer\">\n",
            "        <div class=\"container\">\n",
            "            <p class=\"text-muted\">\n",
            "                Quotes by: <a href=\"https://www.goodreads.com/quotes\">GoodReads.com</a>\n",
            "            </p>\n",
            "            <p class=\"copyright\">\n",
            "                Made with <span class='zyte'>❤</span> by <a class='zyte' href=\"https://www.zyte.com\">Zyte</a>\n",
            "            </p>\n",
            "        </div>\n",
            "    </footer>\n",
            "</body>\n",
            "</html>\n"
          ]
        }
      ]
    },
    {
      "cell_type": "code",
      "source": [
        " soup = BeautifulSoup(res.text , \"html.parser\")"
      ],
      "metadata": {
        "id": "AbFLMZa8dJF3"
      },
      "execution_count": 8,
      "outputs": []
    },
    {
      "cell_type": "code",
      "source": [
        "soup"
      ],
      "metadata": {
        "colab": {
          "base_uri": "https://localhost:8080/"
        },
        "id": "2ZLkes8KdWCv",
        "outputId": "7d374234-0fa1-4ff9-bc9e-b0b6e2e9a0ee"
      },
      "execution_count": 9,
      "outputs": [
        {
          "output_type": "execute_result",
          "data": {
            "text/plain": [
              "<!DOCTYPE html>\n",
              "\n",
              "<html lang=\"en\">\n",
              "<head>\n",
              "<meta charset=\"utf-8\"/>\n",
              "<title>Quotes to Scrape</title>\n",
              "<link href=\"/static/bootstrap.min.css\" rel=\"stylesheet\"/>\n",
              "<link href=\"/static/main.css\" rel=\"stylesheet\"/>\n",
              "</head>\n",
              "<body>\n",
              "<div class=\"container\">\n",
              "<div class=\"row header-box\">\n",
              "<div class=\"col-md-8\">\n",
              "<h1>\n",
              "<a href=\"/\" style=\"text-decoration: none\">Quotes to Scrape</a>\n",
              "</h1>\n",
              "</div>\n",
              "<div class=\"col-md-4\">\n",
              "<p>\n",
              "<a href=\"/login\">Login</a>\n",
              "</p>\n",
              "</div>\n",
              "</div>\n",
              "<div class=\"row\">\n",
              "<div class=\"col-md-8\">\n",
              "<div class=\"quote\" itemscope=\"\" itemtype=\"http://schema.org/CreativeWork\">\n",
              "<span class=\"text\" itemprop=\"text\">“The world as we have created it is a process of our thinking. It cannot be changed without changing our thinking.”</span>\n",
              "<span>by <small class=\"author\" itemprop=\"author\">Albert Einstein</small>\n",
              "<a href=\"/author/Albert-Einstein\">(about)</a>\n",
              "</span>\n",
              "<div class=\"tags\">\n",
              "            Tags:\n",
              "            <meta class=\"keywords\" content=\"change,deep-thoughts,thinking,world\" itemprop=\"keywords\"/>\n",
              "<a class=\"tag\" href=\"/tag/change/page/1/\">change</a>\n",
              "<a class=\"tag\" href=\"/tag/deep-thoughts/page/1/\">deep-thoughts</a>\n",
              "<a class=\"tag\" href=\"/tag/thinking/page/1/\">thinking</a>\n",
              "<a class=\"tag\" href=\"/tag/world/page/1/\">world</a>\n",
              "</div>\n",
              "</div>\n",
              "<div class=\"quote\" itemscope=\"\" itemtype=\"http://schema.org/CreativeWork\">\n",
              "<span class=\"text\" itemprop=\"text\">“It is our choices, Harry, that show what we truly are, far more than our abilities.”</span>\n",
              "<span>by <small class=\"author\" itemprop=\"author\">J.K. Rowling</small>\n",
              "<a href=\"/author/J-K-Rowling\">(about)</a>\n",
              "</span>\n",
              "<div class=\"tags\">\n",
              "            Tags:\n",
              "            <meta class=\"keywords\" content=\"abilities,choices\" itemprop=\"keywords\"/>\n",
              "<a class=\"tag\" href=\"/tag/abilities/page/1/\">abilities</a>\n",
              "<a class=\"tag\" href=\"/tag/choices/page/1/\">choices</a>\n",
              "</div>\n",
              "</div>\n",
              "<div class=\"quote\" itemscope=\"\" itemtype=\"http://schema.org/CreativeWork\">\n",
              "<span class=\"text\" itemprop=\"text\">“There are only two ways to live your life. One is as though nothing is a miracle. The other is as though everything is a miracle.”</span>\n",
              "<span>by <small class=\"author\" itemprop=\"author\">Albert Einstein</small>\n",
              "<a href=\"/author/Albert-Einstein\">(about)</a>\n",
              "</span>\n",
              "<div class=\"tags\">\n",
              "            Tags:\n",
              "            <meta class=\"keywords\" content=\"inspirational,life,live,miracle,miracles\" itemprop=\"keywords\"/>\n",
              "<a class=\"tag\" href=\"/tag/inspirational/page/1/\">inspirational</a>\n",
              "<a class=\"tag\" href=\"/tag/life/page/1/\">life</a>\n",
              "<a class=\"tag\" href=\"/tag/live/page/1/\">live</a>\n",
              "<a class=\"tag\" href=\"/tag/miracle/page/1/\">miracle</a>\n",
              "<a class=\"tag\" href=\"/tag/miracles/page/1/\">miracles</a>\n",
              "</div>\n",
              "</div>\n",
              "<div class=\"quote\" itemscope=\"\" itemtype=\"http://schema.org/CreativeWork\">\n",
              "<span class=\"text\" itemprop=\"text\">“The person, be it gentleman or lady, who has not pleasure in a good novel, must be intolerably stupid.”</span>\n",
              "<span>by <small class=\"author\" itemprop=\"author\">Jane Austen</small>\n",
              "<a href=\"/author/Jane-Austen\">(about)</a>\n",
              "</span>\n",
              "<div class=\"tags\">\n",
              "            Tags:\n",
              "            <meta class=\"keywords\" content=\"aliteracy,books,classic,humor\" itemprop=\"keywords\"/>\n",
              "<a class=\"tag\" href=\"/tag/aliteracy/page/1/\">aliteracy</a>\n",
              "<a class=\"tag\" href=\"/tag/books/page/1/\">books</a>\n",
              "<a class=\"tag\" href=\"/tag/classic/page/1/\">classic</a>\n",
              "<a class=\"tag\" href=\"/tag/humor/page/1/\">humor</a>\n",
              "</div>\n",
              "</div>\n",
              "<div class=\"quote\" itemscope=\"\" itemtype=\"http://schema.org/CreativeWork\">\n",
              "<span class=\"text\" itemprop=\"text\">“Imperfection is beauty, madness is genius and it's better to be absolutely ridiculous than absolutely boring.”</span>\n",
              "<span>by <small class=\"author\" itemprop=\"author\">Marilyn Monroe</small>\n",
              "<a href=\"/author/Marilyn-Monroe\">(about)</a>\n",
              "</span>\n",
              "<div class=\"tags\">\n",
              "            Tags:\n",
              "            <meta class=\"keywords\" content=\"be-yourself,inspirational\" itemprop=\"keywords\"/>\n",
              "<a class=\"tag\" href=\"/tag/be-yourself/page/1/\">be-yourself</a>\n",
              "<a class=\"tag\" href=\"/tag/inspirational/page/1/\">inspirational</a>\n",
              "</div>\n",
              "</div>\n",
              "<div class=\"quote\" itemscope=\"\" itemtype=\"http://schema.org/CreativeWork\">\n",
              "<span class=\"text\" itemprop=\"text\">“Try not to become a man of success. Rather become a man of value.”</span>\n",
              "<span>by <small class=\"author\" itemprop=\"author\">Albert Einstein</small>\n",
              "<a href=\"/author/Albert-Einstein\">(about)</a>\n",
              "</span>\n",
              "<div class=\"tags\">\n",
              "            Tags:\n",
              "            <meta class=\"keywords\" content=\"adulthood,success,value\" itemprop=\"keywords\"/>\n",
              "<a class=\"tag\" href=\"/tag/adulthood/page/1/\">adulthood</a>\n",
              "<a class=\"tag\" href=\"/tag/success/page/1/\">success</a>\n",
              "<a class=\"tag\" href=\"/tag/value/page/1/\">value</a>\n",
              "</div>\n",
              "</div>\n",
              "<div class=\"quote\" itemscope=\"\" itemtype=\"http://schema.org/CreativeWork\">\n",
              "<span class=\"text\" itemprop=\"text\">“It is better to be hated for what you are than to be loved for what you are not.”</span>\n",
              "<span>by <small class=\"author\" itemprop=\"author\">André Gide</small>\n",
              "<a href=\"/author/Andre-Gide\">(about)</a>\n",
              "</span>\n",
              "<div class=\"tags\">\n",
              "            Tags:\n",
              "            <meta class=\"keywords\" content=\"life,love\" itemprop=\"keywords\"/>\n",
              "<a class=\"tag\" href=\"/tag/life/page/1/\">life</a>\n",
              "<a class=\"tag\" href=\"/tag/love/page/1/\">love</a>\n",
              "</div>\n",
              "</div>\n",
              "<div class=\"quote\" itemscope=\"\" itemtype=\"http://schema.org/CreativeWork\">\n",
              "<span class=\"text\" itemprop=\"text\">“I have not failed. I've just found 10,000 ways that won't work.”</span>\n",
              "<span>by <small class=\"author\" itemprop=\"author\">Thomas A. Edison</small>\n",
              "<a href=\"/author/Thomas-A-Edison\">(about)</a>\n",
              "</span>\n",
              "<div class=\"tags\">\n",
              "            Tags:\n",
              "            <meta class=\"keywords\" content=\"edison,failure,inspirational,paraphrased\" itemprop=\"keywords\"/>\n",
              "<a class=\"tag\" href=\"/tag/edison/page/1/\">edison</a>\n",
              "<a class=\"tag\" href=\"/tag/failure/page/1/\">failure</a>\n",
              "<a class=\"tag\" href=\"/tag/inspirational/page/1/\">inspirational</a>\n",
              "<a class=\"tag\" href=\"/tag/paraphrased/page/1/\">paraphrased</a>\n",
              "</div>\n",
              "</div>\n",
              "<div class=\"quote\" itemscope=\"\" itemtype=\"http://schema.org/CreativeWork\">\n",
              "<span class=\"text\" itemprop=\"text\">“A woman is like a tea bag; you never know how strong it is until it's in hot water.”</span>\n",
              "<span>by <small class=\"author\" itemprop=\"author\">Eleanor Roosevelt</small>\n",
              "<a href=\"/author/Eleanor-Roosevelt\">(about)</a>\n",
              "</span>\n",
              "<div class=\"tags\">\n",
              "            Tags:\n",
              "            <meta class=\"keywords\" content=\"misattributed-eleanor-roosevelt\" itemprop=\"keywords\"/>\n",
              "<a class=\"tag\" href=\"/tag/misattributed-eleanor-roosevelt/page/1/\">misattributed-eleanor-roosevelt</a>\n",
              "</div>\n",
              "</div>\n",
              "<div class=\"quote\" itemscope=\"\" itemtype=\"http://schema.org/CreativeWork\">\n",
              "<span class=\"text\" itemprop=\"text\">“A day without sunshine is like, you know, night.”</span>\n",
              "<span>by <small class=\"author\" itemprop=\"author\">Steve Martin</small>\n",
              "<a href=\"/author/Steve-Martin\">(about)</a>\n",
              "</span>\n",
              "<div class=\"tags\">\n",
              "            Tags:\n",
              "            <meta class=\"keywords\" content=\"humor,obvious,simile\" itemprop=\"keywords\"/>\n",
              "<a class=\"tag\" href=\"/tag/humor/page/1/\">humor</a>\n",
              "<a class=\"tag\" href=\"/tag/obvious/page/1/\">obvious</a>\n",
              "<a class=\"tag\" href=\"/tag/simile/page/1/\">simile</a>\n",
              "</div>\n",
              "</div>\n",
              "<nav>\n",
              "<ul class=\"pager\">\n",
              "<li class=\"next\">\n",
              "<a href=\"/page/2/\">Next <span aria-hidden=\"true\">→</span></a>\n",
              "</li>\n",
              "</ul>\n",
              "</nav>\n",
              "</div>\n",
              "<div class=\"col-md-4 tags-box\">\n",
              "<h2>Top Ten tags</h2>\n",
              "<span class=\"tag-item\">\n",
              "<a class=\"tag\" href=\"/tag/love/\" style=\"font-size: 28px\">love</a>\n",
              "</span>\n",
              "<span class=\"tag-item\">\n",
              "<a class=\"tag\" href=\"/tag/inspirational/\" style=\"font-size: 26px\">inspirational</a>\n",
              "</span>\n",
              "<span class=\"tag-item\">\n",
              "<a class=\"tag\" href=\"/tag/life/\" style=\"font-size: 26px\">life</a>\n",
              "</span>\n",
              "<span class=\"tag-item\">\n",
              "<a class=\"tag\" href=\"/tag/humor/\" style=\"font-size: 24px\">humor</a>\n",
              "</span>\n",
              "<span class=\"tag-item\">\n",
              "<a class=\"tag\" href=\"/tag/books/\" style=\"font-size: 22px\">books</a>\n",
              "</span>\n",
              "<span class=\"tag-item\">\n",
              "<a class=\"tag\" href=\"/tag/reading/\" style=\"font-size: 14px\">reading</a>\n",
              "</span>\n",
              "<span class=\"tag-item\">\n",
              "<a class=\"tag\" href=\"/tag/friendship/\" style=\"font-size: 10px\">friendship</a>\n",
              "</span>\n",
              "<span class=\"tag-item\">\n",
              "<a class=\"tag\" href=\"/tag/friends/\" style=\"font-size: 8px\">friends</a>\n",
              "</span>\n",
              "<span class=\"tag-item\">\n",
              "<a class=\"tag\" href=\"/tag/truth/\" style=\"font-size: 8px\">truth</a>\n",
              "</span>\n",
              "<span class=\"tag-item\">\n",
              "<a class=\"tag\" href=\"/tag/simile/\" style=\"font-size: 6px\">simile</a>\n",
              "</span>\n",
              "</div>\n",
              "</div>\n",
              "</div>\n",
              "<footer class=\"footer\">\n",
              "<div class=\"container\">\n",
              "<p class=\"text-muted\">\n",
              "                Quotes by: <a href=\"https://www.goodreads.com/quotes\">GoodReads.com</a>\n",
              "</p>\n",
              "<p class=\"copyright\">\n",
              "                Made with <span class=\"zyte\">❤</span> by <a class=\"zyte\" href=\"https://www.zyte.com\">Zyte</a>\n",
              "</p>\n",
              "</div>\n",
              "</footer>\n",
              "</body>\n",
              "</html>"
            ]
          },
          "metadata": {},
          "execution_count": 9
        }
      ]
    },
    {
      "cell_type": "code",
      "source": [
        "res"
      ],
      "metadata": {
        "colab": {
          "base_uri": "https://localhost:8080/"
        },
        "id": "LR4J0reBdXTn",
        "outputId": "3deabbac-fe01-4c0f-ccc4-abd442dd9319"
      },
      "execution_count": 10,
      "outputs": [
        {
          "output_type": "execute_result",
          "data": {
            "text/plain": [
              "<Response [200]>"
            ]
          },
          "metadata": {},
          "execution_count": 10
        }
      ]
    },
    {
      "cell_type": "code",
      "source": [
        "soup.find('span' , class_ = 'text').text"
      ],
      "metadata": {
        "colab": {
          "base_uri": "https://localhost:8080/",
          "height": 53
        },
        "id": "wzPTFifddcF-",
        "outputId": "7bf46b51-4423-447f-a811-0141cdb96ab6"
      },
      "execution_count": 13,
      "outputs": [
        {
          "output_type": "execute_result",
          "data": {
            "text/plain": [
              "'“The world as we have created it is a process of our thinking. It cannot be changed without changing our thinking.”'"
            ],
            "application/vnd.google.colaboratory.intrinsic+json": {
              "type": "string"
            }
          },
          "metadata": {},
          "execution_count": 13
        }
      ]
    },
    {
      "cell_type": "code",
      "source": [
        "print(soup.find('span' , class_ = 'text').text[1:-1])"
      ],
      "metadata": {
        "colab": {
          "base_uri": "https://localhost:8080/"
        },
        "id": "6BtuIG1zeLv5",
        "outputId": "3224c733-0ad4-4c9b-a393-1821fd5fcadd"
      },
      "execution_count": 18,
      "outputs": [
        {
          "output_type": "stream",
          "name": "stdout",
          "text": [
            "The world as we have created it is a process of our thinking. It cannot be changed without changing our thinking.\n"
          ]
        }
      ]
    },
    {
      "cell_type": "code",
      "source": [
        "soup.find_all('span',class_ = 'text')"
      ],
      "metadata": {
        "colab": {
          "base_uri": "https://localhost:8080/"
        },
        "id": "VGUm31sOeW-i",
        "outputId": "84b7d406-b9f0-4215-fc7f-bc7e78670f4b"
      },
      "execution_count": 19,
      "outputs": [
        {
          "output_type": "execute_result",
          "data": {
            "text/plain": [
              "[<span class=\"text\" itemprop=\"text\">“The world as we have created it is a process of our thinking. It cannot be changed without changing our thinking.”</span>,\n",
              " <span class=\"text\" itemprop=\"text\">“It is our choices, Harry, that show what we truly are, far more than our abilities.”</span>,\n",
              " <span class=\"text\" itemprop=\"text\">“There are only two ways to live your life. One is as though nothing is a miracle. The other is as though everything is a miracle.”</span>,\n",
              " <span class=\"text\" itemprop=\"text\">“The person, be it gentleman or lady, who has not pleasure in a good novel, must be intolerably stupid.”</span>,\n",
              " <span class=\"text\" itemprop=\"text\">“Imperfection is beauty, madness is genius and it's better to be absolutely ridiculous than absolutely boring.”</span>,\n",
              " <span class=\"text\" itemprop=\"text\">“Try not to become a man of success. Rather become a man of value.”</span>,\n",
              " <span class=\"text\" itemprop=\"text\">“It is better to be hated for what you are than to be loved for what you are not.”</span>,\n",
              " <span class=\"text\" itemprop=\"text\">“I have not failed. I've just found 10,000 ways that won't work.”</span>,\n",
              " <span class=\"text\" itemprop=\"text\">“A woman is like a tea bag; you never know how strong it is until it's in hot water.”</span>,\n",
              " <span class=\"text\" itemprop=\"text\">“A day without sunshine is like, you know, night.”</span>]"
            ]
          },
          "metadata": {},
          "execution_count": 19
        }
      ]
    },
    {
      "cell_type": "code",
      "source": [
        "for quotes in soup.find_all('span',class_ = 'text'):\n",
        "  print(quotes)\n"
      ],
      "metadata": {
        "colab": {
          "base_uri": "https://localhost:8080/"
        },
        "id": "QgD1QTRae6bn",
        "outputId": "ddbee1a0-b4a0-4ed9-aa88-1755e1bc6d5e"
      },
      "execution_count": 22,
      "outputs": [
        {
          "output_type": "stream",
          "name": "stdout",
          "text": [
            "<span class=\"text\" itemprop=\"text\">“The world as we have created it is a process of our thinking. It cannot be changed without changing our thinking.”</span>\n",
            "<span class=\"text\" itemprop=\"text\">“It is our choices, Harry, that show what we truly are, far more than our abilities.”</span>\n",
            "<span class=\"text\" itemprop=\"text\">“There are only two ways to live your life. One is as though nothing is a miracle. The other is as though everything is a miracle.”</span>\n",
            "<span class=\"text\" itemprop=\"text\">“The person, be it gentleman or lady, who has not pleasure in a good novel, must be intolerably stupid.”</span>\n",
            "<span class=\"text\" itemprop=\"text\">“Imperfection is beauty, madness is genius and it's better to be absolutely ridiculous than absolutely boring.”</span>\n",
            "<span class=\"text\" itemprop=\"text\">“Try not to become a man of success. Rather become a man of value.”</span>\n",
            "<span class=\"text\" itemprop=\"text\">“It is better to be hated for what you are than to be loved for what you are not.”</span>\n",
            "<span class=\"text\" itemprop=\"text\">“I have not failed. I've just found 10,000 ways that won't work.”</span>\n",
            "<span class=\"text\" itemprop=\"text\">“A woman is like a tea bag; you never know how strong it is until it's in hot water.”</span>\n",
            "<span class=\"text\" itemprop=\"text\">“A day without sunshine is like, you know, night.”</span>\n"
          ]
        }
      ]
    },
    {
      "cell_type": "code",
      "source": [
        " for quotes in soup.find_all('span',class_ = 'text'):\n",
        "  print(quotes.text)"
      ],
      "metadata": {
        "colab": {
          "base_uri": "https://localhost:8080/"
        },
        "id": "sTL7EmabfK4w",
        "outputId": "ff7f678b-bf59-4b34-8392-67ae5afee434"
      },
      "execution_count": 26,
      "outputs": [
        {
          "output_type": "stream",
          "name": "stdout",
          "text": [
            "“The world as we have created it is a process of our thinking. It cannot be changed without changing our thinking.”\n",
            "“It is our choices, Harry, that show what we truly are, far more than our abilities.”\n",
            "“There are only two ways to live your life. One is as though nothing is a miracle. The other is as though everything is a miracle.”\n",
            "“The person, be it gentleman or lady, who has not pleasure in a good novel, must be intolerably stupid.”\n",
            "“Imperfection is beauty, madness is genius and it's better to be absolutely ridiculous than absolutely boring.”\n",
            "“Try not to become a man of success. Rather become a man of value.”\n",
            "“It is better to be hated for what you are than to be loved for what you are not.”\n",
            "“I have not failed. I've just found 10,000 ways that won't work.”\n",
            "“A woman is like a tea bag; you never know how strong it is until it's in hot water.”\n",
            "“A day without sunshine is like, you know, night.”\n"
          ]
        }
      ]
    },
    {
      "cell_type": "code",
      "source": [
        " for quotes in soup.find_all('span',class_ = 'text'):\n",
        "  print(quotes.text[1:-1])\n",
        "  print()"
      ],
      "metadata": {
        "colab": {
          "base_uri": "https://localhost:8080/"
        },
        "id": "CO0XSWsRfPQj",
        "outputId": "cac6bdab-d376-43b3-9da1-c4843dd6a772"
      },
      "execution_count": 27,
      "outputs": [
        {
          "output_type": "stream",
          "name": "stdout",
          "text": [
            "The world as we have created it is a process of our thinking. It cannot be changed without changing our thinking.\n",
            "\n",
            "It is our choices, Harry, that show what we truly are, far more than our abilities.\n",
            "\n",
            "There are only two ways to live your life. One is as though nothing is a miracle. The other is as though everything is a miracle.\n",
            "\n",
            "The person, be it gentleman or lady, who has not pleasure in a good novel, must be intolerably stupid.\n",
            "\n",
            "Imperfection is beauty, madness is genius and it's better to be absolutely ridiculous than absolutely boring.\n",
            "\n",
            "Try not to become a man of success. Rather become a man of value.\n",
            "\n",
            "It is better to be hated for what you are than to be loved for what you are not.\n",
            "\n",
            "I have not failed. I've just found 10,000 ways that won't work.\n",
            "\n",
            "A woman is like a tea bag; you never know how strong it is until it's in hot water.\n",
            "\n",
            "A day without sunshine is like, you know, night.\n",
            "\n"
          ]
        }
      ]
    },
    {
      "cell_type": "code",
      "source": [
        " quotes =[]\n",
        " for quotes in soup.find_all('span',class_ = 'text'):\n",
        "  quotes.append(quotes.text[1:-1])"
      ],
      "metadata": {
        "id": "PfONF6KQoK34"
      },
      "execution_count": 30,
      "outputs": []
    },
    {
      "cell_type": "code",
      "source": [
        "quotes"
      ],
      "metadata": {
        "colab": {
          "base_uri": "https://localhost:8080/"
        },
        "id": "t67nuov5pud9",
        "outputId": "9e63d757-f7be-4cdd-a30a-359e78e3a038"
      },
      "execution_count": 31,
      "outputs": [
        {
          "output_type": "execute_result",
          "data": {
            "text/plain": [
              "<span class=\"text\" itemprop=\"text\">“A day without sunshine is like, you know, night.”A day without sunshine is like, you know, night.A day without sunshine is like, you know, night.”A day without sunshine is like, you know, night</span>"
            ]
          },
          "metadata": {},
          "execution_count": 31
        }
      ]
    },
    {
      "cell_type": "code",
      "source": [],
      "metadata": {
        "id": "8d6CUXUZpvOp"
      },
      "execution_count": null,
      "outputs": []
    }
  ]
}