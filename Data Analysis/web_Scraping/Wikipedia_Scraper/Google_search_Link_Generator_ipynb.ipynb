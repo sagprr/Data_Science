{
  "nbformat": 4,
  "nbformat_minor": 0,
  "metadata": {
    "colab": {
      "provenance": []
    },
    "kernelspec": {
      "name": "python3",
      "display_name": "Python 3"
    },
    "language_info": {
      "name": "python"
    }
  },
  "cells": [
    {
      "cell_type": "code",
      "execution_count": 1,
      "metadata": {
        "id": "Z8zQigXf4mtK"
      },
      "outputs": [],
      "source": [
        "import requests\n",
        "from bs4 import BeautifulSoup"
      ]
    },
    {
      "cell_type": "code",
      "source": [
        "title = str(input('Enter Title:')).replace(' ','+')\n",
        "link = \"https://www.google.com/search?q=\" + title + 'wikipedia'\n",
        "print(link)"
      ],
      "metadata": {
        "id": "FgO1F3nS42rm",
        "colab": {
          "base_uri": "https://localhost:8080/"
        },
        "outputId": "b6e4afff-61d7-4712-9c02-54f1be194530"
      },
      "execution_count": 2,
      "outputs": [
        {
          "output_type": "stream",
          "name": "stdout",
          "text": [
            "Enter Title:India\n",
            "https://www.google.com/search?q=Indiawikipedia\n"
          ]
        }
      ]
    },
    {
      "cell_type": "code",
      "source": [
        "res = requests.get(link)\n",
        "soup = BeautifulSoup(res.text,'html.parser')"
      ],
      "metadata": {
        "id": "B0sWP5_443sa"
      },
      "execution_count": 3,
      "outputs": []
    },
    {
      "cell_type": "code",
      "source": [],
      "metadata": {
        "id": "tuWsIT_r47V4"
      },
      "execution_count": 3,
      "outputs": []
    },
    {
      "cell_type": "code",
      "source": [
        "corpus = ''\n",
        "\n",
        "for p in soup.find_all('p'):\n",
        "    corpus += p.text\n",
        "    corpus += '\\n'\n",
        "\n",
        "corpus = corpus.strip()\n",
        "corpus_f = corpus.format()"
      ],
      "metadata": {
        "id": "BdO09pzd5DOW"
      },
      "execution_count": 4,
      "outputs": []
    },
    {
      "cell_type": "code",
      "source": [],
      "metadata": {
        "colab": {
          "base_uri": "https://localhost:8080/"
        },
        "id": "NGGY86OA5HvN",
        "outputId": "e41aff9a-e931-48ee-dc9e-5846a84089aa"
      },
      "execution_count": 5,
      "outputs": [
        {
          "output_type": "stream",
          "name": "stdout",
          "text": [
            "\n"
          ]
        }
      ]
    },
    {
      "cell_type": "code",
      "source": [
        "for i in soup.find_all('p'):\n",
        "  print(i.text)\n",
        "  print(\"--\"*100)"
      ],
      "metadata": {
        "id": "vLaKnXpA5UT8"
      },
      "execution_count": 7,
      "outputs": []
    },
    {
      "cell_type": "code",
      "source": [
        "corpus.strip()"
      ],
      "metadata": {
        "colab": {
          "base_uri": "https://localhost:8080/",
          "height": 35
        },
        "id": "jR_DJEnN7uR1",
        "outputId": "3f378361-76e9-4bbd-b817-284e038a715e"
      },
      "execution_count": 8,
      "outputs": [
        {
          "output_type": "execute_result",
          "data": {
            "text/plain": [
              "''"
            ],
            "application/vnd.google.colaboratory.intrinsic+json": {
              "type": "string"
            }
          },
          "metadata": {},
          "execution_count": 8
        }
      ]
    },
    {
      "cell_type": "code",
      "source": [
        "print(corpus)"
      ],
      "metadata": {
        "colab": {
          "base_uri": "https://localhost:8080/"
        },
        "id": "4sBXTeOj8nrd",
        "outputId": "5b61bb19-66b9-43ac-f72d-db45042ae534"
      },
      "execution_count": 9,
      "outputs": [
        {
          "output_type": "stream",
          "name": "stdout",
          "text": [
            "\n"
          ]
        }
      ]
    },
    {
      "cell_type": "code",
      "source": [
        "for i in range (3,365):\n",
        "  corpus = corpus.replace('['+str(i)+']','')"
      ],
      "metadata": {
        "id": "N1O7KLeQ8zXY"
      },
      "execution_count": 10,
      "outputs": []
    },
    {
      "cell_type": "code",
      "source": [
        "print(corpus)"
      ],
      "metadata": {
        "colab": {
          "base_uri": "https://localhost:8080/"
        },
        "id": "hvSmNL1O9C0u",
        "outputId": "73ea820b-9282-4dc3-b733-30f602dbcc7a"
      },
      "execution_count": 11,
      "outputs": [
        {
          "output_type": "stream",
          "name": "stdout",
          "text": [
            "\n"
          ]
        }
      ]
    },
    {
      "cell_type": "code",
      "source": [
        "fd = open('india'+'.txt','w')\n",
        "fd.write(corpus)\n",
        "fd.close()"
      ],
      "metadata": {
        "id": "rQwbzWOB9nkf"
      },
      "execution_count": 12,
      "outputs": []
    },
    {
      "cell_type": "code",
      "source": [],
      "metadata": {
        "id": "qy1E1Rv4-seb"
      },
      "execution_count": 12,
      "outputs": []
    },
    {
      "cell_type": "code",
      "source": [],
      "metadata": {
        "id": "u9SztJwe-B5I"
      },
      "execution_count": 12,
      "outputs": []
    }
  ]
}