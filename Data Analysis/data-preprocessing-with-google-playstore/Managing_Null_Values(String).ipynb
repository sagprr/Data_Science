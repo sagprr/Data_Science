{
  "nbformat": 4,
  "nbformat_minor": 0,
  "metadata": {
    "colab": {
      "provenance": []
    },
    "kernelspec": {
      "name": "python3",
      "display_name": "Python 3"
    },
    "language_info": {
      "name": "python"
    }
  },
  "cells": [
    {
      "cell_type": "code",
      "execution_count": 2,
      "metadata": {
        "colab": {
          "base_uri": "https://localhost:8080/"
        },
        "id": "9C5G1ZRqpGoq",
        "outputId": "b39f55a5-ad29-4fa7-c60a-05e673b26652"
      },
      "outputs": [
        {
          "output_type": "stream",
          "name": "stdout",
          "text": [
            "   Country   Age   Salary Purchased\n",
            "0   France  44.0  72000.0       Yes\n",
            "1    Spain  27.0  48000.0       Yes\n",
            "2      NaN  30.0  54000.0       NaN\n",
            "3    Spain  38.0  61000.0        No\n",
            "4  Germany  40.0      NaN       Yes\n",
            "5   France  35.0  58000.0       Yes\n",
            "6    Spain   NaN  52000.0        No\n",
            "7   France  48.0  79000.0       Yes\n",
            "8  Germany  50.0  83000.0        No\n",
            "9   France  37.0  67000.0       Yes\n"
          ]
        }
      ],
      "source": [
        "import pandas as pd\n",
        "df=pd.read_csv('Data.csv')\n",
        "print(df)"
      ]
    },
    {
      "cell_type": "code",
      "source": [
        "import numpy as np\n",
        "from sklearn.impute import SimpleImputer\n",
        "imputer = SimpleImputer(missing_values = np.nan, strategy = 'mean')\n",
        "df.iloc[:,1:3]=imputer.fit_transform(df.iloc[:,1:3].values)"
      ],
      "metadata": {
        "id": "LK42F18qpt6J"
      },
      "execution_count": 4,
      "outputs": []
    },
    {
      "cell_type": "code",
      "source": [
        "print(df)"
      ],
      "metadata": {
        "colab": {
          "base_uri": "https://localhost:8080/"
        },
        "id": "F-zn0ey9p1VQ",
        "outputId": "1ecc9343-794b-4f1a-8510-abce2ac272f0"
      },
      "execution_count": 5,
      "outputs": [
        {
          "output_type": "stream",
          "name": "stdout",
          "text": [
            "   Country   Age   Salary Purchased\n",
            "0   France  44.0  72000.0       Yes\n",
            "1    Spain  27.0  48000.0       Yes\n",
            "2      NaN  30.0  54000.0       NaN\n",
            "3    Spain  38.0  61000.0        No\n",
            "4  Germany  40.0  48000.0       Yes\n",
            "5   France  35.0  58000.0       Yes\n",
            "6    Spain  27.0  52000.0        No\n",
            "7   France  48.0  79000.0       Yes\n",
            "8  Germany  50.0  83000.0        No\n",
            "9   France  37.0  67000.0       Yes\n"
          ]
        }
      ]
    },
    {
      "cell_type": "code",
      "source": [
        "print(df.isnull().sum())\n"
      ],
      "metadata": {
        "colab": {
          "base_uri": "https://localhost:8080/"
        },
        "id": "bmXJlpdop7oV",
        "outputId": "477c3c9f-eafd-4b47-9498-17b32c95ede2"
      },
      "execution_count": 6,
      "outputs": [
        {
          "output_type": "stream",
          "name": "stdout",
          "text": [
            "Country      1\n",
            "Age          0\n",
            "Salary       0\n",
            "Purchased    1\n",
            "dtype: int64\n"
          ]
        }
      ]
    },
    {
      "cell_type": "code",
      "source": [
        "\n",
        "from sklearn.impute import SimpleImputer"
      ],
      "metadata": {
        "id": "2KsFyypEsRFc"
      },
      "execution_count": 7,
      "outputs": []
    },
    {
      "cell_type": "code",
      "source": [
        "imputer = SimpleImputer(missing_values = np.nan, strategy = 'most_frequent')\n",
        "\n",
        "imputer.fit(df.iloc[:,:].values)\n",
        "\n",
        "df.iloc[:,:] = imputer.transform(df.iloc[:,:].values)"
      ],
      "metadata": {
        "id": "8bWM4VGkFOdT"
      },
      "execution_count": 11,
      "outputs": []
    },
    {
      "cell_type": "code",
      "source": [
        "print(df)"
      ],
      "metadata": {
        "colab": {
          "base_uri": "https://localhost:8080/"
        },
        "id": "LuvvLQDGFSAC",
        "outputId": "5f64ceb7-5aa3-4462-a044-df4529e28d7f"
      },
      "execution_count": 12,
      "outputs": [
        {
          "output_type": "stream",
          "name": "stdout",
          "text": [
            "   Country   Age   Salary Purchased\n",
            "0   France  44.0  72000.0       Yes\n",
            "1    Spain  27.0  48000.0       Yes\n",
            "2   France  30.0  54000.0       Yes\n",
            "3    Spain  38.0  61000.0        No\n",
            "4  Germany  40.0  48000.0       Yes\n",
            "5   France  35.0  58000.0       Yes\n",
            "6    Spain  27.0  52000.0        No\n",
            "7   France  48.0  79000.0       Yes\n",
            "8  Germany  50.0  83000.0        No\n",
            "9   France  37.0  67000.0       Yes\n"
          ]
        }
      ]
    },
    {
      "cell_type": "code",
      "source": [],
      "metadata": {
        "id": "LWvB46JWFTEq"
      },
      "execution_count": 12,
      "outputs": []
    }
  ]
}